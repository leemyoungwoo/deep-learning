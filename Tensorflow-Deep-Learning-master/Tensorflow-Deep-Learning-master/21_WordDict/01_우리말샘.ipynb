{
 "cells": [
  {
   "cell_type": "markdown",
   "metadata": {},
   "source": [
    "# 우리말 샘 이용하기\n",
    "## 1. 우리말샘 오픈 API 서비스 \n",
    "- 우리말샘 오픈 API는 검색 플랫폼을 외부에 공개하여 다양하고 재미있는 서비스 및 애플리케이션을 개발할 수 있도록 외부 개발자와 사용자들이 공유하는 프로그램\n",
    "- 우리말샘에 구축된 양질의 사전 정보를 개인 또는 기관에서 오픈 API를 이용해 자유롭게 이용할 수 있도록 제공\n",
    "\n",
    "## 2. 우리말샘 오픈 API 서비스 인증키 발급\n",
    "## 3. 우리말샘 오픈 API 서비스 이용"
   ]
  },
  {
   "cell_type": "code",
   "execution_count": 1,
   "metadata": {},
   "outputs": [],
   "source": [
    "from urllib.request import urlopen\n",
    "from urllib.parse import quote, unquote"
   ]
  },
  {
   "cell_type": "markdown",
   "metadata": {},
   "source": [
    "### url 한글 처리\n",
    "- URL에 사용할 수 있는 문자 : 영문자, 숫자, 몇몇 기호 뿐\n",
    "- URL에서 Ascii 코드가 아닌 문자들을 전송하기 위해서는 퍼센트 인코딩(percent encoding)이라는 형식으로 바꾸어야 함\n",
    "- urllib.parse.quote() / urllib.parse.unquote()"
   ]
  },
  {
   "cell_type": "code",
   "execution_count": 2,
   "metadata": {},
   "outputs": [
    {
     "name": "stdout",
     "output_type": "stream",
     "text": [
      "%ED%95%9C%EA%B8%80 한글\n"
     ]
    }
   ],
   "source": [
    "kor = quote('한글')\n",
    "print(kor, unquote(kor))"
   ]
  },
  {
   "cell_type": "code",
   "execution_count": 3,
   "metadata": {},
   "outputs": [],
   "source": [
    "def makeUrl(apiKey, word):\n",
    "    url = 'https://opendict.korean.go.kr/api/search?'\n",
    "    url += 'certkey_no=1036&key='\n",
    "    url += apiKey         # 우리말 샘 개발 API Key\n",
    "    url += '&target_type=search&part=word&q='\n",
    "    url += quote(word)    # for percent encoding (한글 처리)\n",
    "    url += '&sort=dict&start=1&num=10'\n",
    "    return url"
   ]
  },
  {
   "cell_type": "code",
   "execution_count": 4,
   "metadata": {},
   "outputs": [],
   "source": [
    "key = '********'\n",
    "word = '정보'\n",
    "urlStr = makeUrl(key, word)\n",
    "xml = urlopen(urlStr).read()"
   ]
  },
  {
   "cell_type": "code",
   "execution_count": 5,
   "metadata": {},
   "outputs": [
    {
     "data": {
      "text/plain": [
       "b'<?xml version=\"1.0\" encoding=\"UTF-8\"?>\\n        \\n            \\n            \\t\\n            \\t\\t\\n            \\t <channel>\\n\\t\\t\\t        <title>\\xec\\x9a\\xb0\\xeb\\xa6\\xac\\xeb\\xa7\\x90\\xec\\x83\\x98 \\xea\\xb0\\x9c\\xeb\\xb0\\x9c \\xec\\xa7\\x80\\xec\\x9b\\x90(Open API) - \\xec\\x82\\xac\\xec\\xa0\\x84 \\xec\\x96\\xb4\\xed\\x9c\\x98 \\xea\\xb2\\x80\\xec\\x83\\x89</title>\\n\\t\\t\\t        <link>http://opendict.korean.go.kr</link>\\n\\t\\t\\t        <description>\\xec\\x9a\\xb0\\xeb\\xa6\\xac\\xeb\\xa7\\x90\\xec\\x83\\x98 \\xea\\xb0\\x9c\\xeb\\xb0\\x9c \\xec\\xa7\\x80\\xec\\x9b\\x90(Open API) - \\xec\\x82\\xac\\xec\\xa0\\x84 \\xec\\x96\\xb4\\xed\\x9c\\x98 \\xea\\xb2\\x80\\xec\\x83\\x89 \\xea\\xb2\\xb0\\xea\\xb3\\xbc</description>\\n\\t\\t\\t        <lastBuildDate>20191103125351</lastBuildDate> \\n\\t\\t\\t        <total>1409</total>\\n\\t\\t\\t        <start>1</start>\\n\\t\\t\\t        <num>10</num>    \\n                \\n                    <item>\\n                        <word>\\xec\\xa0\\x95\\xeb\\xb3\\xb4</word>                        \\n                       \\t\\n\\t                       \\t \\n\\t                       \\t \\n\\t                       \\t \\n\\t                       \\t \\n\\t                       \\t \\n\\t                       \\t \\n\\t                       \\t\\n\\t                       \\t\\n\\t\\t\\t\\t\\t\\t\\t\\n\\t\\t\\t\\t\\t\\t\\t\\t \\n\\t\\t\\t\\t\\t\\t\\t\\n\\t\\t\\t\\t\\t\\t\\t\\n\\t\\t\\t\\t\\t\\t\\n\\t\\t\\t\\t\\t\\t\\t\\n\\t\\t\\t\\t\\t\\t\\n\\t\\t\\t\\t\\t\\t\\t\\n                       \\t<sense>\\n                       \\t\\t<target_code>470937</target_code>\\n                       \\t\\t<sense_no>001</sense_no>\\n                       \\t\\t<definition>\\xeb\\xb3\\xb4\\xed\\x86\\xb5 \\xed\\x96\\x89\\xea\\xb5\\xb0\\xec\\x9d\\x98 \\xea\\xb1\\xb8\\xec\\x9d\\x8c\\xea\\xb1\\xb8\\xec\\x9d\\xb4. \\xeb\\xb3\\xb4\\xed\\x86\\xb5 \\xea\\xb1\\xb8\\xec\\x9d\\x8c\\xeb\\xb3\\xb4\\xeb\\x8b\\xa4 \\xed\\x9e\\x98 \\xec\\x9e\\x88\\xea\\xb3\\xa0 \\xec\\xa0\\x88\\xeb\\x8f\\x84 \\xec\\x9e\\x88\\xea\\xb2\\x8c \\xed\\x8c\\x94\\xea\\xb3\\xbc \\xeb\\x8b\\xa4\\xeb\\xa6\\xac\\xeb\\xa5\\xbc \\xec\\x9b\\x80\\xec\\xa7\\x81\\xec\\x9d\\xb4\\xeb\\xa9\\xb0 \\xea\\xb1\\xb7\\xeb\\x8a\\x94 \\xea\\xb1\\xb8\\xec\\x9d\\x8c\\xec\\x9d\\xb4\\xeb\\x8b\\xa4.</definition >\\n\\t\\t\\t\\t\\t\\t\\t\\n\\t\\t\\t\\t\\t\\t\\t<pos>\\xeb\\xaa\\x85\\xec\\x82\\xac</pos>\\n\\t\\t\\t\\t\\t\\t\\t\\n\\t\\t\\t\\t\\t\\t\\t<link>http://opendict.korean.go.kr/dictionary/view?sense_no=470937</link>\\n\\t\\t\\t\\t\\t\\t\\t<type>\\xec\\x9d\\xbc\\xeb\\xb0\\x98\\xec\\x96\\xb4</type>\\n\\t\\t\\t\\t\\t\\t\\t\\n\\t\\t\\t\\t\\t\\t\\t\\n\\t\\t\\t\\t\\t\\t\\t<origin>\\xe6\\xad\\xa3\\xe6\\xad\\xa5</origin>\\n\\t\\t\\t\\t\\t\\t\\t\\n\\t\\t\\t\\t\\t\\t\\t\\n\\t\\t\\t\\t\\t\\t\\t\\n\\t\\t\\t\\t\\t\\t</sense>\\n\\t\\t\\t\\t\\t\\t\\n                    </item>\\n                \\n                    <item>\\n                        <word>\\xec\\xa0\\x95\\xeb\\xb3\\xb4</word>                        \\n                       \\t\\n\\t                       \\t \\n\\t                       \\t \\n\\t                       \\t \\n\\t                       \\t \\n\\t                       \\t \\n\\t                       \\t \\n\\t                       \\t\\n\\t                       \\t\\n\\t\\t\\t\\t\\t\\t\\t\\n\\t\\t\\t\\t\\t\\t\\t\\t \\n\\t\\t\\t\\t\\t\\t\\t\\n\\t\\t\\t\\t\\t\\t\\t\\n\\t\\t\\t\\t\\t\\t\\n\\t\\t\\t\\t\\t\\t\\t\\n\\t\\t\\t\\t\\t\\t\\n\\t\\t\\t\\t\\t\\t\\t\\n                       \\t<sense>\\n                       \\t\\t<target_code>270471</target_code>\\n                       \\t\\t<sense_no>005</sense_no>\\n                       \\t\\t<definition>\\xec\\xa0\\x95\\xed\\x99\\x95\\xed\\x95\\x9c \\xec\\x86\\x8c\\xec\\x8b\\x9d.</definition >\\n\\t\\t\\t\\t\\t\\t\\t\\n\\t\\t\\t\\t\\t\\t\\t<pos>\\xeb\\xaa\\x85\\xec\\x82\\xac</pos>\\n\\t\\t\\t\\t\\t\\t\\t\\n\\t\\t\\t\\t\\t\\t\\t<link>http://opendict.korean.go.kr/dictionary/view?sense_no=270471</link>\\n\\t\\t\\t\\t\\t\\t\\t<type>\\xec\\x9d\\xbc\\xeb\\xb0\\x98\\xec\\x96\\xb4</type>\\n\\t\\t\\t\\t\\t\\t\\t\\n\\t\\t\\t\\t\\t\\t\\t\\n\\t\\t\\t\\t\\t\\t\\t<origin>\\xe6\\xad\\xa3\\xe5\\xa0\\xb1</origin>\\n\\t\\t\\t\\t\\t\\t\\t\\n\\t\\t\\t\\t\\t\\t\\t\\n\\t\\t\\t\\t\\t\\t\\t\\n\\t\\t\\t\\t\\t\\t</sense>\\n\\t\\t\\t\\t\\t\\t\\n                    </item>\\n                \\n                    <item>\\n                        <word>\\xec\\xa0\\x95\\xeb\\xb3\\xb4</word>                        \\n                       \\t\\n\\t                       \\t \\n\\t                       \\t \\n\\t                       \\t \\n\\t                       \\t \\n\\t                       \\t \\n\\t                       \\t \\n\\t                       \\t\\n\\t                       \\t\\n\\t\\t\\t\\t\\t\\t\\t\\n\\t\\t\\t\\t\\t\\t\\t\\t \\n\\t\\t\\t\\t\\t\\t\\t\\n\\t\\t\\t\\t\\t\\t\\t\\n\\t\\t\\t\\t\\t\\t\\n\\t\\t\\t\\t\\t\\t\\t\\n\\t\\t\\t\\t\\t\\t\\n\\t\\t\\t\\t\\t\\t\\t\\n                       \\t<sense>\\n                       \\t\\t<target_code>434016</target_code>\\n                       \\t\\t<sense_no>006</sense_no>\\n                       \\t\\t<definition>\\xeb\\x95\\x85 \\xeb\\x84\\x93\\xec\\x9d\\xb4\\xec\\x9d\\x98 \\xeb\\x8b\\xa8\\xec\\x9c\\x84. \\xec\\xa0\\x95(\\xe7\\x94\\xba)\\xec\\x9c\\xbc\\xeb\\xa1\\x9c \\xeb\\x81\\x9d\\xeb\\x82\\x98\\xea\\xb3\\xa0 \\xec\\x9a\\xb0\\xec\\x88\\x98\\xeb\\xa6\\xac\\xea\\xb0\\x80 \\xec\\x97\\x86\\xec\\x9d\\x84 \\xeb\\x95\\x8c \\xec\\x93\\xb4\\xeb\\x8b\\xa4. 1\\xec\\xa0\\x95\\xeb\\xb3\\xb4\\xeb\\x8a\\x94 3,000\\xed\\x8f\\x89\\xec\\x9c\\xbc\\xeb\\xa1\\x9c \\xec\\x95\\xbd 9,917.4\\xe3\\x8e\\xa1\\xec\\x97\\x90 \\xed\\x95\\xb4\\xeb\\x8b\\xb9\\xed\\x95\\x9c\\xeb\\x8b\\xa4.</definition >\\n\\t\\t\\t\\t\\t\\t\\t\\n\\t\\t\\t\\t\\t\\t\\t<pos>\\xec\\x9d\\x98\\xec\\xa1\\xb4 \\xeb\\xaa\\x85\\xec\\x82\\xac</pos>\\n\\t\\t\\t\\t\\t\\t\\t\\n\\t\\t\\t\\t\\t\\t\\t<link>http://opendict.korean.go.kr/dictionary/view?sense_no=434016</link>\\n\\t\\t\\t\\t\\t\\t\\t<type>\\xec\\x9d\\xbc\\xeb\\xb0\\x98\\xec\\x96\\xb4</type>\\n\\t\\t\\t\\t\\t\\t\\t\\n\\t\\t\\t\\t\\t\\t\\t\\n\\t\\t\\t\\t\\t\\t\\t<origin>\\xe7\\x94\\xba\\xe6\\xad\\xa5</origin>\\n\\t\\t\\t\\t\\t\\t\\t\\n\\t\\t\\t\\t\\t\\t\\t\\n\\t\\t\\t\\t\\t\\t\\t\\n\\t\\t\\t\\t\\t\\t</sense>\\n\\t\\t\\t\\t\\t\\t\\n                    </item>\\n                \\n                    <item>\\n                        <word>\\xec\\xa0\\x95\\xeb\\xb3\\xb4</word>                        \\n                       \\t\\n\\t                       \\t \\n\\t                       \\t \\n\\t                       \\t \\n\\t                       \\t \\n\\t                       \\t \\n\\t                       \\t \\n\\t                       \\t\\n\\t                       \\t\\n\\t\\t\\t\\t\\t\\t\\t\\n\\t\\t\\t\\t\\t\\t\\t\\t \\n\\t\\t\\t\\t\\t\\t\\t\\n\\t\\t\\t\\t\\t\\t\\t\\n\\t\\t\\t\\t\\t\\t\\n\\t\\t\\t\\t\\t\\t\\t\\n\\t\\t\\t\\t\\t\\t\\n\\t\\t\\t\\t\\t\\t\\t\\n                       \\t<sense>\\n                       \\t\\t<target_code>22326</target_code>\\n                       \\t\\t<sense_no>007</sense_no>\\n                       \\t\\t<definition>\\xea\\xb4\\x80\\xec\\xb0\\xb0\\xec\\x9d\\xb4\\xeb\\x82\\x98 \\xec\\xb8\\xa1\\xec\\xa0\\x95\\xec\\x9d\\x84 \\xed\\x86\\xb5\\xed\\x95\\x98\\xec\\x97\\xac \\xec\\x88\\x98\\xec\\xa7\\x91\\xed\\x95\\x9c \\xec\\x9e\\x90\\xeb\\xa3\\x8c\\xeb\\xa5\\xbc \\xec\\x8b\\xa4\\xec\\xa0\\x9c \\xeb\\xac\\xb8\\xec\\xa0\\x9c\\xec\\x97\\x90 \\xeb\\x8f\\x84\\xec\\x9b\\x80\\xec\\x9d\\xb4 \\xeb\\x90\\xa0 \\xec\\x88\\x98 \\xec\\x9e\\x88\\xeb\\x8f\\x84\\xeb\\xa1\\x9d \\xec\\xa0\\x95\\xeb\\xa6\\xac\\xed\\x95\\x9c \\xec\\xa7\\x80\\xec\\x8b\\x9d. \\xeb\\x98\\x90\\xeb\\x8a\\x94 \\xea\\xb7\\xb8 \\xec\\x9e\\x90\\xeb\\xa3\\x8c.</definition >\\n\\t\\t\\t\\t\\t\\t\\t\\n\\t\\t\\t\\t\\t\\t\\t<pos>\\xeb\\xaa\\x85\\xec\\x82\\xac</pos>\\n\\t\\t\\t\\t\\t\\t\\t\\n\\t\\t\\t\\t\\t\\t\\t<link>http://opendict.korean.go.kr/dictionary/view?sense_no=22326</link>\\n\\t\\t\\t\\t\\t\\t\\t<type>\\xec\\x9d\\xbc\\xeb\\xb0\\x98\\xec\\x96\\xb4</type>\\n\\t\\t\\t\\t\\t\\t\\t\\n\\t\\t\\t\\t\\t\\t\\t\\n\\t\\t\\t\\t\\t\\t\\t<origin>\\xe6\\x83\\x85\\xe5\\xa0\\xb1</origin>\\n\\t\\t\\t\\t\\t\\t\\t\\n\\t\\t\\t\\t\\t\\t\\t\\n\\t\\t\\t\\t\\t\\t\\t\\n\\t\\t\\t\\t\\t\\t</sense>\\n\\t\\t\\t\\t\\t\\t\\n\\t                       \\t \\n\\t                       \\t \\n\\t                       \\t \\n\\t                       \\t \\n\\t                       \\t \\n\\t                       \\t \\n\\t                       \\t\\n\\t                       \\t\\n\\t\\t\\t\\t\\t\\t\\t\\n\\t\\t\\t\\t\\t\\t\\t\\t \\n\\t\\t\\t\\t\\t\\t\\t\\n\\t\\t\\t\\t\\t\\t\\t\\n\\t\\t\\t\\t\\t\\t\\t\\t\\n\\t\\t\\t\\t\\t\\t\\t\\t\\t\\n\\t\\t\\t\\t\\t\\t\\t\\t\\t\\t\\n\\t\\t\\t\\t\\t\\t\\t\\t\\t\\n\\t\\t\\t\\t\\t\\t\\t\\t\\n\\t\\t\\t\\t\\t\\t\\t\\n\\t\\t\\t\\t\\t\\t\\n\\t\\t\\t\\t\\t\\t\\t\\n\\t\\t\\t\\t\\t\\t\\n\\t\\t\\t\\t\\t\\t\\t\\n                       \\t<sense>\\n                       \\t\\t<target_code>52963</target_code>\\n                       \\t\\t<sense_no>008</sense_no>\\n                       \\t\\t<definition>\\xec\\x9d\\xbc\\xec\\xb0\\xa8\\xec\\xa0\\x81\\xec\\x9c\\xbc\\xeb\\xa1\\x9c \\xec\\x88\\x98\\xec\\xa7\\x91\\xed\\x95\\x9c \\xec\\xb2\\xa9\\xeb\\xb3\\xb4\\xeb\\xa5\\xbc \\xeb\\xb6\\x84\\xec\\x84\\x9d\\xe3\\x86\\x8d\\xed\\x8f\\x89\\xea\\xb0\\x80\\xed\\x95\\x98\\xec\\x97\\xac \\xec\\x96\\xbb\\xec\\x9d\\x80, \\xec\\xa0\\x81\\xec\\x9d\\x98 \\xec\\x8b\\xa4\\xec\\xa0\\x95\\xec\\x97\\x90 \\xea\\xb4\\x80\\xed\\x95\\x9c \\xea\\xb5\\xac\\xec\\xb2\\xb4\\xec\\xa0\\x81\\xec\\x9d\\xb8 \\xec\\x86\\x8c\\xec\\x8b\\x9d\\xec\\x9d\\xb4\\xeb\\x82\\x98 \\xec\\x9e\\x90\\xeb\\xa3\\x8c.</definition >\\n\\t\\t\\t\\t\\t\\t\\t\\n\\t\\t\\t\\t\\t\\t\\t<pos>\\xeb\\xaa\\x85\\xec\\x82\\xac</pos>\\n\\t\\t\\t\\t\\t\\t\\t\\n\\t\\t\\t\\t\\t\\t\\t<link>http://opendict.korean.go.kr/dictionary/view?sense_no=52963</link>\\n\\t\\t\\t\\t\\t\\t\\t<type>\\xec\\x9d\\xbc\\xeb\\xb0\\x98\\xec\\x96\\xb4</type>\\n\\t\\t\\t\\t\\t\\t\\t\\n\\t\\t\\t\\t\\t\\t\\t<cat>\\xea\\xb5\\xb0\\xec\\x82\\xac</cat>\\n\\t\\t\\t\\t\\t\\t\\t\\n\\t\\t\\t\\t\\t\\t\\t\\n\\t\\t\\t\\t\\t\\t\\t<origin>\\xe6\\x83\\x85\\xe5\\xa0\\xb1</origin>\\n\\t\\t\\t\\t\\t\\t\\t\\n\\t\\t\\t\\t\\t\\t\\t\\n\\t\\t\\t\\t\\t\\t\\t\\n\\t\\t\\t\\t\\t\\t</sense>\\n\\t\\t\\t\\t\\t\\t\\n\\t                       \\t \\n\\t                       \\t \\n\\t                       \\t \\n\\t                       \\t \\n\\t                       \\t \\n\\t                       \\t \\n\\t                       \\t\\n\\t                       \\t\\n\\t\\t\\t\\t\\t\\t\\t\\n\\t\\t\\t\\t\\t\\t\\t\\t \\n\\t\\t\\t\\t\\t\\t\\t\\n\\t\\t\\t\\t\\t\\t\\t\\n\\t\\t\\t\\t\\t\\t\\t\\t\\n\\t\\t\\t\\t\\t\\t\\t\\t\\t\\n\\t\\t\\t\\t\\t\\t\\t\\t\\t\\t\\n\\t\\t\\t\\t\\t\\t\\t\\t\\t\\n\\t\\t\\t\\t\\t\\t\\t\\t\\n\\t\\t\\t\\t\\t\\t\\t\\n\\t\\t\\t\\t\\t\\t\\n\\t\\t\\t\\t\\t\\t\\t\\n\\t\\t\\t\\t\\t\\t\\n\\t\\t\\t\\t\\t\\t\\t\\n                       \\t<sense>\\n                       \\t\\t<target_code>66964</target_code>\\n                       \\t\\t<sense_no>009</sense_no>\\n                       \\t\\t<definition>\\xec\\x96\\xb4\\xeb\\x96\\xa4 \\xec\\x9e\\x90\\xeb\\xa3\\x8c\\xeb\\x82\\x98 \\xec\\x86\\x8c\\xec\\x8b\\x9d\\xec\\x9d\\x84 \\xed\\x86\\xb5\\xed\\x95\\x98\\xec\\x97\\xac \\xec\\x96\\xbb\\xeb\\x8a\\x94 \\xec\\xa7\\x80\\xec\\x8b\\x9d\\xec\\x9d\\xb4\\xeb\\x82\\x98 \\xec\\x83\\x81\\xed\\x83\\x9c\\xec\\x9d\\x98 \\xec\\xb4\\x9d\\xeb\\x9f\\x89. \\xec\\xa0\\x95\\xeb\\xb3\\xb4 \\xec\\x9b\\x90\\xec\\xb2\\x9c\\xec\\x97\\x90\\xec\\x84\\x9c \\xeb\\xb0\\x9c\\xec\\x83\\x9d\\xed\\x95\\x98\\xeb\\xa9\\xb0 \\xea\\xb5\\xac\\xec\\xb2\\xb4\\xec\\xa0\\x81 \\xec\\x96\\x91, \\xec\\xa6\\x89 \\xec\\xa0\\x95\\xeb\\xb3\\xb4\\xeb\\x9f\\x89\\xec\\x9c\\xbc\\xeb\\xa1\\x9c \\xec\\xb8\\xa1\\xec\\xa0\\x95\\xed\\x95\\xa0 \\xec\\x88\\x98 \\xec\\x9e\\x88\\xeb\\x8b\\xa4. \\xec\\x9e\\x90\\xeb\\x8f\\x99\\xed\\x99\\x94 \\xeb\\xb6\\x80\\xeb\\xac\\xb8\\xec\\x9d\\xb4\\xeb\\x82\\x98 \\xec\\x9d\\x91\\xec\\x9a\\xa9 \\xec\\x96\\xb8\\xec\\x96\\xb4\\xed\\x95\\x99 \\xeb\\xb6\\x84\\xec\\x95\\xbc\\xec\\x97\\x90\\xec\\x84\\x9c\\xeb\\x8f\\x84 \\xec\\x93\\xb0\\xec\\x9d\\xb8\\xeb\\x8b\\xa4.</definition >\\n\\t\\t\\t\\t\\t\\t\\t\\n\\t\\t\\t\\t\\t\\t\\t<pos>\\xeb\\xaa\\x85\\xec\\x82\\xac</pos>\\n\\t\\t\\t\\t\\t\\t\\t\\n\\t\\t\\t\\t\\t\\t\\t<link>http://opendict.korean.go.kr/dictionary/view?sense_no=66964</link>\\n\\t\\t\\t\\t\\t\\t\\t<type>\\xec\\x9d\\xbc\\xeb\\xb0\\x98\\xec\\x96\\xb4</type>\\n\\t\\t\\t\\t\\t\\t\\t\\n\\t\\t\\t\\t\\t\\t\\t<cat>\\xec\\xa0\\x95\\xeb\\xb3\\xb4\\xc2\\xb7\\xed\\x86\\xb5\\xec\\x8b\\xa0</cat>\\n\\t\\t\\t\\t\\t\\t\\t\\n\\t\\t\\t\\t\\t\\t\\t\\n\\t\\t\\t\\t\\t\\t\\t<origin>\\xe6\\x83\\x85\\xe5\\xa0\\xb1</origin>\\n\\t\\t\\t\\t\\t\\t\\t\\n\\t\\t\\t\\t\\t\\t\\t\\n\\t\\t\\t\\t\\t\\t\\t\\n\\t\\t\\t\\t\\t\\t</sense>\\n\\t\\t\\t\\t\\t\\t\\n                    </item>\\n                \\n                    <item>\\n                        <word>\\xec\\xa0\\x95\\xeb\\xb3\\xb4</word>                        \\n                       \\t\\n\\t                       \\t \\n\\t                       \\t \\n\\t                       \\t \\n\\t                       \\t \\n\\t                       \\t \\n\\t                       \\t \\n\\t                       \\t\\n\\t                       \\t\\n\\t\\t\\t\\t\\t\\t\\t\\n\\t\\t\\t\\t\\t\\t\\t\\t \\n\\t\\t\\t\\t\\t\\t\\t\\n\\t\\t\\t\\t\\t\\t\\t\\n\\t\\t\\t\\t\\t\\t\\t\\t\\n\\t\\t\\t\\t\\t\\t\\t\\t\\t\\n\\t\\t\\t\\t\\t\\t\\t\\t\\t\\t\\n\\t\\t\\t\\t\\t\\t\\t\\t\\t\\n\\t\\t\\t\\t\\t\\t\\t\\t\\n\\t\\t\\t\\t\\t\\t\\t\\n\\t\\t\\t\\t\\t\\t\\n\\t\\t\\t\\t\\t\\t\\t\\n\\t\\t\\t\\t\\t\\t\\n\\t\\t\\t\\t\\t\\t\\t\\n                       \\t<sense>\\n                       \\t\\t<target_code>270470</target_code>\\n                       \\t\\t<sense_no>004</sense_no>\\n                       \\t\\t<definition>\\xea\\xb3\\xbc\\xea\\xb1\\xb0\\xec\\x9d\\x98 \\xec\\x97\\x85\\xec\\x9d\\xb8(\\xe6\\xa5\\xad\\xe5\\x9b\\xa0)\\xec\\x97\\x90 \\xeb\\x94\\xb0\\xeb\\x9d\\xbc \\xeb\\x82\\xb4\\xec\\x83\\x9d(\\xe4\\xbe\\x86\\xe7\\x94\\x9f)\\xec\\x97\\x90 \\xec\\x96\\xb4\\xeb\\x96\\xa0\\xed\\x95\\x9c \\xeb\\xaa\\xb8\\xec\\x9c\\xbc\\xeb\\xa1\\x9c \\xeb\\x82\\x98\\xed\\x83\\x80\\xeb\\x82\\x98\\xeb\\x8a\\x90\\xeb\\x83\\x90\\xeb\\xa1\\x9c \\xeb\\xb0\\x9b\\xeb\\x8a\\x94 \\xea\\xb3\\xbc\\xeb\\xb3\\xb4. \\xeb\\xb6\\x80\\xec\\xb2\\x98\\xeb\\x82\\x98 \\xec\\xa4\\x91\\xec\\x83\\x9d\\xec\\x9d\\x98 \\xeb\\xaa\\xb8\\xec\\x9d\\xb4\\xeb\\x8b\\xa4.</definition >\\n\\t\\t\\t\\t\\t\\t\\t\\n\\t\\t\\t\\t\\t\\t\\t<pos>\\xeb\\xaa\\x85\\xec\\x82\\xac</pos>\\n\\t\\t\\t\\t\\t\\t\\t\\n\\t\\t\\t\\t\\t\\t\\t<link>http://opendict.korean.go.kr/dictionary/view?sense_no=270470</link>\\n\\t\\t\\t\\t\\t\\t\\t<type>\\xec\\x9d\\xbc\\xeb\\xb0\\x98\\xec\\x96\\xb4</type>\\n\\t\\t\\t\\t\\t\\t\\t\\n\\t\\t\\t\\t\\t\\t\\t<cat>\\xeb\\xb6\\x88\\xea\\xb5\\x90</cat>\\n\\t\\t\\t\\t\\t\\t\\t\\n\\t\\t\\t\\t\\t\\t\\t\\n\\t\\t\\t\\t\\t\\t\\t<origin>\\xe6\\xad\\xa3\\xe5\\xa0\\xb1</origin>\\n\\t\\t\\t\\t\\t\\t\\t\\n\\t\\t\\t\\t\\t\\t\\t\\n\\t\\t\\t\\t\\t\\t\\t\\n\\t\\t\\t\\t\\t\\t</sense>\\n\\t\\t\\t\\t\\t\\t\\n                    </item>\\n                \\n                    <item>\\n                        <word>\\xec\\xa0\\x95\\xeb\\xb3\\xb4</word>                        \\n                       \\t\\n\\t                       \\t \\n\\t                       \\t \\n\\t                       \\t \\n\\t                       \\t \\n\\t                       \\t \\n\\t                       \\t \\n\\t                       \\t\\n\\t                       \\t\\n\\t\\t\\t\\t\\t\\t\\t\\n\\t\\t\\t\\t\\t\\t\\t\\t \\n\\t\\t\\t\\t\\t\\t\\t\\n\\t\\t\\t\\t\\t\\t\\t\\n\\t\\t\\t\\t\\t\\t\\t\\t\\n\\t\\t\\t\\t\\t\\t\\t\\t\\t\\n\\t\\t\\t\\t\\t\\t\\t\\t\\t\\t\\n\\t\\t\\t\\t\\t\\t\\t\\t\\t\\n\\t\\t\\t\\t\\t\\t\\t\\t\\n\\t\\t\\t\\t\\t\\t\\t\\n\\t\\t\\t\\t\\t\\t\\n\\t\\t\\t\\t\\t\\t\\t\\n\\t\\t\\t\\t\\t\\t\\n\\t\\t\\t\\t\\t\\t\\t\\n                       \\t<sense>\\n                       \\t\\t<target_code>22325</target_code>\\n                       \\t\\t<sense_no>002</sense_no>\\n                       \\t\\t<definition>\\xea\\xb3\\xa0\\xeb\\xa0\\xa4 \\xec\\xb4\\x88\\xea\\xb8\\xb0\\xec\\x97\\x90, \\xed\\x83\\x9c\\xeb\\xb4\\x89\\xec\\x9d\\x98 \\xea\\xb4\\x80\\xec\\xa0\\x9c\\xeb\\xa5\\xbc \\xeb\\xb3\\xb8\\xeb\\x96\\xa0\\xec\\x84\\x9c \\xec\\xa0\\x95\\xed\\x95\\x9c 16\\xec\\x9c\\x84\\xea\\xb3\\x84 \\xea\\xb0\\x80\\xec\\x9a\\xb4\\xeb\\x8d\\xb0 \\xec\\x95\\x84\\xed\\x99\\x89 \\xeb\\xb2\\x88\\xec\\xa7\\xb8 \\xeb\\x93\\xb1\\xea\\xb8\\x89. \\xec\\xa2\\x85\\xec\\x82\\xac\\xed\\x92\\x88\\xec\\x97\\x90 \\xed\\x95\\xb4\\xeb\\x8b\\xb9\\xed\\x95\\x9c\\xeb\\x8b\\xa4.</definition >\\n\\t\\t\\t\\t\\t\\t\\t\\n\\t\\t\\t\\t\\t\\t\\t<pos>\\xeb\\xaa\\x85\\xec\\x82\\xac</pos>\\n\\t\\t\\t\\t\\t\\t\\t\\n\\t\\t\\t\\t\\t\\t\\t<link>http://opendict.korean.go.kr/dictionary/view?sense_no=22325</link>\\n\\t\\t\\t\\t\\t\\t\\t<type>\\xec\\x9d\\xbc\\xeb\\xb0\\x98\\xec\\x96\\xb4</type>\\n\\t\\t\\t\\t\\t\\t\\t\\n\\t\\t\\t\\t\\t\\t\\t<cat>\\xec\\x97\\xad\\xec\\x82\\xac</cat>\\n\\t\\t\\t\\t\\t\\t\\t\\n\\t\\t\\t\\t\\t\\t\\t\\n\\t\\t\\t\\t\\t\\t\\t<origin>\\xe6\\xad\\xa3\\xe7\\x94\\xab</origin>\\n\\t\\t\\t\\t\\t\\t\\t\\n\\t\\t\\t\\t\\t\\t\\t\\n\\t\\t\\t\\t\\t\\t\\t\\n\\t\\t\\t\\t\\t\\t</sense>\\n\\t\\t\\t\\t\\t\\t\\n\\t                       \\t \\n\\t                       \\t \\n\\t                       \\t \\n\\t                       \\t \\n\\t                       \\t \\n\\t                       \\t \\n\\t                       \\t\\n\\t                       \\t\\n\\t\\t\\t\\t\\t\\t\\t\\n\\t\\t\\t\\t\\t\\t\\t\\t \\n\\t\\t\\t\\t\\t\\t\\t\\n\\t\\t\\t\\t\\t\\t\\t\\n\\t\\t\\t\\t\\t\\t\\t\\t\\n\\t\\t\\t\\t\\t\\t\\t\\t\\t\\n\\t\\t\\t\\t\\t\\t\\t\\t\\t\\t\\n\\t\\t\\t\\t\\t\\t\\t\\t\\t\\n\\t\\t\\t\\t\\t\\t\\t\\t\\n\\t\\t\\t\\t\\t\\t\\t\\n\\t\\t\\t\\t\\t\\t\\n\\t\\t\\t\\t\\t\\t\\t\\n\\t\\t\\t\\t\\t\\t\\n\\t\\t\\t\\t\\t\\t\\t\\n                       \\t<sense>\\n                       \\t\\t<target_code>52962</target_code>\\n                       \\t\\t<sense_no>003</sense_no>\\n                       \\t\\t<definition>\\xea\\xb3\\xa0\\xeb\\xa0\\xa4 \\xec\\x8b\\x9c\\xeb\\x8c\\x80\\xec\\x97\\x90 \\xeb\\x91\\x94 \\xed\\x96\\xa5\\xec\\xa7\\x81\\xec\\x9d\\x98 \\xec\\x98\\xa4\\xed\\x92\\x88 \\xed\\x92\\x88\\xea\\xb3\\x84.</definition >\\n\\t\\t\\t\\t\\t\\t\\t\\n\\t\\t\\t\\t\\t\\t\\t<pos>\\xeb\\xaa\\x85\\xec\\x82\\xac</pos>\\n\\t\\t\\t\\t\\t\\t\\t\\n\\t\\t\\t\\t\\t\\t\\t<link>http://opendict.korean.go.kr/dictionary/view?sense_no=52962</link>\\n\\t\\t\\t\\t\\t\\t\\t<type>\\xec\\x9d\\xbc\\xeb\\xb0\\x98\\xec\\x96\\xb4</type>\\n\\t\\t\\t\\t\\t\\t\\t\\n\\t\\t\\t\\t\\t\\t\\t<cat>\\xec\\x97\\xad\\xec\\x82\\xac</cat>\\n\\t\\t\\t\\t\\t\\t\\t\\n\\t\\t\\t\\t\\t\\t\\t\\n\\t\\t\\t\\t\\t\\t\\t<origin>\\xe6\\xad\\xa3\\xe7\\x94\\xab</origin>\\n\\t\\t\\t\\t\\t\\t\\t\\n\\t\\t\\t\\t\\t\\t\\t\\n\\t\\t\\t\\t\\t\\t\\t\\n\\t\\t\\t\\t\\t\\t</sense>\\n\\t\\t\\t\\t\\t\\t\\n                    </item>\\n                \\n                    <item>\\n                        <word>\\xec\\xa0\\x95\\xeb\\xb3\\xb4</word>                        \\n                       \\t\\n\\t                       \\t \\n\\t                       \\t \\n\\t                       \\t \\n\\t                       \\t \\n\\t                       \\t \\n\\t                       \\t \\n\\t                       \\t\\n\\t                       \\t\\n\\t\\t\\t\\t\\t\\t\\t\\n\\t\\t\\t\\t\\t\\t\\t\\t \\n\\t\\t\\t\\t\\t\\t\\t\\n\\t\\t\\t\\t\\t\\t\\t\\n\\t\\t\\t\\t\\t\\t\\t\\t\\n\\t\\t\\t\\t\\t\\t\\t\\t\\t\\n\\t\\t\\t\\t\\t\\t\\t\\t\\t\\t\\n\\t\\t\\t\\t\\t\\t\\t\\t\\t\\n\\t\\t\\t\\t\\t\\t\\t\\t\\n\\t\\t\\t\\t\\t\\t\\t\\n\\t\\t\\t\\t\\t\\t\\n\\t\\t\\t\\t\\t\\t\\t\\n\\t\\t\\t\\t\\t\\t\\n\\t\\t\\t\\t\\t\\t\\t\\n                       \\t<sense>\\n                       \\t\\t<target_code>544530</target_code>\\n                       \\t\\t<sense_no>010</sense_no>\\n                       \\t\\t<definition>\\xec\\x98\\x81\\xec\\x9d\\x98\\xec\\xa0\\x95, \\xec\\xa2\\x8c\\xec\\x9d\\x98\\xec\\xa0\\x95, \\xec\\x9a\\xb0\\xec\\x9d\\x98\\xec\\xa0\\x95\\xec\\x9d\\x84 \\xed\\x86\\xb5\\xed\\x8b\\x80\\xec\\x96\\xb4 \\xec\\x9d\\xb4\\xeb\\xa5\\xb4\\xeb\\x8d\\x98 \\xeb\\xa7\\x90.</definition >\\n\\t\\t\\t\\t\\t\\t\\t\\n\\t\\t\\t\\t\\t\\t\\t<pos>\\xeb\\xaa\\x85\\xec\\x82\\xac</pos>\\n\\t\\t\\t\\t\\t\\t\\t\\n\\t\\t\\t\\t\\t\\t\\t<link>http://opendict.korean.go.kr/dictionary/view?sense_no=544530</link>\\n\\t\\t\\t\\t\\t\\t\\t<type>\\xec\\x9d\\xbc\\xeb\\xb0\\x98\\xec\\x96\\xb4</type>\\n\\t\\t\\t\\t\\t\\t\\t\\n\\t\\t\\t\\t\\t\\t\\t<cat>\\xec\\x97\\xad\\xec\\x82\\xac</cat>\\n\\t\\t\\t\\t\\t\\t\\t\\n\\t\\t\\t\\t\\t\\t\\t\\n\\t\\t\\t\\t\\t\\t\\t<origin>\\xe9\\xbc\\x8e\\xe8\\xbc\\x94</origin>\\n\\t\\t\\t\\t\\t\\t\\t\\n\\t\\t\\t\\t\\t\\t\\t\\n\\t\\t\\t\\t\\t\\t\\t\\n\\t\\t\\t\\t\\t\\t</sense>\\n\\t\\t\\t\\t\\t\\t\\n                    </item>\\n                \\n                    <item>\\n                        <word>\\xec\\xa0\\x95\\xeb\\xb3\\xb4 \\xea\\xb2\\x80\\xec\\x83\\x89\\xeb\\x8c\\x80</word>                        \\n                       \\t\\n\\t                       \\t \\n\\t                       \\t \\n\\t                       \\t \\n\\t                       \\t \\n\\t                       \\t \\n\\t                       \\t \\n\\t                       \\t\\n\\t                       \\t\\n\\t\\t\\t\\t\\t\\t\\t\\t \\n\\t\\t\\t\\t\\t\\t\\t\\n\\t\\t\\t\\t\\t\\t\\t\\n\\t\\t\\t\\t\\t\\t\\t\\t \\n\\t\\t\\t\\t\\t\\t\\t\\n\\t\\t\\t\\t\\t\\t\\t\\n\\t\\t\\t\\t\\t\\t\\t\\t\\n\\t\\t\\t\\t\\t\\t\\t\\t\\t\\n\\t\\t\\t\\t\\t\\t\\t\\t\\t\\t\\n\\t\\t\\t\\t\\t\\t\\t\\t\\t\\n\\t\\t\\t\\t\\t\\t\\t\\t\\n\\t\\t\\t\\t\\t\\t\\t\\n\\t\\t\\t\\t\\t\\t\\n\\t\\t\\t\\t\\t\\t\\t\\n\\t\\t\\t\\t\\t\\t\\n\\t\\t\\t\\t\\t\\t\\t\\n                       \\t<sense>\\n                       \\t\\t<target_code>1090320</target_code>\\n                       \\t\\t<sense_no>001</sense_no>\\n                       \\t\\t<definition>\\xec\\x9d\\xb8\\xed\\x84\\xb0\\xeb\\x84\\xb7\\xec\\x9d\\xb4\\xeb\\x82\\x98 \\xec\\x9e\\x90\\xeb\\xa3\\x8c \\xea\\xb2\\x80\\xec\\x83\\x89\\xec\\x9d\\x84 \\xed\\x95\\xa0 \\xec\\x88\\x98 \\xec\\x9e\\x88\\xeb\\x8f\\x84\\xeb\\xa1\\x9d \\xec\\xbb\\xb4\\xed\\x93\\xa8\\xed\\x84\\xb0 \\xeb\\x94\\xb0\\xec\\x9c\\x84\\xeb\\xa5\\xbc \\xec\\x84\\xa4\\xec\\xb9\\x98\\xed\\x95\\x98\\xec\\x97\\xac \\xeb\\xa7\\x8c\\xeb\\x93\\xa0 \\xec\\x9d\\xb4\\xec\\x9a\\xa9\\xeb\\xac\\xbc.</definition >\\n\\t\\t\\t\\t\\t\\t\\t\\n\\t\\t\\t\\t\\t\\t\\t<link>http://opendict.korean.go.kr/dictionary/view?sense_no=1090320</link>\\n\\t\\t\\t\\t\\t\\t\\t<type>\\xec\\x9d\\xbc\\xeb\\xb0\\x98\\xec\\x96\\xb4</type>\\n\\t\\t\\t\\t\\t\\t\\t\\n\\t\\t\\t\\t\\t\\t\\t<cat>\\xec\\xa0\\x95\\xeb\\xb3\\xb4\\xc2\\xb7\\xed\\x86\\xb5\\xec\\x8b\\xa0</cat>\\n\\t\\t\\t\\t\\t\\t\\t\\n\\t\\t\\t\\t\\t\\t\\t\\n\\t\\t\\t\\t\\t\\t\\t<origin>\\xe6\\x83\\x85\\xe5\\xa0\\xb1\\xe6\\xaa\\xa2\\xe7\\xb4\\xa2\\xe8\\x87\\xba</origin>\\n\\t\\t\\t\\t\\t\\t\\t\\n\\t\\t\\t\\t\\t\\t\\t\\n\\t\\t\\t\\t\\t\\t\\t\\n\\t\\t\\t\\t\\t\\t</sense>\\n\\t\\t\\t\\t\\t\\t\\n                    </item>\\n                \\n                    <item>\\n                        <word>\\xec\\xa0\\x95\\xeb\\xb3\\xb4 \\xeb\\x8d\\x94\\xeb\\xaf\\xb8</word>                        \\n                       \\t\\n\\t                       \\t \\n\\t                       \\t \\n\\t                       \\t \\n\\t                       \\t \\n\\t                       \\t \\n\\t                       \\t \\n\\t                       \\t\\n\\t                       \\t\\n\\t\\t\\t\\t\\t\\t\\t\\t \\n\\t\\t\\t\\t\\t\\t\\t\\n\\t\\t\\t\\t\\t\\t\\t\\n\\t\\t\\t\\t\\t\\t\\t\\t \\n\\t\\t\\t\\t\\t\\t\\t\\n\\t\\t\\t\\t\\t\\t\\t\\n\\t\\t\\t\\t\\t\\t\\n\\t\\t\\t\\t\\t\\t\\t\\n\\t\\t\\t\\t\\t\\t\\n\\t\\t\\t\\t\\t\\t\\t\\n                       \\t<sense>\\n                       \\t\\t<target_code>808923</target_code>\\n                       \\t\\t<sense_no>001</sense_no>\\n                       \\t\\t<definition>\\xeb\\xa7\\x8e\\xec\\x9d\\x80 \\xec\\xa0\\x95\\xeb\\xb3\\xb4\\xeb\\xa5\\xbc \\xeb\\xb9\\x84\\xec\\x9c\\xa0\\xec\\xa0\\x81\\xec\\x9c\\xbc\\xeb\\xa1\\x9c \\xec\\x9d\\xb4\\xeb\\xa5\\xb4\\xeb\\x8a\\x94 \\xeb\\xa7\\x90.</definition >\\n\\t\\t\\t\\t\\t\\t\\t\\n\\t\\t\\t\\t\\t\\t\\t<link>http://opendict.korean.go.kr/dictionary/view?sense_no=808923</link>\\n\\t\\t\\t\\t\\t\\t\\t<type>\\xec\\x9d\\xbc\\xeb\\xb0\\x98\\xec\\x96\\xb4</type>\\n\\t\\t\\t\\t\\t\\t\\t\\n\\t\\t\\t\\t\\t\\t\\t\\n\\t\\t\\t\\t\\t\\t\\t<origin>\\xe6\\x83\\x85\\xe5\\xa0\\xb1\\xeb\\x8d\\x94\\xeb\\xaf\\xb8</origin>\\n\\t\\t\\t\\t\\t\\t\\t\\n\\t\\t\\t\\t\\t\\t\\t\\n\\t\\t\\t\\t\\t\\t\\t\\n\\t\\t\\t\\t\\t\\t</sense>\\n\\t\\t\\t\\t\\t\\t\\n                    </item>\\n                \\n                    <item>\\n                        <word>\\xec\\xa0\\x95\\xeb\\xb3\\xb4 \\xeb\\xa7\\xa8</word>                        \\n                       \\t\\n\\t                       \\t \\n\\t                       \\t \\n\\t                       \\t \\n\\t                       \\t \\n\\t                       \\t \\n\\t                       \\t \\n\\t                       \\t\\n\\t                       \\t\\n\\t\\t\\t\\t\\t\\t\\t\\t \\n\\t\\t\\t\\t\\t\\t\\t\\n\\t\\t\\t\\t\\t\\t\\t\\n\\t\\t\\t\\t\\t\\t\\t\\t \\n\\t\\t\\t\\t\\t\\t\\t\\n\\t\\t\\t\\t\\t\\t\\t\\n\\t\\t\\t\\t\\t\\t\\n\\t\\t\\t\\t\\t\\t\\t\\n\\t\\t\\t\\t\\t\\t\\n\\t\\t\\t\\t\\t\\t\\t\\n                       \\t<sense>\\n                       \\t\\t<target_code>966255</target_code>\\n                       \\t\\t<sense_no>001</sense_no>\\n                       \\t\\t<definition>\\xec\\xa0\\x95\\xeb\\xb3\\xb4\\xec\\x97\\x90 \\xea\\xb4\\x80\\xed\\x95\\x9c \\xec\\x9d\\xbc\\xec\\x9d\\x84 \\xeb\\xa7\\xa1\\xec\\x95\\x84 \\xec\\xb2\\x98\\xeb\\xa6\\xac\\xed\\x95\\x98\\xeb\\x8a\\x94 \\xec\\x82\\xac\\xeb\\x9e\\x8c.</definition >\\n\\t\\t\\t\\t\\t\\t\\t\\n\\t\\t\\t\\t\\t\\t\\t<link>http://opendict.korean.go.kr/dictionary/view?sense_no=966255</link>\\n\\t\\t\\t\\t\\t\\t\\t<type>\\xec\\x9d\\xbc\\xeb\\xb0\\x98\\xec\\x96\\xb4</type>\\n\\t\\t\\t\\t\\t\\t\\t\\n\\t\\t\\t\\t\\t\\t\\t\\n\\t\\t\\t\\t\\t\\t\\t<origin>\\xe6\\x83\\x85\\xe5\\xa0\\xb1man</origin>\\n\\t\\t\\t\\t\\t\\t\\t\\n\\t\\t\\t\\t\\t\\t\\t\\n\\t\\t\\t\\t\\t\\t\\t\\n\\t\\t\\t\\t\\t\\t</sense>\\n\\t\\t\\t\\t\\t\\t\\n                    </item>\\n                \\n                 </channel>  \\n                \\t\\n                \\t\\n                \\n            \\n            \\n        \\n'"
      ]
     },
     "execution_count": 5,
     "metadata": {},
     "output_type": "execute_result"
    }
   ],
   "source": [
    "xml"
   ]
  },
  {
   "cell_type": "markdown",
   "metadata": {},
   "source": [
    "### XML Parsing\n",
    "- 데이터가 문자열로 존재하는 경우 elemTree.fromstring('XML 문자열')\n",
    "- 태그 검색 : find(tag), findall(tag)\n",
    "- 태그 데이터 : text"
   ]
  },
  {
   "cell_type": "code",
   "execution_count": 6,
   "metadata": {},
   "outputs": [],
   "source": [
    "import xml.etree.ElementTree as elemTree\n",
    "tree = elemTree.fromstring(xml)"
   ]
  },
  {
   "cell_type": "code",
   "execution_count": 7,
   "metadata": {},
   "outputs": [
    {
     "data": {
      "text/plain": [
       "'우리말샘 개발 지원(Open API) - 사전 어휘 검색'"
      ]
     },
     "execution_count": 7,
     "metadata": {},
     "output_type": "execute_result"
    }
   ],
   "source": [
    "title = tree.find('title')\n",
    "title.text"
   ]
  },
  {
   "cell_type": "code",
   "execution_count": 14,
   "metadata": {},
   "outputs": [
    {
     "data": {
      "text/plain": [
       "'정보'"
      ]
     },
     "execution_count": 14,
     "metadata": {},
     "output_type": "execute_result"
    }
   ],
   "source": [
    "item = tree.find('item')\n",
    "item.find('word').text"
   ]
  },
  {
   "cell_type": "code",
   "execution_count": 15,
   "metadata": {},
   "outputs": [
    {
     "data": {
      "text/plain": [
       "'보통 행군의 걸음걸이. 보통 걸음보다 힘 있고 절도 있게 팔과 다리를 움직이며 걷는 걸음이다.'"
      ]
     },
     "execution_count": 15,
     "metadata": {},
     "output_type": "execute_result"
    }
   ],
   "source": [
    "item.find('sense').find('definition').text"
   ]
  },
  {
   "cell_type": "code",
   "execution_count": 16,
   "metadata": {},
   "outputs": [
    {
     "name": "stdout",
     "output_type": "stream",
     "text": [
      "정보 : 보통 행군의 걸음걸이. 보통 걸음보다 힘 있고 절도 있게 팔과 다리를 움직이며 걷는 걸음이다.\n",
      "정보 : 정확한 소식.\n",
      "정보 : 땅 넓이의 단위. 정(町)으로 끝나고 우수리가 없을 때 쓴다. 1정보는 3,000평으로 약 9,917.4㎡에 해당한다.\n",
      "정보 : 관찰이나 측정을 통하여 수집한 자료를 실제 문제에 도움이 될 수 있도록 정리한 지식. 또는 그 자료.\n",
      "정보 : 과거의 업인(業因)에 따라 내생(來生)에 어떠한 몸으로 나타나느냐로 받는 과보. 부처나 중생의 몸이다.\n",
      "정보 : 고려 초기에, 태봉의 관제를 본떠서 정한 16위계 가운데 아홉 번째 등급. 종사품에 해당한다.\n",
      "정보 : 영의정, 좌의정, 우의정을 통틀어 이르던 말.\n",
      "정보 검색대 : 인터넷이나 자료 검색을 할 수 있도록 컴퓨터 따위를 설치하여 만든 이용물.\n",
      "정보 더미 : 많은 정보를 비유적으로 이르는 말.\n",
      "정보 맨 : 정보에 관한 일을 맡아 처리하는 사람.\n"
     ]
    }
   ],
   "source": [
    "for item in tree.findall('item'):\n",
    "    print(item.find('word').text, ':', item.find('sense').find('definition').text)"
   ]
  },
  {
   "cell_type": "code",
   "execution_count": null,
   "metadata": {},
   "outputs": [],
   "source": []
  }
 ],
 "metadata": {
  "kernelspec": {
   "display_name": "Python 3",
   "language": "python",
   "name": "python3"
  },
  "language_info": {
   "codemirror_mode": {
    "name": "ipython",
    "version": 3
   },
   "file_extension": ".py",
   "mimetype": "text/x-python",
   "name": "python",
   "nbconvert_exporter": "python",
   "pygments_lexer": "ipython3",
   "version": "3.7.3"
  }
 },
 "nbformat": 4,
 "nbformat_minor": 2
}
