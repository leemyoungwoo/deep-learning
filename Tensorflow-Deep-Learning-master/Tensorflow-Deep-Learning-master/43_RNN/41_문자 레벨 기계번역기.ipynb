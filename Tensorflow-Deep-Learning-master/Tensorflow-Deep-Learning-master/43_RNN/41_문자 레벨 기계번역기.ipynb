{
 "cells": [
  {
   "cell_type": "markdown",
   "metadata": {},
   "source": [
    "# 문자 레벨 기계번역기\n",
    "### 참조: [sequence-to-sequence 10분만에 이해하기](https://blog.keras.io/a-ten-minute-introduction-to-sequence-to-sequence-learning-in-keras.html)\n",
    "### 다운로드: [프랑스-영어 병렬 코퍼스](http://www.manythings.org/anki)"
   ]
  },
  {
   "cell_type": "markdown",
   "metadata": {},
   "source": [
    "## 1. 데이터 확인 및 전처리"
   ]
  },
  {
   "cell_type": "code",
   "execution_count": 1,
   "metadata": {},
   "outputs": [
    {
     "data": {
      "text/plain": [
       "170651"
      ]
     },
     "execution_count": 1,
     "metadata": {},
     "output_type": "execute_result"
    }
   ],
   "source": [
    "import pandas as pd\n",
    "lines = pd.read_csv('data/fra.txt', names=['src', 'dst', 'desc'], sep='\\t')\n",
    "len(lines)"
   ]
  },
  {
   "cell_type": "code",
   "execution_count": 2,
   "metadata": {},
   "outputs": [
    {
     "data": {
      "text/html": [
       "<div>\n",
       "<style scoped>\n",
       "    .dataframe tbody tr th:only-of-type {\n",
       "        vertical-align: middle;\n",
       "    }\n",
       "\n",
       "    .dataframe tbody tr th {\n",
       "        vertical-align: top;\n",
       "    }\n",
       "\n",
       "    .dataframe thead th {\n",
       "        text-align: right;\n",
       "    }\n",
       "</style>\n",
       "<table border=\"1\" class=\"dataframe\">\n",
       "  <thead>\n",
       "    <tr style=\"text-align: right;\">\n",
       "      <th></th>\n",
       "      <th>src</th>\n",
       "      <th>dst</th>\n",
       "      <th>desc</th>\n",
       "    </tr>\n",
       "  </thead>\n",
       "  <tbody>\n",
       "    <tr>\n",
       "      <th>34551</th>\n",
       "      <td>I major in economics.</td>\n",
       "      <td>Je suis spécialisé en Sciences Économiques.</td>\n",
       "      <td>CC-BY 2.0 (France) Attribution: tatoeba.org #2...</td>\n",
       "    </tr>\n",
       "    <tr>\n",
       "      <th>36521</th>\n",
       "      <td>That's just like you.</td>\n",
       "      <td>C'est tout toi.</td>\n",
       "      <td>CC-BY 2.0 (France) Attribution: tatoeba.org #7...</td>\n",
       "    </tr>\n",
       "    <tr>\n",
       "      <th>45522</th>\n",
       "      <td>Don't try to be a hero.</td>\n",
       "      <td>Ne tente pas le diable !</td>\n",
       "      <td>CC-BY 2.0 (France) Attribution: tatoeba.org #2...</td>\n",
       "    </tr>\n",
       "    <tr>\n",
       "      <th>57388</th>\n",
       "      <td>You have to do it again.</td>\n",
       "      <td>Tu dois le refaire.</td>\n",
       "      <td>CC-BY 2.0 (France) Attribution: tatoeba.org #1...</td>\n",
       "    </tr>\n",
       "    <tr>\n",
       "      <th>14797</th>\n",
       "      <td>I went to school.</td>\n",
       "      <td>J'ai fréquenté l'école.</td>\n",
       "      <td>CC-BY 2.0 (France) Attribution: tatoeba.org #3...</td>\n",
       "    </tr>\n",
       "  </tbody>\n",
       "</table>\n",
       "</div>"
      ],
      "text/plain": [
       "                            src                                          dst  \\\n",
       "34551     I major in economics.  Je suis spécialisé en Sciences Économiques.   \n",
       "36521     That's just like you.                              C'est tout toi.   \n",
       "45522   Don't try to be a hero.                     Ne tente pas le diable !   \n",
       "57388  You have to do it again.                          Tu dois le refaire.   \n",
       "14797         I went to school.                      J'ai fréquenté l'école.   \n",
       "\n",
       "                                                    desc  \n",
       "34551  CC-BY 2.0 (France) Attribution: tatoeba.org #2...  \n",
       "36521  CC-BY 2.0 (France) Attribution: tatoeba.org #7...  \n",
       "45522  CC-BY 2.0 (France) Attribution: tatoeba.org #2...  \n",
       "57388  CC-BY 2.0 (France) Attribution: tatoeba.org #1...  \n",
       "14797  CC-BY 2.0 (France) Attribution: tatoeba.org #3...  "
      ]
     },
     "execution_count": 2,
     "metadata": {},
     "output_type": "execute_result"
    }
   ],
   "source": [
    "# 60,000개의 샘플만 가지고 기계 번역기를 구축\n",
    "lines = lines[0:60000] # 6만개만 저장\n",
    "lines.sample(5)"
   ]
  },
  {
   "cell_type": "code",
   "execution_count": 3,
   "metadata": {},
   "outputs": [],
   "source": [
    "# desc 컬럼 삭제\n",
    "del lines['desc']"
   ]
  },
  {
   "cell_type": "code",
   "execution_count": 4,
   "metadata": {},
   "outputs": [
    {
     "data": {
      "text/html": [
       "<div>\n",
       "<style scoped>\n",
       "    .dataframe tbody tr th:only-of-type {\n",
       "        vertical-align: middle;\n",
       "    }\n",
       "\n",
       "    .dataframe tbody tr th {\n",
       "        vertical-align: top;\n",
       "    }\n",
       "\n",
       "    .dataframe thead th {\n",
       "        text-align: right;\n",
       "    }\n",
       "</style>\n",
       "<table border=\"1\" class=\"dataframe\">\n",
       "  <thead>\n",
       "    <tr style=\"text-align: right;\">\n",
       "      <th></th>\n",
       "      <th>src</th>\n",
       "      <th>dst</th>\n",
       "    </tr>\n",
       "  </thead>\n",
       "  <tbody>\n",
       "    <tr>\n",
       "      <th>35220</th>\n",
       "      <td>I'm glad you're here.</td>\n",
       "      <td>\\t Je suis contente que vous soyez là. \\n</td>\n",
       "    </tr>\n",
       "    <tr>\n",
       "      <th>17116</th>\n",
       "      <td>You were seventh.</td>\n",
       "      <td>\\t Tu as été septième. \\n</td>\n",
       "    </tr>\n",
       "    <tr>\n",
       "      <th>32000</th>\n",
       "      <td>Whose house is this?</td>\n",
       "      <td>\\t À qui est cette maison ? \\n</td>\n",
       "    </tr>\n",
       "    <tr>\n",
       "      <th>1068</th>\n",
       "      <td>Be careful.</td>\n",
       "      <td>\\t Soyez prudent ! \\n</td>\n",
       "    </tr>\n",
       "    <tr>\n",
       "      <th>46556</th>\n",
       "      <td>I feel different today.</td>\n",
       "      <td>\\t Je me sens différente, aujourd'hui. \\n</td>\n",
       "    </tr>\n",
       "  </tbody>\n",
       "</table>\n",
       "</div>"
      ],
      "text/plain": [
       "                           src                                        dst\n",
       "35220    I'm glad you're here.  \\t Je suis contente que vous soyez là. \\n\n",
       "17116        You were seventh.                  \\t Tu as été septième. \\n\n",
       "32000     Whose house is this?             \\t À qui est cette maison ? \\n\n",
       "1068               Be careful.                      \\t Soyez prudent ! \\n\n",
       "46556  I feel different today.  \\t Je me sens différente, aujourd'hui. \\n"
      ]
     },
     "execution_count": 4,
     "metadata": {},
     "output_type": "execute_result"
    }
   ],
   "source": [
    "# dst 열에 <sos>로 \\t, <eos>로 \\n 을 추가\n",
    "lines.dst = lines.dst.apply(lambda x : '\\t '+ x + ' \\n')\n",
    "lines.sample(5)"
   ]
  },
  {
   "cell_type": "code",
   "execution_count": 5,
   "metadata": {},
   "outputs": [],
   "source": [
    "# 글자 집합 생성 (단어가 아님)\n",
    "src_vocab = set()\n",
    "for line in lines.src: # 1줄씩 읽음\n",
    "    for char in line: # 1개의 글자씩 읽음\n",
    "        src_vocab.add(char)\n",
    "\n",
    "dst_vocab = set()\n",
    "for line in lines.dst:\n",
    "    for char in line:\n",
    "        dst_vocab.add(char)"
   ]
  },
  {
   "cell_type": "code",
   "execution_count": 6,
   "metadata": {},
   "outputs": [
    {
     "name": "stdout",
     "output_type": "stream",
     "text": [
      "79 106\n"
     ]
    }
   ],
   "source": [
    "src_vocab_size = len(src_vocab)+1\n",
    "dst_vocab_size = len(dst_vocab)+1\n",
    "print(src_vocab_size, dst_vocab_size)"
   ]
  },
  {
   "cell_type": "code",
   "execution_count": 7,
   "metadata": {},
   "outputs": [
    {
     "name": "stdout",
     "output_type": "stream",
     "text": [
      "['W', 'X', 'Y', 'Z', 'a', 'b', 'c', 'd', 'e', 'f', 'g', 'h', 'i', 'j', 'k', 'l', 'm', 'n', 'o', 'p', 'q', 'r', 's', 't', 'u', 'v', 'w', 'x', 'y', 'z']\n",
      "['T', 'U', 'V', 'W', 'X', 'Y', 'Z', 'a', 'b', 'c', 'd', 'e', 'f', 'g', 'h', 'i', 'j', 'k', 'l', 'm', 'n', 'o', 'p', 'q', 'r', 's', 't', 'u', 'v', 'w']\n"
     ]
    }
   ],
   "source": [
    "src_vocab = sorted(list(src_vocab))\n",
    "dst_vocab = sorted(list(dst_vocab))\n",
    "print(src_vocab[45:75])\n",
    "print(dst_vocab[45:75])"
   ]
  },
  {
   "cell_type": "code",
   "execution_count": 8,
   "metadata": {},
   "outputs": [
    {
     "name": "stdout",
     "output_type": "stream",
     "text": [
      "{' ': 1, '!': 2, '\"': 3, '$': 4, '%': 5, '&': 6, \"'\": 7, ',': 8, '-': 9, '.': 10, '/': 11, '0': 12, '1': 13, '2': 14, '3': 15, '4': 16, '5': 17, '6': 18, '7': 19, '8': 20, '9': 21, ':': 22, '?': 23, 'A': 24, 'B': 25, 'C': 26, 'D': 27, 'E': 28, 'F': 29, 'G': 30, 'H': 31, 'I': 32, 'J': 33, 'K': 34, 'L': 35, 'M': 36, 'N': 37, 'O': 38, 'P': 39, 'Q': 40, 'R': 41, 'S': 42, 'T': 43, 'U': 44, 'V': 45, 'W': 46, 'X': 47, 'Y': 48, 'Z': 49, 'a': 50, 'b': 51, 'c': 52, 'd': 53, 'e': 54, 'f': 55, 'g': 56, 'h': 57, 'i': 58, 'j': 59, 'k': 60, 'l': 61, 'm': 62, 'n': 63, 'o': 64, 'p': 65, 'q': 66, 'r': 67, 's': 68, 't': 69, 'u': 70, 'v': 71, 'w': 72, 'x': 73, 'y': 74, 'z': 75, 'é': 76, '’': 77, '€': 78}\n",
      "{'\\t': 1, '\\n': 2, ' ': 3, '!': 4, '\"': 5, '$': 6, '%': 7, '&': 8, \"'\": 9, '(': 10, ')': 11, ',': 12, '-': 13, '.': 14, '0': 15, '1': 16, '2': 17, '3': 18, '4': 19, '5': 20, '6': 21, '7': 22, '8': 23, '9': 24, ':': 25, '?': 26, 'A': 27, 'B': 28, 'C': 29, 'D': 30, 'E': 31, 'F': 32, 'G': 33, 'H': 34, 'I': 35, 'J': 36, 'K': 37, 'L': 38, 'M': 39, 'N': 40, 'O': 41, 'P': 42, 'Q': 43, 'R': 44, 'S': 45, 'T': 46, 'U': 47, 'V': 48, 'W': 49, 'X': 50, 'Y': 51, 'Z': 52, 'a': 53, 'b': 54, 'c': 55, 'd': 56, 'e': 57, 'f': 58, 'g': 59, 'h': 60, 'i': 61, 'j': 62, 'k': 63, 'l': 64, 'm': 65, 'n': 66, 'o': 67, 'p': 68, 'q': 69, 'r': 70, 's': 71, 't': 72, 'u': 73, 'v': 74, 'w': 75, 'x': 76, 'y': 77, 'z': 78, '\\xa0': 79, '«': 80, '»': 81, 'À': 82, 'Ç': 83, 'É': 84, 'Ê': 85, 'Ô': 86, 'à': 87, 'â': 88, 'ç': 89, 'è': 90, 'é': 91, 'ê': 92, 'ë': 93, 'î': 94, 'ï': 95, 'ô': 96, 'ù': 97, 'û': 98, 'œ': 99, 'С': 100, '\\u2009': 101, '\\u200b': 102, '‘': 103, '’': 104, '\\u202f': 105}\n"
     ]
    }
   ],
   "source": [
    "# 각 글자에 인덱스 부여\n",
    "src_to_index = dict([(word, i+1) for i, word in enumerate(src_vocab)])\n",
    "dst_to_index = dict([(word, i+1) for i, word in enumerate(dst_vocab)])\n",
    "print(src_to_index)\n",
    "print(dst_to_index)"
   ]
  },
  {
   "cell_type": "code",
   "execution_count": 9,
   "metadata": {},
   "outputs": [
    {
     "name": "stdout",
     "output_type": "stream",
     "text": [
      "[[30, 64, 10], [31, 58, 10], [31, 58, 10], [41, 70, 63, 2], [41, 70, 63, 2]]\n"
     ]
    }
   ],
   "source": [
    "# 영어 데이터에 대한 정수 인코딩\n",
    "encoder_input = []\n",
    "for line in lines.src: #입력 데이터에서 1줄씩 문장을 읽음\n",
    "    temp_X = []\n",
    "    for w in line: #각 줄에서 1개씩 글자를 읽음\n",
    "      temp_X.append(src_to_index[w]) # 글자를 해당되는 정수로 변환\n",
    "    encoder_input.append(temp_X)\n",
    "print(encoder_input[:5])"
   ]
  },
  {
   "cell_type": "code",
   "execution_count": 10,
   "metadata": {},
   "outputs": [
    {
     "name": "stdout",
     "output_type": "stream",
     "text": [
      "[[1, 3, 48, 53, 3, 4, 3, 2], [1, 3, 45, 53, 64, 73, 72, 3, 4, 3, 2], [1, 3, 45, 53, 64, 73, 72, 14, 3, 2], [1, 3, 29, 67, 73, 70, 71, 105, 4, 3, 2], [1, 3, 29, 67, 73, 70, 57, 78, 105, 4, 3, 2]]\n"
     ]
    }
   ],
   "source": [
    "# 프랑스어 데이터에 대한 정수 인코딩\n",
    "decoder_input = []\n",
    "for line in lines.dst:\n",
    "    temp_X = []\n",
    "    for w in line:\n",
    "      temp_X.append(dst_to_index[w])\n",
    "    decoder_input.append(temp_X)\n",
    "print(decoder_input[:5])"
   ]
  },
  {
   "cell_type": "code",
   "execution_count": 11,
   "metadata": {},
   "outputs": [
    {
     "name": "stdout",
     "output_type": "stream",
     "text": [
      "[[3, 48, 53, 3, 4, 3, 2], [3, 45, 53, 64, 73, 72, 3, 4, 3, 2], [3, 45, 53, 64, 73, 72, 14, 3, 2], [3, 29, 67, 73, 70, 71, 105, 4, 3, 2], [3, 29, 67, 73, 70, 57, 78, 105, 4, 3, 2]]\n"
     ]
    }
   ],
   "source": [
    "# 디코더의 예측값과 비교하기 위한 실제값\n",
    "# 정수 인코딩 과정에서 <sos>를 제거\n",
    "decoder_target = []\n",
    "for line in lines.dst:\n",
    "    t=0\n",
    "    temp_X = []\n",
    "    for w in line:\n",
    "      if t>0:\n",
    "        temp_X.append(dst_to_index[w])\n",
    "      t=t+1\n",
    "    decoder_target.append(temp_X)\n",
    "print(decoder_target[:5])"
   ]
  },
  {
   "cell_type": "code",
   "execution_count": 12,
   "metadata": {},
   "outputs": [
    {
     "name": "stdout",
     "output_type": "stream",
     "text": [
      "25 76\n"
     ]
    }
   ],
   "source": [
    "# 패딩을 위해서 영어 문장과 프랑스어 문장 각각에 대해서 가장 길이가 긴 샘플의 길이 확인\n",
    "max_src_len = max([len(line) for line in lines.src])\n",
    "max_dst_len = max([len(line) for line in lines.dst])\n",
    "print(max_src_len, max_dst_len)"
   ]
  },
  {
   "cell_type": "code",
   "execution_count": 13,
   "metadata": {},
   "outputs": [
    {
     "name": "stdout",
     "output_type": "stream",
     "text": [
      "영어 문장의 평균 길이 : 19.4515\n",
      "불어 문장의 평균 길이 : 28.501116666666668\n"
     ]
    }
   ],
   "source": [
    "# 평균 샘플 길이\n",
    "print('영어 문장의 평균 길이 : {}'.format(sum(map(len, lines.src))/len(lines.src)))\n",
    "print('불어 문장의 평균 길이 : {}'.format(sum(map(len, lines.dst))/len(lines.dst)))"
   ]
  },
  {
   "cell_type": "code",
   "execution_count": 14,
   "metadata": {},
   "outputs": [],
   "source": [
    "# 패딩시 사용할 크기 결정\n",
    "pad_src_len = 25\n",
    "pad_dst_len = 76"
   ]
  },
  {
   "cell_type": "code",
   "execution_count": 15,
   "metadata": {},
   "outputs": [],
   "source": [
    "from tensorflow.keras.preprocessing.sequence import pad_sequences\n",
    "encoder_input = pad_sequences(encoder_input, maxlen=pad_src_len, padding='post')\n",
    "decoder_input = pad_sequences(decoder_input, maxlen=pad_dst_len, padding='post')\n",
    "decoder_target = pad_sequences(decoder_target, maxlen=pad_dst_len, padding='post')"
   ]
  },
  {
   "cell_type": "code",
   "execution_count": 16,
   "metadata": {},
   "outputs": [],
   "source": [
    "# 원-핫 인코딩\n",
    "from tensorflow.keras.utils import to_categorical\n",
    "encoder_input = to_categorical(encoder_input)\n",
    "decoder_input = to_categorical(decoder_input)\n",
    "decoder_target = to_categorical(decoder_target)"
   ]
  },
  {
   "cell_type": "markdown",
   "metadata": {},
   "source": [
    "## 2. 교사 강요(Teacher forcing)\n",
    "- 훈련 과정에서는 이전 시점의 디코더 셀의 출력을 현재 시점의 디코더 셀의 입력으로 넣어주지 않고,\n",
    "- 이전 시점의 실제값을 현재 시점의 디코더 셀의 입력값으로 하는 방법을 사용\n",
    "- RNN의 모든 시점에 대해서 이전 시점의 예측값 대신 실제값을 입력으로 주는 방법을 교사 강요라고 함"
   ]
  },
  {
   "cell_type": "markdown",
   "metadata": {},
   "source": [
    "## 3. seq2seq 기계 번역기 훈련시키기"
   ]
  },
  {
   "cell_type": "code",
   "execution_count": 17,
   "metadata": {},
   "outputs": [],
   "source": [
    "from tensorflow.keras.layers import Input, LSTM, Embedding, Dense\n",
    "from tensorflow.keras.models import Model"
   ]
  },
  {
   "cell_type": "code",
   "execution_count": 18,
   "metadata": {},
   "outputs": [],
   "source": [
    "encoder_inputs = Input(shape=(None, src_vocab_size), name='Encoder_Input')\n",
    "encoder_lstm = LSTM(units=256, return_state=True, name='Encoder_LSTM')\n",
    "# 인코더의 내부 상태를 디코더로 넘겨주어야 하기 때문에 return_state=True로 설정\n",
    "encoder_outputs, state_h, state_c = encoder_lstm(encoder_inputs)\n",
    "# encoder_outputs도 같이 리턴받기는 했지만 여기서는 필요없으므로 이 값은 버림.\n",
    "encoder_states = [state_h, state_c]\n",
    "# LSTM은 바닐라 RNN과는 달리 상태가 두 개. 바로 은닉 상태와 셀 상태.\n",
    "# 이겻이 컨텍스트 벡터"
   ]
  },
  {
   "cell_type": "code",
   "execution_count": 19,
   "metadata": {},
   "outputs": [],
   "source": [
    "decoder_inputs = Input(shape=(None, dst_vocab_size), name='Decoder_Input')\n",
    "decoder_lstm = LSTM(units=256, return_sequences=True, return_state=True, name='Decoder_LSTM')\n",
    "decoder_outputs, _, _= decoder_lstm(decoder_inputs, initial_state=encoder_states)\n",
    "# 디코더의 첫 상태를 인코더의 은닉 상태, 셀 상태로 합니다."
   ]
  },
  {
   "cell_type": "code",
   "execution_count": 20,
   "metadata": {},
   "outputs": [
    {
     "name": "stdout",
     "output_type": "stream",
     "text": [
      "Model: \"model\"\n",
      "__________________________________________________________________________________________________\n",
      "Layer (type)                    Output Shape         Param #     Connected to                     \n",
      "==================================================================================================\n",
      "Encoder_Input (InputLayer)      [(None, None, 79)]   0                                            \n",
      "__________________________________________________________________________________________________\n",
      "Decoder_Input (InputLayer)      [(None, None, 106)]  0                                            \n",
      "__________________________________________________________________________________________________\n",
      "Encoder_LSTM (LSTM)             [(None, 256), (None, 344064      Encoder_Input[0][0]              \n",
      "__________________________________________________________________________________________________\n",
      "Decoder_LSTM (LSTM)             [(None, None, 256),  371712      Decoder_Input[0][0]              \n",
      "                                                                 Encoder_LSTM[0][1]               \n",
      "                                                                 Encoder_LSTM[0][2]               \n",
      "__________________________________________________________________________________________________\n",
      "dense (Dense)                   (None, None, 106)    27242       Decoder_LSTM[0][0]               \n",
      "==================================================================================================\n",
      "Total params: 743,018\n",
      "Trainable params: 743,018\n",
      "Non-trainable params: 0\n",
      "__________________________________________________________________________________________________\n"
     ]
    }
   ],
   "source": [
    "decoder_softmax_layer = Dense(dst_vocab_size, activation='softmax')\n",
    "decoder_outputs = decoder_softmax_layer(decoder_outputs)\n",
    "\n",
    "model = Model([encoder_inputs, decoder_inputs], decoder_outputs)\n",
    "model.summary()"
   ]
  },
  {
   "cell_type": "code",
   "execution_count": 21,
   "metadata": {},
   "outputs": [
    {
     "data": {
      "image/png": "[encoded data removed]",
      "text/plain": [
       "<IPython.core.display.Image object>"
      ]
     },
     "execution_count": 21,
     "metadata": {},
     "output_type": "execute_result"
    }
   ],
   "source": [
    "from tensorflow.keras.utils import plot_model\n",
    "plot_model(model, 'image/seq2seq.png')"
   ]
  },
  {
   "cell_type": "code",
   "execution_count": 22,
   "metadata": {},
   "outputs": [],
   "source": [
    "model.compile(optimizer=\"rmsprop\", loss=\"categorical_crossentropy\")"
   ]
  },
  {
   "cell_type": "code",
   "execution_count": 24,
   "metadata": {},
   "outputs": [],
   "source": [
    "from tensorflow.keras.callbacks import ModelCheckpoint, EarlyStopping\n",
    "modelpath = \"model/seq2seq-{epoch:02d}-{val_loss:.4f}.hdf5\"\n",
    "checkpointer = ModelCheckpoint(filepath=modelpath, monitor='val_loss', \n",
    "                               verbose=1, save_best_only=True)\n",
    "#early_stopping_callback = EarlyStopping(monitor='val_loss', patience=10)"
   ]
  },
  {
   "cell_type": "code",
   "execution_count": 25,
   "metadata": {},
   "outputs": [
    {
     "name": "stdout",
     "output_type": "stream",
     "text": [
      "Train on 48000 samples, validate on 12000 samples\n",
      "Epoch 1/50\n",
      "47936/48000 [============================>.] - ETA: 0s - loss: 0.7812\n",
      "Epoch 00001: val_loss improved from inf to 0.68942, saving model to model/seq2seq-01-0.6894.hdf5\n",
      "48000/48000 [==============================] - 59s 1ms/sample - loss: 0.7808 - val_loss: 0.6894\n",
      "Epoch 2/50\n",
      "47936/48000 [============================>.] - ETA: 0s - loss: 0.4820\n",
      "Epoch 00002: val_loss improved from 0.68942 to 0.56079, saving model to model/seq2seq-02-0.5608.hdf5\n",
      "48000/48000 [==============================] - 61s 1ms/sample - loss: 0.4820 - val_loss: 0.5608\n",
      "Epoch 3/50\n",
      "47936/48000 [============================>.] - ETA: 0s - loss: 0.4011\n",
      "Epoch 00003: val_loss improved from 0.56079 to 0.48824, saving model to model/seq2seq-03-0.4882.hdf5\n",
      "48000/48000 [==============================] - 85s 2ms/sample - loss: 0.4011 - val_loss: 0.4882\n",
      "Epoch 4/50\n",
      "47936/48000 [============================>.] - ETA: 0s - loss: 0.3556\n",
      "Epoch 00004: val_loss improved from 0.48824 to 0.45247, saving model to model/seq2seq-04-0.4525.hdf5\n",
      "48000/48000 [==============================] - 84s 2ms/sample - loss: 0.3556 - val_loss: 0.4525\n",
      "Epoch 5/50\n",
      "47936/48000 [============================>.] - ETA: 0s - loss: 0.3260\n",
      "Epoch 00005: val_loss improved from 0.45247 to 0.42827, saving model to model/seq2seq-05-0.4283.hdf5\n",
      "48000/48000 [==============================] - 77s 2ms/sample - loss: 0.3260 - val_loss: 0.4283\n",
      "Epoch 6/50\n",
      "47936/48000 [============================>.] - ETA: 0s - loss: 0.3045\n",
      "Epoch 00006: val_loss improved from 0.42827 to 0.40985, saving model to model/seq2seq-06-0.4099.hdf5\n",
      "48000/48000 [==============================] - 89s 2ms/sample - loss: 0.3045 - val_loss: 0.4099\n",
      "Epoch 7/50\n",
      "47936/48000 [============================>.] - ETA: 0s - loss: 0.2878- ETA: 1s\n",
      "Epoch 00007: val_loss improved from 0.40985 to 0.39686, saving model to model/seq2seq-07-0.3969.hdf5\n",
      "48000/48000 [==============================] - 90s 2ms/sample - loss: 0.2878 - val_loss: 0.3969\n",
      "Epoch 8/50\n",
      "47936/48000 [============================>.] - ETA: 0s - loss: 0.2744\n",
      "Epoch 00008: val_loss improved from 0.39686 to 0.38934, saving model to model/seq2seq-08-0.3893.hdf5\n",
      "48000/48000 [==============================] - 90s 2ms/sample - loss: 0.2743 - val_loss: 0.3893\n",
      "Epoch 9/50\n",
      "47936/48000 [============================>.] - ETA: 0s - loss: 0.2633\n",
      "Epoch 00009: val_loss improved from 0.38934 to 0.38157, saving model to model/seq2seq-09-0.3816.hdf5\n",
      "48000/48000 [==============================] - 89s 2ms/sample - loss: 0.2633 - val_loss: 0.3816\n",
      "Epoch 10/50\n",
      "47936/48000 [============================>.] - ETA: 0s - loss: 0.2536\n",
      "Epoch 00010: val_loss improved from 0.38157 to 0.37691, saving model to model/seq2seq-10-0.3769.hdf5\n",
      "48000/48000 [==============================] - 92s 2ms/sample - loss: 0.2536 - val_loss: 0.3769\n",
      "Epoch 11/50\n",
      "47936/48000 [============================>.] - ETA: 0s - loss: 0.2453\n",
      "Epoch 00011: val_loss improved from 0.37691 to 0.37307, saving model to model/seq2seq-11-0.3731.hdf5\n",
      "48000/48000 [==============================] - 89s 2ms/sample - loss: 0.2452 - val_loss: 0.3731\n",
      "Epoch 12/50\n",
      "47936/48000 [============================>.] - ETA: 0s - loss: 0.2379\n",
      "Epoch 00012: val_loss improved from 0.37307 to 0.36944, saving model to model/seq2seq-12-0.3694.hdf5\n",
      "48000/48000 [==============================] - 95s 2ms/sample - loss: 0.2379 - val_loss: 0.3694\n",
      "Epoch 13/50\n",
      "47936/48000 [============================>.] - ETA: 0s - loss: 0.2312\n",
      "Epoch 00013: val_loss improved from 0.36944 to 0.36762, saving model to model/seq2seq-13-0.3676.hdf5\n",
      "48000/48000 [==============================] - 84s 2ms/sample - loss: 0.2312 - val_loss: 0.3676\n",
      "Epoch 14/50\n",
      "47936/48000 [============================>.] - ETA: 0s - loss: 0.2251\n",
      "Epoch 00014: val_loss improved from 0.36762 to 0.36714, saving model to model/seq2seq-14-0.3671.hdf5\n",
      "48000/48000 [==============================] - 99s 2ms/sample - loss: 0.2251 - val_loss: 0.3671\n",
      "Epoch 15/50\n",
      "47936/48000 [============================>.] - ETA: 0s - loss: 0.2196\n",
      "Epoch 00015: val_loss improved from 0.36714 to 0.36530, saving model to model/seq2seq-15-0.3653.hdf5\n",
      "48000/48000 [==============================] - 89s 2ms/sample - loss: 0.2196 - val_loss: 0.3653\n",
      "Epoch 16/50\n",
      "47936/48000 [============================>.] - ETA: 0s - loss: 0.2145\n",
      "Epoch 00016: val_loss improved from 0.36530 to 0.36498, saving model to model/seq2seq-16-0.3650.hdf5\n",
      "48000/48000 [==============================] - 93s 2ms/sample - loss: 0.2144 - val_loss: 0.3650\n",
      "Epoch 17/50\n",
      "47936/48000 [============================>.] - ETA: 0s - loss: 0.2097\n",
      "Epoch 00017: val_loss did not improve from 0.36498\n",
      "48000/48000 [==============================] - 92s 2ms/sample - loss: 0.2097 - val_loss: 0.3660\n",
      "Epoch 18/50\n",
      "47936/48000 [============================>.] - ETA: 0s - loss: 0.2051\n",
      "Epoch 00018: val_loss did not improve from 0.36498\n",
      "48000/48000 [==============================] - 85s 2ms/sample - loss: 0.2051 - val_loss: 0.3677\n",
      "Epoch 19/50\n",
      "47936/48000 [============================>.] - ETA: 0s - loss: 0.2010\n",
      "Epoch 00019: val_loss did not improve from 0.36498\n",
      "48000/48000 [==============================] - 102s 2ms/sample - loss: 0.2010 - val_loss: 0.3665\n",
      "Epoch 20/50\n",
      "47936/48000 [============================>.] - ETA: 0s - loss: 0.1970\n",
      "Epoch 00020: val_loss did not improve from 0.36498\n",
      "48000/48000 [==============================] - 95s 2ms/sample - loss: 0.1970 - val_loss: 0.3684\n",
      "Epoch 21/50\n",
      "47936/48000 [============================>.] - ETA: 0s - loss: 0.1933\n",
      "Epoch 00021: val_loss did not improve from 0.36498\n",
      "48000/48000 [==============================] - 94s 2ms/sample - loss: 0.1933 - val_loss: 0.3695\n",
      "Epoch 22/50\n",
      "47936/48000 [============================>.] - ETA: 0s - loss: 0.1897\n",
      "Epoch 00022: val_loss did not improve from 0.36498\n",
      "48000/48000 [==============================] - 89s 2ms/sample - loss: 0.1897 - val_loss: 0.3714\n",
      "Epoch 23/50\n",
      "47936/48000 [============================>.] - ETA: 0s - loss: 0.1863\n",
      "Epoch 00023: val_loss did not improve from 0.36498\n",
      "48000/48000 [==============================] - 84s 2ms/sample - loss: 0.1863 - val_loss: 0.3742\n",
      "Epoch 24/50\n",
      "47936/48000 [============================>.] - ETA: 0s - loss: 0.1830\n",
      "Epoch 00024: val_loss did not improve from 0.36498\n",
      "48000/48000 [==============================] - 97s 2ms/sample - loss: 0.1830 - val_loss: 0.3743\n",
      "Epoch 25/50\n",
      "47936/48000 [============================>.] - ETA: 0s - loss: 0.1800\n",
      "Epoch 00025: val_loss did not improve from 0.36498\n",
      "48000/48000 [==============================] - 86s 2ms/sample - loss: 0.1800 - val_loss: 0.3783\n",
      "Epoch 26/50\n",
      "47936/48000 [============================>.] - ETA: 0s - loss: 0.1770\n",
      "Epoch 00026: val_loss did not improve from 0.36498\n",
      "48000/48000 [==============================] - 100s 2ms/sample - loss: 0.1770 - val_loss: 0.3778\n",
      "Epoch 27/50\n",
      "47936/48000 [============================>.] - ETA: 0s - loss: 0.1743\n",
      "Epoch 00027: val_loss did not improve from 0.36498\n",
      "48000/48000 [==============================] - 99s 2ms/sample - loss: 0.1743 - val_loss: 0.3814\n",
      "Epoch 28/50\n",
      "47936/48000 [============================>.] - ETA: 0s - loss: 0.1716\n",
      "Epoch 00028: val_loss did not improve from 0.36498\n",
      "48000/48000 [==============================] - 95s 2ms/sample - loss: 0.1716 - val_loss: 0.3846\n",
      "Epoch 29/50\n",
      "47936/48000 [============================>.] - ETA: 0s - loss: 0.1691\n",
      "Epoch 00029: val_loss did not improve from 0.36498\n",
      "48000/48000 [==============================] - 101s 2ms/sample - loss: 0.1691 - val_loss: 0.3853\n",
      "Epoch 30/50\n",
      "47936/48000 [============================>.] - ETA: 0s - loss: 0.1667\n",
      "Epoch 00030: val_loss did not improve from 0.36498\n",
      "48000/48000 [==============================] - 103s 2ms/sample - loss: 0.1667 - val_loss: 0.3884\n",
      "Epoch 31/50\n",
      "47936/48000 [============================>.] - ETA: 0s - loss: 0.1644\n",
      "Epoch 00031: val_loss did not improve from 0.36498\n",
      "48000/48000 [==============================] - 105s 2ms/sample - loss: 0.1644 - val_loss: 0.3913\n",
      "Epoch 32/50\n",
      "47936/48000 [============================>.] - ETA: 0s - loss: 0.1620\n",
      "Epoch 00032: val_loss did not improve from 0.36498\n",
      "48000/48000 [==============================] - 109s 2ms/sample - loss: 0.1620 - val_loss: 0.3945\n",
      "Epoch 33/50\n"
     ]
    },
    {
     "name": "stdout",
     "output_type": "stream",
     "text": [
      "47936/48000 [============================>.] - ETA: 0s - loss: 0.1599\n",
      "Epoch 00033: val_loss did not improve from 0.36498\n",
      "48000/48000 [==============================] - 108s 2ms/sample - loss: 0.1599 - val_loss: 0.3966\n",
      "Epoch 34/50\n",
      "47936/48000 [============================>.] - ETA: 0s - loss: 0.1578\n",
      "Epoch 00034: val_loss did not improve from 0.36498\n",
      "48000/48000 [==============================] - 97s 2ms/sample - loss: 0.1578 - val_loss: 0.4000\n",
      "Epoch 35/50\n",
      "47936/48000 [============================>.] - ETA: 0s - loss: 0.1559\n",
      "Epoch 00035: val_loss did not improve from 0.36498\n",
      "48000/48000 [==============================] - 110s 2ms/sample - loss: 0.1558 - val_loss: 0.4007\n",
      "Epoch 36/50\n",
      "47936/48000 [============================>.] - ETA: 0s - loss: 0.1540\n",
      "Epoch 00036: val_loss did not improve from 0.36498\n",
      "48000/48000 [==============================] - 106s 2ms/sample - loss: 0.1540 - val_loss: 0.4045\n",
      "Epoch 37/50\n",
      "47936/48000 [============================>.] - ETA: 0s - loss: 0.1521\n",
      "Epoch 00037: val_loss did not improve from 0.36498\n",
      "48000/48000 [==============================] - 109s 2ms/sample - loss: 0.1521 - val_loss: 0.4064\n",
      "Epoch 38/50\n",
      "47936/48000 [============================>.] - ETA: 0s - loss: 0.1502\n",
      "Epoch 00038: val_loss did not improve from 0.36498\n",
      "48000/48000 [==============================] - 114s 2ms/sample - loss: 0.1502 - val_loss: 0.4077\n",
      "Epoch 39/50\n",
      "47936/48000 [============================>.] - ETA: 0s - loss: 0.1486\n",
      "Epoch 00039: val_loss did not improve from 0.36498\n",
      "48000/48000 [==============================] - 114s 2ms/sample - loss: 0.1486 - val_loss: 0.4119\n",
      "Epoch 40/50\n",
      "47936/48000 [============================>.] - ETA: 0s - loss: 0.1468\n",
      "Epoch 00040: val_loss did not improve from 0.36498\n",
      "48000/48000 [==============================] - 113s 2ms/sample - loss: 0.1469 - val_loss: 0.4138\n",
      "Epoch 41/50\n",
      "47936/48000 [============================>.] - ETA: 0s - loss: 0.1454\n",
      "Epoch 00041: val_loss did not improve from 0.36498\n",
      "48000/48000 [==============================] - 114s 2ms/sample - loss: 0.1454 - val_loss: 0.4178\n",
      "Epoch 42/50\n",
      "47936/48000 [============================>.] - ETA: 0s - loss: 0.1438\n",
      "Epoch 00042: val_loss did not improve from 0.36498\n",
      "48000/48000 [==============================] - 114s 2ms/sample - loss: 0.1438 - val_loss: 0.4191\n",
      "Epoch 43/50\n",
      "47936/48000 [============================>.] - ETA: 0s - loss: 0.1422\n",
      "Epoch 00043: val_loss did not improve from 0.36498\n",
      "48000/48000 [==============================] - 114s 2ms/sample - loss: 0.1422 - val_loss: 0.4232\n",
      "Epoch 44/50\n",
      "47936/48000 [============================>.] - ETA: 0s - loss: 0.1408\n",
      "Epoch 00044: val_loss did not improve from 0.36498\n",
      "48000/48000 [==============================] - 114s 2ms/sample - loss: 0.1408 - val_loss: 0.4240\n",
      "Epoch 45/50\n",
      "47936/48000 [============================>.] - ETA: 0s - loss: 0.1393\n",
      "Epoch 00045: val_loss did not improve from 0.36498\n",
      "48000/48000 [==============================] - 114s 2ms/sample - loss: 0.1393 - val_loss: 0.4253\n",
      "Epoch 46/50\n",
      "47936/48000 [============================>.] - ETA: 0s - loss: 0.1381\n",
      "Epoch 00046: val_loss did not improve from 0.36498\n",
      "48000/48000 [==============================] - 114s 2ms/sample - loss: 0.1382 - val_loss: 0.4273\n",
      "Epoch 47/50\n",
      "47936/48000 [============================>.] - ETA: 0s - loss: 0.1368\n",
      "Epoch 00047: val_loss did not improve from 0.36498\n",
      "48000/48000 [==============================] - 115s 2ms/sample - loss: 0.1368 - val_loss: 0.4312\n",
      "Epoch 48/50\n",
      "47936/48000 [============================>.] - ETA: 0s - loss: 0.1356\n",
      "Epoch 00048: val_loss did not improve from 0.36498\n",
      "48000/48000 [==============================] - 114s 2ms/sample - loss: 0.1356 - val_loss: 0.4328\n",
      "Epoch 49/50\n",
      "47936/48000 [============================>.] - ETA: 0s - loss: 0.1342\n",
      "Epoch 00049: val_loss did not improve from 0.36498\n",
      "48000/48000 [==============================] - 114s 2ms/sample - loss: 0.1343 - val_loss: 0.4362\n",
      "Epoch 50/50\n",
      "47936/48000 [============================>.] - ETA: 0s - loss: 0.1331\n",
      "Epoch 00050: val_loss did not improve from 0.36498\n",
      "48000/48000 [==============================] - 114s 2ms/sample - loss: 0.1331 - val_loss: 0.4384\n"
     ]
    },
    {
     "data": {
      "text/plain": [
       "<tensorflow.python.keras.callbacks.History at 0x1f014f4ae48>"
      ]
     },
     "execution_count": 25,
     "metadata": {},
     "output_type": "execute_result"
    }
   ],
   "source": [
    "model.fit(x=[encoder_input, decoder_input], y=decoder_target,\n",
    "          batch_size=64, epochs=50, validation_split=0.2,\n",
    "          callbacks=[checkpointer])"
   ]
  },
  {
   "cell_type": "markdown",
   "metadata": {},
   "source": [
    "## 4. seq2seq 기계 번역기 동작시키기\n",
    "- 학습한 최종 모델로"
   ]
  },
  {
   "cell_type": "code",
   "execution_count": 26,
   "metadata": {},
   "outputs": [],
   "source": [
    "encoder_model = Model(inputs=encoder_inputs, outputs=encoder_states)"
   ]
  },
  {
   "cell_type": "code",
   "execution_count": 27,
   "metadata": {},
   "outputs": [],
   "source": [
    "decoder_state_input_h = Input(shape=(256,))\n",
    "decoder_state_input_c = Input(shape=(256,))\n",
    "decoder_states_inputs = [decoder_state_input_h, decoder_state_input_c]\n",
    "decoder_outputs, state_h, state_c = decoder_lstm(decoder_inputs, initial_state=decoder_states_inputs)\n",
    "# 문장의 다음 단어를 예측하기 위해서 초기 상태를 이전 상태로 사용\n",
    "decoder_states = [state_h, state_c]\n",
    "# 이번에는 훈련 과정에서와 달리 은닉 상태와 셀 상태인 state_h와 state_c를 버리지 않음.\n",
    "decoder_outputs = decoder_softmax_layer(decoder_outputs)\n",
    "decoder_model = Model(inputs=[decoder_inputs] + decoder_states_inputs, outputs=[decoder_outputs] + decoder_states)"
   ]
  },
  {
   "cell_type": "code",
   "execution_count": 28,
   "metadata": {},
   "outputs": [],
   "source": [
    "index_to_src = dict(\n",
    "    (i, char) for char, i in src_to_index.items())\n",
    "index_to_dst = dict(\n",
    "    (i, char) for char, i in dst_to_index.items())"
   ]
  },
  {
   "cell_type": "code",
   "execution_count": 29,
   "metadata": {},
   "outputs": [],
   "source": [
    "def decode_sequence(input_seq):\n",
    "    # 입력으로부터 인코더의 상태를 얻음\n",
    "    states_value = encoder_model.predict(input_seq)\n",
    "    # <SOS>에 해당하는 원-핫 벡터 생성\n",
    "    target_seq = np.zeros((1, 1, dst_vocab_size))\n",
    "    target_seq[0, 0, dst_to_index['\\t']] = 1.\n",
    "\n",
    "    stop_condition = False\n",
    "    decoded_sentence = \"\"\n",
    "    while not stop_condition: #stop_condition이 True가 될 때까지 루프 반복\n",
    "        output_tokens, h, c = decoder_model.predict([target_seq] + states_value)\n",
    "        sampled_token_index = np.argmax(output_tokens[0, -1, :])\n",
    "        sampled_char = index_to_dst[sampled_token_index]\n",
    "        decoded_sentence += sampled_char\n",
    "\n",
    "        # <sos>에 도달하거나 최대 길이를 넘으면 중단.\n",
    "        if (sampled_char == '\\n' or\n",
    "           len(decoded_sentence) > max_dst_len):\n",
    "            stop_condition = True\n",
    "\n",
    "        # 길이가 1인 타겟 시퀀스를 업데이트 합니다.\n",
    "        target_seq = np.zeros((1, 1, dst_vocab_size))\n",
    "        target_seq[0, 0, sampled_token_index] = 1.\n",
    "\n",
    "        # 상태를 업데이트 합니다.\n",
    "        states_value = [h, c]\n",
    "\n",
    "    return decoded_sentence"
   ]
  },
  {
   "cell_type": "code",
   "execution_count": 30,
   "metadata": {},
   "outputs": [
    {
     "name": "stdout",
     "output_type": "stream",
     "text": [
      "-----------------------------------\n",
      "입력 문장: Run!\n",
      "정답 문장:  Cours ! \n",
      "번역기가 번역한 문장:  Courez ! \n",
      "-----------------------------------\n",
      "입력 문장: I lost.\n",
      "정답 문장:  J'ai perdu. \n",
      "번역기가 번역한 문장:  J'ai perdu. \n",
      "-----------------------------------\n",
      "입력 문장: Come in.\n",
      "정답 문장:  Entre ! \n",
      "번역기가 번역한 문장:  Entrez ! \n",
      "-----------------------------------\n",
      "입력 문장: I got it.\n",
      "정답 문장:  J'ai capté. \n",
      "번역기가 번역한 문장:  Je l'ai confectionné. \n",
      "-----------------------------------\n",
      "입력 문장: Who cares?\n",
      "정답 문장:  Qui s'en préoccupe ? \n",
      "번역기가 번역한 문장:  Qui s'en soucie ? \n"
     ]
    }
   ],
   "source": [
    "import numpy as np\n",
    "for seq_index in [3,50,100,300,1001]: # 입력 문장의 인덱스\n",
    "    input_seq = encoder_input[seq_index: seq_index + 1]\n",
    "    decoded_sentence = decode_sequence(input_seq)\n",
    "    print(35 * \"-\")\n",
    "    print('입력 문장:', lines.src[seq_index])\n",
    "    print('정답 문장:', lines.dst[seq_index][1:len(lines.dst[seq_index])-1]) # '\\t'와 '\\n'을 빼고 출력\n",
    "    print('번역기가 번역한 문장:', decoded_sentence[:len(decoded_sentence)-1]) # '\\n'을 빼고 출력"
   ]
  },
  {
   "cell_type": "markdown",
   "metadata": {},
   "source": [
    "## 5. seq2seq 기계 번역기 동작시키기\n",
    "- Best 모델로"
   ]
  },
  {
   "cell_type": "code",
   "execution_count": 31,
   "metadata": {},
   "outputs": [],
   "source": [
    "# Best Model 선택\n",
    "from tensorflow.keras.models import load_model\n",
    "del model\n",
    "model = load_model('model/seq2seq-16-0.3650.hdf5')"
   ]
  },
  {
   "cell_type": "code",
   "execution_count": 32,
   "metadata": {},
   "outputs": [],
   "source": [
    "encoder_model = Model(inputs=encoder_inputs, outputs=encoder_states)"
   ]
  },
  {
   "cell_type": "code",
   "execution_count": 33,
   "metadata": {},
   "outputs": [],
   "source": [
    "decoder_state_input_h = Input(shape=(256,))\n",
    "decoder_state_input_c = Input(shape=(256,))\n",
    "decoder_states_inputs = [decoder_state_input_h, decoder_state_input_c]\n",
    "decoder_outputs, state_h, state_c = decoder_lstm(decoder_inputs, initial_state=decoder_states_inputs)\n",
    "# 문장의 다음 단어를 예측하기 위해서 초기 상태를 이전 상태로 사용\n",
    "decoder_states = [state_h, state_c]\n",
    "# 이번에는 훈련 과정에서와 달리 은닉 상태와 셀 상태인 state_h와 state_c를 버리지 않음.\n",
    "decoder_outputs = decoder_softmax_layer(decoder_outputs)\n",
    "decoder_model = Model(inputs=[decoder_inputs] + decoder_states_inputs, outputs=[decoder_outputs] + decoder_states)"
   ]
  },
  {
   "cell_type": "code",
   "execution_count": 34,
   "metadata": {},
   "outputs": [
    {
     "name": "stdout",
     "output_type": "stream",
     "text": [
      "-----------------------------------\n",
      "입력 문장: Run!\n",
      "정답 문장:  Cours ! \n",
      "번역기가 번역한 문장:  Courez ! \n",
      "-----------------------------------\n",
      "입력 문장: I lost.\n",
      "정답 문장:  J'ai perdu. \n",
      "번역기가 번역한 문장:  J'ai perdu. \n",
      "-----------------------------------\n",
      "입력 문장: Come in.\n",
      "정답 문장:  Entre ! \n",
      "번역기가 번역한 문장:  Entrez ! \n",
      "-----------------------------------\n",
      "입력 문장: I got it.\n",
      "정답 문장:  J'ai capté. \n",
      "번역기가 번역한 문장:  Je l'ai confectionné. \n",
      "-----------------------------------\n",
      "입력 문장: Who cares?\n",
      "정답 문장:  Qui s'en préoccupe ? \n",
      "번역기가 번역한 문장:  Qui s'en soucie ? \n"
     ]
    }
   ],
   "source": [
    "for seq_index in [3,50,100,300,1001]: # 입력 문장의 인덱스\n",
    "    input_seq = encoder_input[seq_index: seq_index + 1]\n",
    "    decoded_sentence = decode_sequence(input_seq)\n",
    "    print(35 * \"-\")\n",
    "    print('입력 문장:', lines.src[seq_index])\n",
    "    print('정답 문장:', lines.dst[seq_index][1:len(lines.dst[seq_index])-1]) # '\\t'와 '\\n'을 빼고 출력\n",
    "    print('번역기가 번역한 문장:', decoded_sentence[:len(decoded_sentence)-1]) # '\\n'을 빼고 출력"
   ]
  },
  {
   "cell_type": "code",
   "execution_count": null,
   "metadata": {},
   "outputs": [],
   "source": []
  }
 ],
 "metadata": {
  "kernelspec": {
   "display_name": "Python 3",
   "language": "python",
   "name": "python3"
  },
  "language_info": {
   "codemirror_mode": {
    "name": "ipython",
    "version": 3
   },
   "file_extension": ".py",
   "mimetype": "text/x-python",
   "name": "python",
   "nbconvert_exporter": "python",
   "pygments_lexer": "ipython3",
   "version": "3.7.5"
  }
 },
 "nbformat": 4,
 "nbformat_minor": 2
}
