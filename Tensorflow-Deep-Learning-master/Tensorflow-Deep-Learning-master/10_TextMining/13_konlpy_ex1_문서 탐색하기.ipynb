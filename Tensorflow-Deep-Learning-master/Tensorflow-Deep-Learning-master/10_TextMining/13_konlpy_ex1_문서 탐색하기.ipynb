{
 "cells": [
  {
   "cell_type": "markdown",
   "metadata": {},
   "source": [
    "# 문서 탐색하기\n",
    "- 개수 세기 (문자, 단어 등)\n",
    "- 지프의 법칙(Zipf's laws) 확인해보기: fr=k<br>\n",
    "지프의 법칙(Zipf's law)은 수학적 통계를 바탕으로 밝혀진 경험적 법칙으로, 물리 및 사회 과학 분야에서 연구된 많은 종류의 정보들이 지프 분포에 가까운 경향을 보인다는 것을 뜻한다. 지프 분포는 이산 멱법칙 확률분포와 관계된 확률분포의 하나이다.\n",
    "- 용례 찾기"
   ]
  },
  {
   "cell_type": "code",
   "execution_count": 1,
   "metadata": {},
   "outputs": [],
   "source": [
    "from collections import Counter\n",
    "\n",
    "from konlpy.corpus import kolaw\n",
    "from konlpy.tag import Hannanum\n",
    "from konlpy.utils import concordance, pprint\n",
    "import matplotlib.pyplot as plt\n",
    "%matplotlib inline"
   ]
  },
  {
   "cell_type": "code",
   "execution_count": 2,
   "metadata": {},
   "outputs": [],
   "source": [
    "def draw_zipf(count_list, filename, color='blue', marker='o'):\n",
    "    sorted_list = sorted(count_list, reverse=True)\n",
    "    plt.plot(sorted_list, color=color, marker=marker)\n",
    "    plt.xscale('log')\n",
    "    plt.yscale('log')\n",
    "    plt.savefig(filename)"
   ]
  },
  {
   "cell_type": "code",
   "execution_count": 4,
   "metadata": {},
   "outputs": [],
   "source": [
    "doc = kolaw.open('constitution.txt').read()\n",
    "pos = Hannanum().pos(doc)\n",
    "cnt = Counter(pos)"
   ]
  },
  {
   "cell_type": "code",
   "execution_count": 5,
   "metadata": {},
   "outputs": [
    {
     "name": "stdout",
     "output_type": "stream",
     "text": [
      "nchars  : 18884\n",
      "ntokens : 4178\n",
      "nmorphs : 1499\n",
      "\n",
      "Top 20 frequent morphemes:\n",
      "[(('의', 'J'), 396),\n",
      " (('.', 'S'), 340),\n",
      " (('하', 'X'), 291),\n",
      " (('에', 'J'), 283),\n",
      " (('ㄴ다', 'E'), 241),\n",
      " (('ㄴ', 'E'), 223),\n",
      " (('이', 'J'), 221),\n",
      " (('을', 'J'), 211),\n",
      " (('은', 'J'), 184),\n",
      " (('어', 'E'), 176),\n",
      " (('를', 'J'), 148),\n",
      " (('ㄹ', 'E'), 134),\n",
      " (('하', 'P'), 124),\n",
      " (('는', 'J'), 117),\n",
      " (('법률', 'N'), 115),\n",
      " ((',', 'S'), 99),\n",
      " (('는', 'E'), 97),\n",
      " (('있', 'P'), 96),\n",
      " (('되', 'X'), 94),\n",
      " (('수', 'N'), 91)]\n",
      "\n",
      "Locations of \"대한민국\" in the document:\n",
      "0\t대한민국헌법 유구한 역사와\n",
      "9\t대한국민은 3·1운동으로 건립된 대한민국임시정부의 법통과 불의에\n",
      "98\t총강 제1조 ① 대한민국은 민주공화국이다. ②대한민국의\n",
      "100\t① 대한민국은 민주공화국이다. ②대한민국의 주권은 국민에게\n",
      "110\t나온다. 제2조 ① 대한민국의 국민이 되는\n",
      "126\t의무를 진다. 제3조 대한민국의 영토는 한반도와\n",
      "133\t부속도서로 한다. 제4조 대한민국은 통일을 지향하며,\n",
      "147\t추진한다. 제5조 ① 대한민국은 국제평화의 유지에\n",
      "787\t군무원이 아닌 국민은 대한민국의 영역안에서는 중대한\n",
      "1836\t파견 또는 외국군대의 대한민국 영역안에서의 주류에\n",
      "3620\t경제 제119조 ① 대한민국의 경제질서는 개인과\n"
     ]
    },
    {
     "data": {
      "text/plain": [
       "[0, 9, 98, 100, 110, 126, 133, 147, 787, 1836, 3620]"
      ]
     },
     "execution_count": 5,
     "metadata": {},
     "output_type": "execute_result"
    }
   ],
   "source": [
    "print('nchars  :', len(doc))\n",
    "print('ntokens :', len(doc.split()))\n",
    "print('nmorphs :', len(set(pos)))\n",
    "print('\\nTop 20 frequent morphemes:'); pprint(cnt.most_common(20))\n",
    "print('\\nLocations of \"대한민국\" in the document:')\n",
    "concordance(u'대한민국', doc, show=True)"
   ]
  },
  {
   "cell_type": "code",
   "execution_count": 6,
   "metadata": {},
   "outputs": [
    {
     "data": {
      "image/png": "[encoded data removed]",
      "text/plain": [
       "<Figure size 432x288 with 1 Axes>"
      ]
     },
     "metadata": {
      "needs_background": "light"
     },
     "output_type": "display_data"
    }
   ],
   "source": [
    "draw_zipf(cnt.values(), 'data/13.zipf.png')"
   ]
  },
  {
   "cell_type": "code",
   "execution_count": null,
   "metadata": {},
   "outputs": [],
   "source": []
  }
 ],
 "metadata": {
  "kernelspec": {
   "display_name": "Python 3",
   "language": "python",
   "name": "python3"
  },
  "language_info": {
   "codemirror_mode": {
    "name": "ipython",
    "version": 3
   },
   "file_extension": ".py",
   "mimetype": "text/x-python",
   "name": "python",
   "nbconvert_exporter": "python",
   "pygments_lexer": "ipython3",
   "version": "3.7.3"
  }
 },
 "nbformat": 4,
 "nbformat_minor": 2
}
