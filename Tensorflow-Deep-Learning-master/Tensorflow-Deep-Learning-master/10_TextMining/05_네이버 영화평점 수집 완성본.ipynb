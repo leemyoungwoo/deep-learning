{
 "cells": [
  {
   "cell_type": "markdown",
   "metadata": {},
   "source": [
    "# Naver Movie 평점 데이터 수집\n",
    "## 알라딘 Aladdin, 2019"
   ]
  },
  {
   "cell_type": "code",
   "execution_count": 1,
   "metadata": {},
   "outputs": [],
   "source": [
    "from bs4 import BeautifulSoup \n",
    "from urllib.request import urlopen"
   ]
  },
  {
   "cell_type": "code",
   "execution_count": 2,
   "metadata": {},
   "outputs": [],
   "source": [
    "url_base = 'https://movie.naver.com'\n",
    "url_sub = '/movie/bi/mi/point.nhn?code=163788'\n",
    "url = url_base + url_sub\n",
    "\n",
    "html = urlopen(url)\n",
    "soup = BeautifulSoup(html, \"html.parser\")"
   ]
  },
  {
   "cell_type": "markdown",
   "metadata": {},
   "source": [
    "### iframe에서 src 태그의 주소를 얻어야 함"
   ]
  },
  {
   "cell_type": "code",
   "execution_count": 3,
   "metadata": {},
   "outputs": [
    {
     "data": {
      "text/plain": [
       "'/movie/bi/mi/pointWriteFormList.nhn?code=163788&type=after&isActualPointWriteExecute=false&isMileageSubscriptionAlready=false&isMileageSubscriptionReject=false'"
      ]
     },
     "execution_count": 3,
     "metadata": {},
     "output_type": "execute_result"
    }
   ],
   "source": [
    "ifr_url = soup.find('iframe')['src']\n",
    "ifr_url"
   ]
  },
  {
   "cell_type": "markdown",
   "metadata": {},
   "source": [
    "### review 건수 구하기"
   ]
  },
  {
   "cell_type": "code",
   "execution_count": 4,
   "metadata": {},
   "outputs": [
    {
     "data": {
      "text/plain": [
       "<strong class=\"total\">관람객 평점 <em>26,440</em>건<button class=\"btn_review\" id=\"open-form-btn\">내 평점 등록</button></strong>"
      ]
     },
     "execution_count": 4,
     "metadata": {},
     "output_type": "execute_result"
    }
   ],
   "source": [
    "url = url_base + ifr_url\n",
    "html = urlopen(url)\n",
    "soup = BeautifulSoup(html, \"html.parser\")\n",
    "count = soup.find('strong', 'total')\n",
    "count"
   ]
  },
  {
   "cell_type": "code",
   "execution_count": 5,
   "metadata": {},
   "outputs": [
    {
     "data": {
      "text/plain": [
       "'26,440'"
      ]
     },
     "execution_count": 5,
     "metadata": {},
     "output_type": "execute_result"
    }
   ],
   "source": [
    "count = count.find('em').string\n",
    "count "
   ]
  },
  {
   "cell_type": "code",
   "execution_count": 6,
   "metadata": {},
   "outputs": [
    {
     "data": {
      "text/plain": [
       "26440"
      ]
     },
     "execution_count": 6,
     "metadata": {},
     "output_type": "execute_result"
    }
   ],
   "source": [
    "total_count = int(count.replace(',', ''))\n",
    "total_count"
   ]
  },
  {
   "cell_type": "code",
   "execution_count": 7,
   "metadata": {},
   "outputs": [
    {
     "data": {
      "text/plain": [
       "2644"
      ]
     },
     "execution_count": 7,
     "metadata": {},
     "output_type": "execute_result"
    }
   ],
   "source": [
    "import math\n",
    "total_page = math.ceil(total_count / 10)\n",
    "total_page"
   ]
  },
  {
   "cell_type": "markdown",
   "metadata": {},
   "source": [
    "### 첫번째 페이지에서 리뷰, 평점, 날짜 구해보기"
   ]
  },
  {
   "cell_type": "code",
   "execution_count": 8,
   "metadata": {},
   "outputs": [],
   "source": [
    "point = []\n",
    "review = []\n",
    "date = []\n",
    "results = soup.find('div', 'score_result')\n",
    "lis = results.find_all('li')\n",
    "for li in lis:\n",
    "    p = li.find('div', 'star_score').find('em').string\n",
    "    point.append(p)\n",
    "    r = li.find('div', 'score_reple').find('p').find('span').string.strip(' \\t\\n\\r')\n",
    "    review.append(r)\n",
    "    d = li.find('div', 'score_reple').find_all('em')[1].string\n",
    "    date.append(d)"
   ]
  },
  {
   "cell_type": "code",
   "execution_count": 9,
   "metadata": {},
   "outputs": [
    {
     "data": {
      "text/html": [
       "<div>\n",
       "<style scoped>\n",
       "    .dataframe tbody tr th:only-of-type {\n",
       "        vertical-align: middle;\n",
       "    }\n",
       "\n",
       "    .dataframe tbody tr th {\n",
       "        vertical-align: top;\n",
       "    }\n",
       "\n",
       "    .dataframe thead th {\n",
       "        text-align: right;\n",
       "    }\n",
       "</style>\n",
       "<table border=\"1\" class=\"dataframe\">\n",
       "  <thead>\n",
       "    <tr style=\"text-align: right;\">\n",
       "      <th></th>\n",
       "      <th>point</th>\n",
       "      <th>review</th>\n",
       "      <th>date</th>\n",
       "    </tr>\n",
       "  </thead>\n",
       "  <tbody>\n",
       "    <tr>\n",
       "      <th>0</th>\n",
       "      <td>10</td>\n",
       "      <td>윌 스미스가 하드캐리하여 의도치 않게 원작을 뛰어넘은 실사영화</td>\n",
       "      <td>2019.05.23 11:26</td>\n",
       "    </tr>\n",
       "    <tr>\n",
       "      <th>1</th>\n",
       "      <td>10</td>\n",
       "      <td>영화가 너무 아름답다..ost도 잊혀지지 안고 디즈니 실사중에서 최고중에 최고다 쟈...</td>\n",
       "      <td>2019.05.23 09:11</td>\n",
       "    </tr>\n",
       "    <tr>\n",
       "      <th>2</th>\n",
       "      <td>10</td>\n",
       "      <td>존잼임... 난 처음 도입부에 아~라~비안 나~잇 이 부분에서부터 감동받아서 울 뻔...</td>\n",
       "      <td>2019.05.23 21:57</td>\n",
       "    </tr>\n",
       "    <tr>\n",
       "      <th>3</th>\n",
       "      <td>10</td>\n",
       "      <td>관람객</td>\n",
       "      <td>2019.05.23 12:55</td>\n",
       "    </tr>\n",
       "    <tr>\n",
       "      <th>4</th>\n",
       "      <td>10</td>\n",
       "      <td>A whole new world 나올때때 개소름...</td>\n",
       "      <td>2019.05.23 09:06</td>\n",
       "    </tr>\n",
       "    <tr>\n",
       "      <th>5</th>\n",
       "      <td>10</td>\n",
       "      <td>자스민 존나 이쁘다..</td>\n",
       "      <td>2019.05.23 17:36</td>\n",
       "    </tr>\n",
       "    <tr>\n",
       "      <th>6</th>\n",
       "      <td>10</td>\n",
       "      <td>지니가 나오면.. 이세상 흥이 아니다ㅎ</td>\n",
       "      <td>2019.05.23 21:54</td>\n",
       "    </tr>\n",
       "    <tr>\n",
       "      <th>7</th>\n",
       "      <td>10</td>\n",
       "      <td>일요일 아침 8시 디즈니 만화동산 챙겨보고 비디오 알라딘 애니도 수십번 빌려봐서 테...</td>\n",
       "      <td>2019.05.23 13:06</td>\n",
       "    </tr>\n",
       "    <tr>\n",
       "      <th>8</th>\n",
       "      <td>10</td>\n",
       "      <td>디즈니가 미쳤음.. 영화시장을 통재로 잡아먹으려고 작정을함..끝내주는 영화 이제껏 ...</td>\n",
       "      <td>2019.05.23 22:06</td>\n",
       "    </tr>\n",
       "    <tr>\n",
       "      <th>9</th>\n",
       "      <td>10</td>\n",
       "      <td>제일 우려스러웠던 윌스미스가 하드캐리하는바람에 원작 뛰어넘어버림 ㅋㅋㅋ</td>\n",
       "      <td>2019.05.24 00:49</td>\n",
       "    </tr>\n",
       "  </tbody>\n",
       "</table>\n",
       "</div>"
      ],
      "text/plain": [
       "  point                                             review              date\n",
       "0    10                 윌 스미스가 하드캐리하여 의도치 않게 원작을 뛰어넘은 실사영화  2019.05.23 11:26\n",
       "1    10  영화가 너무 아름답다..ost도 잊혀지지 안고 디즈니 실사중에서 최고중에 최고다 쟈...  2019.05.23 09:11\n",
       "2    10  존잼임... 난 처음 도입부에 아~라~비안 나~잇 이 부분에서부터 감동받아서 울 뻔...  2019.05.23 21:57\n",
       "3    10                                                관람객  2019.05.23 12:55\n",
       "4    10                      A whole new world 나올때때 개소름...  2019.05.23 09:06\n",
       "5    10                                       자스민 존나 이쁘다..  2019.05.23 17:36\n",
       "6    10                              지니가 나오면.. 이세상 흥이 아니다ㅎ  2019.05.23 21:54\n",
       "7    10  일요일 아침 8시 디즈니 만화동산 챙겨보고 비디오 알라딘 애니도 수십번 빌려봐서 테...  2019.05.23 13:06\n",
       "8    10  디즈니가 미쳤음.. 영화시장을 통재로 잡아먹으려고 작정을함..끝내주는 영화 이제껏 ...  2019.05.23 22:06\n",
       "9    10            제일 우려스러웠던 윌스미스가 하드캐리하는바람에 원작 뛰어넘어버림 ㅋㅋㅋ  2019.05.24 00:49"
      ]
     },
     "execution_count": 9,
     "metadata": {},
     "output_type": "execute_result"
    }
   ],
   "source": [
    "import pandas as pd\n",
    "df = pd.DataFrame({'point':point, 'review':review, 'date':date})\n",
    "df"
   ]
  },
  {
   "cell_type": "markdown",
   "metadata": {},
   "source": [
    "### 모든 데이터 리스트에 담기\n",
    "#### 리뷰 데이터는 여러가지 경우가 있음\n",
    "- 1. 일반적인 리뷰\n",
    "- 2. 관람객이라 표시된 경우\n",
    "- 3. 데이터가 긴 경우\n",
    "- 4. SPO 인 경우\n",
    "- 5. 관람객이면서 데이터가 긴 경우"
   ]
  },
  {
   "cell_type": "code",
   "execution_count": 10,
   "metadata": {},
   "outputs": [
    {
     "name": "stdout",
     "output_type": "stream",
     "text": [
      "100 200 300 400 500 600 700 800 900 1000 1100 1200 1300 1400 1500 1600 1700 1800 1900 2000 2100 2200 2300 2400 2500 2600 "
     ]
    }
   ],
   "source": [
    "point = []\n",
    "review = []\n",
    "date = []\n",
    "for page in range(1, total_page+1):\n",
    "    url = url_base + ifr_url + '&page=' + str(page)\n",
    "    html = urlopen(url)\n",
    "    soup = BeautifulSoup(html, \"html.parser\")\n",
    "    if page % 100 == 0:\n",
    "        print(page, end=' ')\n",
    "    results = soup.find('div', 'score_result')\n",
    "    lis = results.find_all('li')\n",
    "    for li in lis:\n",
    "        p = li.find('div', 'star_score').find('em').string\n",
    "        point.append(p)\n",
    "        s = li.find('div', 'score_reple').find('p').find_all('span')\n",
    "        if len(s) == 1:         # case 1\n",
    "            r = li.find('div', 'score_reple').find('span').string.strip(' \\t\\n\\r')\n",
    "        elif len(s) == 2:\n",
    "            s = li.find('div', 'score_reple').find('p').find('span').string\n",
    "            if s == '관람객':   # case 2\n",
    "                r = li.find('div', 'score_reple').find_all('span')[1].string.strip(' \\t\\n\\r')\n",
    "            else:\n",
    "                s = li.find('div', 'score_reple').find('p').find_all('span')[1].string\n",
    "                if s is None:   # case 3\n",
    "                    r = li.find('div', 'score_reple').find('p').find_all('span')[1].find('a')['data-src']\n",
    "                else:           # case 4\n",
    "                    r = li.find('div', 'score_reple').find('p').find_all('span')[1].string.strip(' \\t\\n\\r')\n",
    "        else:                   # case 5\n",
    "            r = li.find('div', 'score_reple').find('p').find_all('span')[2].find('a')['data-src']\n",
    "        review.append(r)\n",
    "        d = li.find('div', 'score_reple').find_all('em')[1].string\n",
    "        date.append(d)    "
   ]
  },
  {
   "cell_type": "markdown",
   "metadata": {},
   "source": [
    "### 데이터 프레임으로 만들기"
   ]
  },
  {
   "cell_type": "code",
   "execution_count": 11,
   "metadata": {},
   "outputs": [
    {
     "data": {
      "text/plain": [
       "(26440, 3)"
      ]
     },
     "execution_count": 11,
     "metadata": {},
     "output_type": "execute_result"
    }
   ],
   "source": [
    "df = pd.DataFrame({'point':point, 'review':review, 'date':date})\n",
    "df.shape"
   ]
  },
  {
   "cell_type": "code",
   "execution_count": 12,
   "metadata": {},
   "outputs": [
    {
     "data": {
      "text/html": [
       "<div>\n",
       "<style scoped>\n",
       "    .dataframe tbody tr th:only-of-type {\n",
       "        vertical-align: middle;\n",
       "    }\n",
       "\n",
       "    .dataframe tbody tr th {\n",
       "        vertical-align: top;\n",
       "    }\n",
       "\n",
       "    .dataframe thead th {\n",
       "        text-align: right;\n",
       "    }\n",
       "</style>\n",
       "<table border=\"1\" class=\"dataframe\">\n",
       "  <thead>\n",
       "    <tr style=\"text-align: right;\">\n",
       "      <th></th>\n",
       "      <th>point</th>\n",
       "      <th>review</th>\n",
       "      <th>date</th>\n",
       "    </tr>\n",
       "  </thead>\n",
       "  <tbody>\n",
       "    <tr>\n",
       "      <th>26435</th>\n",
       "      <td>3</td>\n",
       "      <td>지니 억텐. 알라딘 찐따 존재감 없음. 노래 시끄러움. 스토리 지겨움. 자스민 미드...</td>\n",
       "      <td>2019.05.29 11:09</td>\n",
       "    </tr>\n",
       "    <tr>\n",
       "      <th>26436</th>\n",
       "      <td>1</td>\n",
       "      <td>노래는 뮤지컬영화니까 나오는거고;;그냥 노래를 못 부름</td>\n",
       "      <td>2019.07.09 19:42</td>\n",
       "    </tr>\n",
       "    <tr>\n",
       "      <th>26437</th>\n",
       "      <td>1</td>\n",
       "      <td>엄복동같은 수작은 17만을 보고, 이런 허술한 판타지극은 개봉 7일만에 100만 돌...</td>\n",
       "      <td>2019.06.01 02:26</td>\n",
       "    </tr>\n",
       "    <tr>\n",
       "      <th>26438</th>\n",
       "      <td>1</td>\n",
       "      <td>최악!!!! 내용은 그냥 딱 만화 동화 수준,, 윌스미스 깨방정 조낸 보기 싫고 영...</td>\n",
       "      <td>2019.07.09 21:22</td>\n",
       "    </tr>\n",
       "    <tr>\n",
       "      <th>26439</th>\n",
       "      <td>1</td>\n",
       "      <td>알라딘이 결국 죽다니..</td>\n",
       "      <td>2019.05.23 10:36</td>\n",
       "    </tr>\n",
       "  </tbody>\n",
       "</table>\n",
       "</div>"
      ],
      "text/plain": [
       "      point                                             review  \\\n",
       "26435     3  지니 억텐. 알라딘 찐따 존재감 없음. 노래 시끄러움. 스토리 지겨움. 자스민 미드...   \n",
       "26436     1                     노래는 뮤지컬영화니까 나오는거고;;그냥 노래를 못 부름   \n",
       "26437     1  엄복동같은 수작은 17만을 보고, 이런 허술한 판타지극은 개봉 7일만에 100만 돌...   \n",
       "26438     1  최악!!!! 내용은 그냥 딱 만화 동화 수준,, 윌스미스 깨방정 조낸 보기 싫고 영...   \n",
       "26439     1                                      알라딘이 결국 죽다니..   \n",
       "\n",
       "                   date  \n",
       "26435  2019.05.29 11:09  \n",
       "26436  2019.07.09 19:42  \n",
       "26437  2019.06.01 02:26  \n",
       "26438  2019.07.09 21:22  \n",
       "26439  2019.05.23 10:36  "
      ]
     },
     "execution_count": 12,
     "metadata": {},
     "output_type": "execute_result"
    }
   ],
   "source": [
    "df.tail()"
   ]
  },
  {
   "cell_type": "markdown",
   "metadata": {},
   "source": [
    "### 엑셀 파일로 저장"
   ]
  },
  {
   "cell_type": "code",
   "execution_count": 13,
   "metadata": {},
   "outputs": [],
   "source": [
    "df.to_excel(\"data/04.NaverMovie_Aladdin.xlsx\")"
   ]
  },
  {
   "cell_type": "code",
   "execution_count": null,
   "metadata": {},
   "outputs": [],
   "source": []
  }
 ],
 "metadata": {
  "kernelspec": {
   "display_name": "Python 3",
   "language": "python",
   "name": "python3"
  },
  "language_info": {
   "codemirror_mode": {
    "name": "ipython",
    "version": 3
   },
   "file_extension": ".py",
   "mimetype": "text/x-python",
   "name": "python",
   "nbconvert_exporter": "python",
   "pygments_lexer": "ipython3",
   "version": "3.7.4"
  }
 },
 "nbformat": 4,
 "nbformat_minor": 2
}
