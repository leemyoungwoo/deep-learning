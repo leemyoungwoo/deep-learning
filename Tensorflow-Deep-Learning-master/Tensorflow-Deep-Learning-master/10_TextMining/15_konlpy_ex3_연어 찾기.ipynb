{
 "cells": [
  {
   "cell_type": "markdown",
   "metadata": {},
   "source": [
    "# 연어(collocation) 찾기\n",
    "- 연어: 항상 같이 쓰이는 단어의 조합\n",
    "- NLTK 활용"
   ]
  },
  {
   "cell_type": "code",
   "execution_count": 1,
   "metadata": {},
   "outputs": [],
   "source": [
    "from konlpy.tag import Kkma\n",
    "from konlpy.corpus import kolaw\n",
    "from konlpy.utils import pprint\n",
    "from nltk import collocations"
   ]
  },
  {
   "cell_type": "code",
   "execution_count": 2,
   "metadata": {},
   "outputs": [],
   "source": [
    "measures = collocations.BigramAssocMeasures()\n",
    "doc = kolaw.open('constitution.txt').read()"
   ]
  },
  {
   "cell_type": "code",
   "execution_count": 3,
   "metadata": {},
   "outputs": [
    {
     "name": "stdout",
     "output_type": "stream",
     "text": [
      "\n",
      "Collocations among tagged words:\n"
     ]
    },
    {
     "name": "stderr",
     "output_type": "stream",
     "text": [
      "C:\\Users\\EZEN\\Anaconda3\\lib\\site-packages\\jpype\\_core.py:210: UserWarning: \n",
      "-------------------------------------------------------------------------------\n",
      "Deprecated: convertStrings was not specified when starting the JVM. The default\n",
      "behavior in JPype will be False starting in JPype 0.8. The recommended setting\n",
      "for new code is convertStrings=False.  The legacy value of True was assumed for\n",
      "this session. If you are a user of an application that reported this warning,\n",
      "please file a ticket with the developer.\n",
      "-------------------------------------------------------------------------------\n",
      "\n",
      "  \"\"\")\n"
     ]
    },
    {
     "name": "stdout",
     "output_type": "stream",
     "text": [
      "[(('가부', 'NNG'), ('동수', 'NNG')),\n",
      " (('강제', 'NNG'), ('노역', 'NNG')),\n",
      " (('경자', 'NNG'), ('유전', 'NNG')),\n",
      " (('고', 'ECS'), ('채취', 'NNG')),\n",
      " (('공무', 'NNG'), ('담임', 'NNG')),\n",
      " (('공중', 'NNG'), ('도덕', 'NNG')),\n",
      " (('과반', 'NNG'), ('수가', 'NNG')),\n",
      " (('교전', 'NNG'), ('상태', 'NNG')),\n",
      " (('그러', 'VV'), ('나', 'ECE')),\n",
      " (('기본적', 'NNG'), ('인권', 'NNG'))]\n"
     ]
    }
   ],
   "source": [
    "print('\\nCollocations among tagged words:')\n",
    "tagged_words = Kkma().pos(doc)\n",
    "finder = collocations.BigramCollocationFinder.from_words(tagged_words)\n",
    "pprint(finder.nbest(measures.pmi, 10)) # top 10 n-grams with highest PMI"
   ]
  },
  {
   "cell_type": "code",
   "execution_count": 4,
   "metadata": {},
   "outputs": [
    {
     "name": "stdout",
     "output_type": "stream",
     "text": [
      "\n",
      "Collocations among words:\n",
      "[('현행', '범인'),\n",
      " ('형의', '선고'),\n",
      " ('내부', '규율'),\n",
      " ('정치적', '중립성'),\n",
      " ('누구', '든지'),\n",
      " ('회계', '연도'),\n",
      " ('지체', '없이'),\n",
      " ('평화적', '통일'),\n",
      " ('형사', '피고인'),\n",
      " ('지방', '자치')]\n"
     ]
    }
   ],
   "source": [
    "print('\\nCollocations among words:')\n",
    "words = [w for w, t in tagged_words]\n",
    "ignored_words = [u'안녕']\n",
    "finder = collocations.BigramCollocationFinder.from_words(words)\n",
    "finder.apply_word_filter(lambda w: len(w) < 2 or w in ignored_words)\n",
    "finder.apply_freq_filter(3) # only bigrams that appear 3+ times\n",
    "pprint(finder.nbest(measures.pmi, 10))"
   ]
  },
  {
   "cell_type": "code",
   "execution_count": 5,
   "metadata": {},
   "outputs": [
    {
     "name": "stdout",
     "output_type": "stream",
     "text": [
      "\n",
      "Collocations among tags:\n",
      "[('XR', 'XSA'), ('JKC', 'VCN'), ('EPT', 'EPT'), ('VCN', 'ECD'), ('ECD', 'VX')]\n"
     ]
    }
   ],
   "source": [
    "print('\\nCollocations among tags:')\n",
    "tags = [t for w, t in tagged_words]\n",
    "finder = collocations.BigramCollocationFinder.from_words(tags)\n",
    "pprint(finder.nbest(measures.pmi, 5))"
   ]
  },
  {
   "cell_type": "code",
   "execution_count": null,
   "metadata": {},
   "outputs": [],
   "source": []
  }
 ],
 "metadata": {
  "kernelspec": {
   "display_name": "Python 3",
   "language": "python",
   "name": "python3"
  },
  "language_info": {
   "codemirror_mode": {
    "name": "ipython",
    "version": 3
   },
   "file_extension": ".py",
   "mimetype": "text/x-python",
   "name": "python",
   "nbconvert_exporter": "python",
   "pygments_lexer": "ipython3",
   "version": "3.7.3"
  }
 },
 "nbformat": 4,
 "nbformat_minor": 2
}
