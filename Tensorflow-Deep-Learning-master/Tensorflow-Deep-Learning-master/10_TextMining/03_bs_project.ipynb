{
 "cells": [
  {
   "cell_type": "markdown",
   "metadata": {},
   "source": [
    "# 시카고 샌드위치 맛집 분석\n",
    "## 1. 시카고 샌드위치 맛집 사이트에 접근하기"
   ]
  },
  {
   "cell_type": "code",
   "execution_count": 1,
   "metadata": {},
   "outputs": [],
   "source": [
    "from bs4 import BeautifulSoup \n",
    "from urllib.request import urlopen"
   ]
  },
  {
   "cell_type": "code",
   "execution_count": 2,
   "metadata": {},
   "outputs": [],
   "source": [
    "url_base = 'http://www.chicagomag.com'\n",
    "url_sub = '/Chicago-Magazine/November-2012/Best-Sandwiches-Chicago/'\n",
    "url = url_base + url_sub\n",
    "\n",
    "html = urlopen(url)\n",
    "soup = BeautifulSoup(html, \"html.parser\")"
   ]
  },
  {
   "cell_type": "code",
   "execution_count": 3,
   "metadata": {},
   "outputs": [
    {
     "name": "stdout",
     "output_type": "stream",
     "text": [
      "<div class=\"sammy\" style=\"position: relative;\">\n",
      "<div class=\"sammyRank\">1</div>\n",
      "<div class=\"sammyListing\"><a href=\"/Chicago-Magazine/November-2012/Best-Sandwiches-in-Chicago-Old-Oak-Tap-BLT/\"><b>BLT</b><br>\r\n",
      "Old Oak Tap<br>\n",
      "<em>Read more</em> </br></br></a></div>\n",
      "</div>\n"
     ]
    }
   ],
   "source": [
    "print(soup.find_all('div', 'sammy')[0])"
   ]
  },
  {
   "cell_type": "code",
   "execution_count": 4,
   "metadata": {},
   "outputs": [
    {
     "data": {
      "text/plain": [
       "50"
      ]
     },
     "execution_count": 4,
     "metadata": {},
     "output_type": "execute_result"
    }
   ],
   "source": [
    "len(soup.find_all('div', 'sammy'))"
   ]
  },
  {
   "cell_type": "markdown",
   "metadata": {},
   "source": [
    "## 2. 접근한 웹 페이지에서 원하는 데이터 추출하고 정리하기"
   ]
  },
  {
   "cell_type": "code",
   "execution_count": 5,
   "metadata": {},
   "outputs": [
    {
     "data": {
      "text/plain": [
       "bs4.element.Tag"
      ]
     },
     "execution_count": 5,
     "metadata": {},
     "output_type": "execute_result"
    }
   ],
   "source": [
    "tmp_one = soup.find_all('div', 'sammy')[0]\n",
    "type(tmp_one)"
   ]
  },
  {
   "cell_type": "code",
   "execution_count": 6,
   "metadata": {},
   "outputs": [
    {
     "data": {
      "text/plain": [
       "<div class=\"sammyRank\">1</div>"
      ]
     },
     "execution_count": 6,
     "metadata": {},
     "output_type": "execute_result"
    }
   ],
   "source": [
    "tmp_one.find(class_='sammyRank')"
   ]
  },
  {
   "cell_type": "code",
   "execution_count": 7,
   "metadata": {},
   "outputs": [
    {
     "data": {
      "text/plain": [
       "'1'"
      ]
     },
     "execution_count": 7,
     "metadata": {},
     "output_type": "execute_result"
    }
   ],
   "source": [
    "tmp_one.find(class_='sammyRank').get_text()"
   ]
  },
  {
   "cell_type": "code",
   "execution_count": 8,
   "metadata": {},
   "outputs": [
    {
     "data": {
      "text/plain": [
       "'BLT\\r\\nOld Oak Tap\\nRead more '"
      ]
     },
     "execution_count": 8,
     "metadata": {},
     "output_type": "execute_result"
    }
   ],
   "source": [
    "tmp_one.find(class_='sammyListing').get_text()"
   ]
  },
  {
   "cell_type": "code",
   "execution_count": 9,
   "metadata": {},
   "outputs": [
    {
     "data": {
      "text/plain": [
       "'/Chicago-Magazine/November-2012/Best-Sandwiches-in-Chicago-Old-Oak-Tap-BLT/'"
      ]
     },
     "execution_count": 9,
     "metadata": {},
     "output_type": "execute_result"
    }
   ],
   "source": [
    "tmp_one.find('a')['href']"
   ]
  },
  {
   "cell_type": "code",
   "execution_count": 10,
   "metadata": {},
   "outputs": [],
   "source": [
    "import re"
   ]
  },
  {
   "cell_type": "code",
   "execution_count": 11,
   "metadata": {},
   "outputs": [
    {
     "name": "stdout",
     "output_type": "stream",
     "text": [
      "BLT\n",
      "Old Oak Tap\n"
     ]
    }
   ],
   "source": [
    "tmp_string = tmp_one.find(class_='sammyListing').get_text()\n",
    "\n",
    "re.split(('\\n|\\r\\n'), tmp_string)\n",
    "\n",
    "print(re.split(('\\n|\\r\\n'), tmp_string)[0])\n",
    "print(re.split(('\\n|\\r\\n'), tmp_string)[1])"
   ]
  },
  {
   "cell_type": "code",
   "execution_count": 12,
   "metadata": {},
   "outputs": [],
   "source": [
    "from urllib.parse import urljoin"
   ]
  },
  {
   "cell_type": "code",
   "execution_count": 13,
   "metadata": {},
   "outputs": [],
   "source": [
    "rank = []\n",
    "main_menu = []\n",
    "cafe_name = []\n",
    "url_add = []\n",
    "\n",
    "list_soup = soup.find_all('div', 'sammy')\n",
    "\n",
    "for item in list_soup:\n",
    "    rank.append(item.find(class_='sammyRank').get_text())\n",
    "    \n",
    "    tmp_string = item.find(class_='sammyListing').get_text()\n",
    "\n",
    "    main_menu.append(re.split(('\\n|\\r\\n'), tmp_string)[0])\n",
    "    cafe_name.append(re.split(('\\n|\\r\\n'), tmp_string)[1])\n",
    "    \n",
    "    url_add.append(urljoin(url_base, item.find('a')['href']))"
   ]
  },
  {
   "cell_type": "code",
   "execution_count": 14,
   "metadata": {},
   "outputs": [
    {
     "name": "stdout",
     "output_type": "stream",
     "text": [
      "50 The Gatsby Phoebe’s Bakery http://www.chicagomag.com/Chicago-Magazine/November-2012/Best-Sandwiches-in-Chicago-Phoebes-Bakery-The-Gatsby/\n"
     ]
    }
   ],
   "source": [
    "print(rank[49], main_menu[49], cafe_name[49], url_add[49])"
   ]
  },
  {
   "cell_type": "code",
   "execution_count": 15,
   "metadata": {},
   "outputs": [
    {
     "data": {
      "application/vnd.jupyter.widget-view+json": {
       "model_id": "4faf221f63aa47fe919b68695324ec0b",
       "version_major": 2,
       "version_minor": 0
      },
      "text/plain": [
       "HBox(children=(IntProgress(value=0, max=50), HTML(value='')))"
      ]
     },
     "metadata": {},
     "output_type": "display_data"
    },
    {
     "name": "stdout",
     "output_type": "stream",
     "text": [
      "\n"
     ]
    }
   ],
   "source": [
    "from tqdm import tqdm_notebook \n",
    "import time \n",
    "rank = [] \n",
    "main_menu = [] \n",
    "cafe_name = [] \n",
    "url_add = [] \n",
    "list_soup = soup.find_all('div', 'sammy') \n",
    "bar_total = tqdm_notebook(list_soup) \n",
    "for item in bar_total: \n",
    "    rank.append(item.find(class_='sammyRank').get_text()) \n",
    "    tmp_string = item.find(class_='sammyListing').get_text() \n",
    "    main_menu.append(re.split(('\\n|\\r\\n'), tmp_string)[0]) \n",
    "    cafe_name.append(re.split(('\\n|\\r\\n'), tmp_string)[1]) \n",
    "    url_add.append(urljoin(url_base, item.find('a')['href'])) \n",
    "    time.sleep(0.05)"
   ]
  },
  {
   "cell_type": "code",
   "execution_count": 16,
   "metadata": {},
   "outputs": [
    {
     "data": {
      "text/plain": [
       "['1', '2', '3', '4', '5']"
      ]
     },
     "execution_count": 16,
     "metadata": {},
     "output_type": "execute_result"
    }
   ],
   "source": [
    "rank[:5]"
   ]
  },
  {
   "cell_type": "code",
   "execution_count": 18,
   "metadata": {},
   "outputs": [
    {
     "data": {
      "text/plain": [
       "['Kufta', 'Debbie’s Egg Salad', 'Beef Curry', 'Le Végétarien', 'The Gatsby']"
      ]
     },
     "execution_count": 18,
     "metadata": {},
     "output_type": "execute_result"
    }
   ],
   "source": [
    "main_menu[45:]"
   ]
  },
  {
   "cell_type": "code",
   "execution_count": 19,
   "metadata": {},
   "outputs": [
    {
     "data": {
      "text/plain": [
       "['Cemitas Puebla', 'Nana', 'Lula Cafe', 'Ricobene’s', 'Frog n Snail']"
      ]
     },
     "execution_count": 19,
     "metadata": {},
     "output_type": "execute_result"
    }
   ],
   "source": [
    "cafe_name[8:13]"
   ]
  },
  {
   "cell_type": "code",
   "execution_count": 20,
   "metadata": {},
   "outputs": [
    {
     "data": {
      "text/plain": [
       "['http://www.chicagomag.com/Chicago-Magazine/November-2012/Best-Sandwiches-in-Chicago-Old-Oak-Tap-BLT/',\n",
       " 'http://www.chicagomag.com/Chicago-Magazine/November-2012/Best-Sandwiches-in-Chicago-Au-Cheval-Fried-Bologna/',\n",
       " 'http://www.chicagomag.com/Chicago-Magazine/November-2012/Best-Sandwiches-in-Chicago-Xoco-Woodland-Mushroom/',\n",
       " 'http://www.chicagomag.com/Chicago-Magazine/November-2012/Best-Sandwiches-in-Chicago-Als-Deli-Roast-Beef/',\n",
       " 'http://www.chicagomag.com/Chicago-Magazine/November-2012/Best-Sandwiches-in-Chicago-Publican-Quality-Meats-PB-L/']"
      ]
     },
     "execution_count": 20,
     "metadata": {},
     "output_type": "execute_result"
    }
   ],
   "source": [
    "url_add[:5]"
   ]
  },
  {
   "cell_type": "code",
   "execution_count": 21,
   "metadata": {},
   "outputs": [
    {
     "data": {
      "text/plain": [
       "(50, 50, 50, 50)"
      ]
     },
     "execution_count": 21,
     "metadata": {},
     "output_type": "execute_result"
    }
   ],
   "source": [
    "len(rank), len(main_menu), len(cafe_name), len(url_add)"
   ]
  },
  {
   "cell_type": "code",
   "execution_count": 22,
   "metadata": {},
   "outputs": [
    {
     "data": {
      "text/html": [
       "<div>\n",
       "<style scoped>\n",
       "    .dataframe tbody tr th:only-of-type {\n",
       "        vertical-align: middle;\n",
       "    }\n",
       "\n",
       "    .dataframe tbody tr th {\n",
       "        vertical-align: top;\n",
       "    }\n",
       "\n",
       "    .dataframe thead th {\n",
       "        text-align: right;\n",
       "    }\n",
       "</style>\n",
       "<table border=\"1\" class=\"dataframe\">\n",
       "  <thead>\n",
       "    <tr style=\"text-align: right;\">\n",
       "      <th></th>\n",
       "      <th>Rank</th>\n",
       "      <th>Menu</th>\n",
       "      <th>Cafe</th>\n",
       "      <th>URL</th>\n",
       "    </tr>\n",
       "  </thead>\n",
       "  <tbody>\n",
       "    <tr>\n",
       "      <th>0</th>\n",
       "      <td>1</td>\n",
       "      <td>BLT</td>\n",
       "      <td>Old Oak Tap</td>\n",
       "      <td>http://www.chicagomag.com/Chicago-Magazine/Nov...</td>\n",
       "    </tr>\n",
       "    <tr>\n",
       "      <th>1</th>\n",
       "      <td>2</td>\n",
       "      <td>Fried Bologna</td>\n",
       "      <td>Au Cheval</td>\n",
       "      <td>http://www.chicagomag.com/Chicago-Magazine/Nov...</td>\n",
       "    </tr>\n",
       "    <tr>\n",
       "      <th>2</th>\n",
       "      <td>3</td>\n",
       "      <td>Woodland Mushroom</td>\n",
       "      <td>Xoco</td>\n",
       "      <td>http://www.chicagomag.com/Chicago-Magazine/Nov...</td>\n",
       "    </tr>\n",
       "    <tr>\n",
       "      <th>3</th>\n",
       "      <td>4</td>\n",
       "      <td>Roast Beef</td>\n",
       "      <td>Al’s Deli</td>\n",
       "      <td>http://www.chicagomag.com/Chicago-Magazine/Nov...</td>\n",
       "    </tr>\n",
       "    <tr>\n",
       "      <th>4</th>\n",
       "      <td>5</td>\n",
       "      <td>PB&amp;L</td>\n",
       "      <td>Publican Quality Meats</td>\n",
       "      <td>http://www.chicagomag.com/Chicago-Magazine/Nov...</td>\n",
       "    </tr>\n",
       "  </tbody>\n",
       "</table>\n",
       "</div>"
      ],
      "text/plain": [
       "  Rank               Menu                    Cafe  \\\n",
       "0    1                BLT             Old Oak Tap   \n",
       "1    2      Fried Bologna               Au Cheval   \n",
       "2    3  Woodland Mushroom                    Xoco   \n",
       "3    4         Roast Beef               Al’s Deli   \n",
       "4    5               PB&L  Publican Quality Meats   \n",
       "\n",
       "                                                 URL  \n",
       "0  http://www.chicagomag.com/Chicago-Magazine/Nov...  \n",
       "1  http://www.chicagomag.com/Chicago-Magazine/Nov...  \n",
       "2  http://www.chicagomag.com/Chicago-Magazine/Nov...  \n",
       "3  http://www.chicagomag.com/Chicago-Magazine/Nov...  \n",
       "4  http://www.chicagomag.com/Chicago-Magazine/Nov...  "
      ]
     },
     "execution_count": 22,
     "metadata": {},
     "output_type": "execute_result"
    }
   ],
   "source": [
    "import pandas as pd\n",
    "\n",
    "df = pd.DataFrame({'Rank':rank, 'Menu':main_menu, 'Cafe':cafe_name, 'URL':url_add})\n",
    "df.head()"
   ]
  },
  {
   "cell_type": "code",
   "execution_count": 23,
   "metadata": {},
   "outputs": [
    {
     "data": {
      "text/html": [
       "<div>\n",
       "<style scoped>\n",
       "    .dataframe tbody tr th:only-of-type {\n",
       "        vertical-align: middle;\n",
       "    }\n",
       "\n",
       "    .dataframe tbody tr th {\n",
       "        vertical-align: top;\n",
       "    }\n",
       "\n",
       "    .dataframe thead th {\n",
       "        text-align: right;\n",
       "    }\n",
       "</style>\n",
       "<table border=\"1\" class=\"dataframe\">\n",
       "  <thead>\n",
       "    <tr style=\"text-align: right;\">\n",
       "      <th></th>\n",
       "      <th>Rank</th>\n",
       "      <th>Cafe</th>\n",
       "      <th>Menu</th>\n",
       "      <th>URL</th>\n",
       "    </tr>\n",
       "  </thead>\n",
       "  <tbody>\n",
       "    <tr>\n",
       "      <th>0</th>\n",
       "      <td>1</td>\n",
       "      <td>Old Oak Tap</td>\n",
       "      <td>BLT</td>\n",
       "      <td>http://www.chicagomag.com/Chicago-Magazine/Nov...</td>\n",
       "    </tr>\n",
       "    <tr>\n",
       "      <th>1</th>\n",
       "      <td>2</td>\n",
       "      <td>Au Cheval</td>\n",
       "      <td>Fried Bologna</td>\n",
       "      <td>http://www.chicagomag.com/Chicago-Magazine/Nov...</td>\n",
       "    </tr>\n",
       "    <tr>\n",
       "      <th>2</th>\n",
       "      <td>3</td>\n",
       "      <td>Xoco</td>\n",
       "      <td>Woodland Mushroom</td>\n",
       "      <td>http://www.chicagomag.com/Chicago-Magazine/Nov...</td>\n",
       "    </tr>\n",
       "    <tr>\n",
       "      <th>3</th>\n",
       "      <td>4</td>\n",
       "      <td>Al’s Deli</td>\n",
       "      <td>Roast Beef</td>\n",
       "      <td>http://www.chicagomag.com/Chicago-Magazine/Nov...</td>\n",
       "    </tr>\n",
       "    <tr>\n",
       "      <th>4</th>\n",
       "      <td>5</td>\n",
       "      <td>Publican Quality Meats</td>\n",
       "      <td>PB&amp;L</td>\n",
       "      <td>http://www.chicagomag.com/Chicago-Magazine/Nov...</td>\n",
       "    </tr>\n",
       "  </tbody>\n",
       "</table>\n",
       "</div>"
      ],
      "text/plain": [
       "  Rank                    Cafe               Menu  \\\n",
       "0    1             Old Oak Tap                BLT   \n",
       "1    2               Au Cheval      Fried Bologna   \n",
       "2    3                    Xoco  Woodland Mushroom   \n",
       "3    4               Al’s Deli         Roast Beef   \n",
       "4    5  Publican Quality Meats               PB&L   \n",
       "\n",
       "                                                 URL  \n",
       "0  http://www.chicagomag.com/Chicago-Magazine/Nov...  \n",
       "1  http://www.chicagomag.com/Chicago-Magazine/Nov...  \n",
       "2  http://www.chicagomag.com/Chicago-Magazine/Nov...  \n",
       "3  http://www.chicagomag.com/Chicago-Magazine/Nov...  \n",
       "4  http://www.chicagomag.com/Chicago-Magazine/Nov...  "
      ]
     },
     "execution_count": 23,
     "metadata": {},
     "output_type": "execute_result"
    }
   ],
   "source": [
    "# 컬럼 순서 변경\n",
    "df = pd.DataFrame({'Rank':rank, 'Menu':main_menu, 'Cafe':cafe_name, 'URL':url_add}, \n",
    "                  columns=['Rank','Cafe','Menu','URL'])\n",
    "df.head(5)"
   ]
  },
  {
   "cell_type": "code",
   "execution_count": 25,
   "metadata": {},
   "outputs": [],
   "source": [
    "df.to_csv('data/03.best_sandwiches_list_chicago.csv', sep=',')"
   ]
  },
  {
   "cell_type": "markdown",
   "metadata": {},
   "source": [
    "## 3. 다수의 웹 페이지에 자동으로 접근해서 원하는 정보 가져오기"
   ]
  },
  {
   "cell_type": "code",
   "execution_count": 26,
   "metadata": {},
   "outputs": [
    {
     "data": {
      "text/plain": [
       "'http://www.chicagomag.com/Chicago-Magazine/November-2012/Best-Sandwiches-in-Chicago-Old-Oak-Tap-BLT/'"
      ]
     },
     "execution_count": 26,
     "metadata": {},
     "output_type": "execute_result"
    }
   ],
   "source": [
    "df['URL'][0]"
   ]
  },
  {
   "cell_type": "code",
   "execution_count": 27,
   "metadata": {},
   "outputs": [],
   "source": [
    "html = urlopen(df['URL'][0])\n",
    "soup_tmp = BeautifulSoup(html, \"html.parser\")"
   ]
  },
  {
   "cell_type": "code",
   "execution_count": 28,
   "metadata": {},
   "outputs": [
    {
     "name": "stdout",
     "output_type": "stream",
     "text": [
      "<p class=\"addy\">\n",
      "<em>$10. 2109 W. Chicago Ave., 773-772-0406, <a href=\"http://www.theoldoaktap.com/\">theoldoaktap.com</a></em></p>\n"
     ]
    }
   ],
   "source": [
    "print(soup_tmp.find('p', 'addy'))"
   ]
  },
  {
   "cell_type": "code",
   "execution_count": 29,
   "metadata": {},
   "outputs": [
    {
     "data": {
      "text/plain": [
       "'\\n$10. 2109 W. Chicago Ave., 773-772-0406, theoldoaktap.com'"
      ]
     },
     "execution_count": 29,
     "metadata": {},
     "output_type": "execute_result"
    }
   ],
   "source": [
    "price_tmp = soup_tmp.find('p', 'addy').get_text()\n",
    "price_tmp"
   ]
  },
  {
   "cell_type": "code",
   "execution_count": 30,
   "metadata": {},
   "outputs": [
    {
     "data": {
      "text/plain": [
       "['$10.', '2109', 'W.', 'Chicago', 'Ave.,', '773-772-0406,', 'theoldoaktap.com']"
      ]
     },
     "execution_count": 30,
     "metadata": {},
     "output_type": "execute_result"
    }
   ],
   "source": [
    "price_tmp.split()"
   ]
  },
  {
   "cell_type": "code",
   "execution_count": 31,
   "metadata": {},
   "outputs": [
    {
     "data": {
      "text/plain": [
       "'$10.'"
      ]
     },
     "execution_count": 31,
     "metadata": {},
     "output_type": "execute_result"
    }
   ],
   "source": [
    "price_tmp.split()[0]\n",
    "'$10.'"
   ]
  },
  {
   "cell_type": "code",
   "execution_count": 32,
   "metadata": {},
   "outputs": [
    {
     "data": {
      "text/plain": [
       "'$10'"
      ]
     },
     "execution_count": 32,
     "metadata": {},
     "output_type": "execute_result"
    }
   ],
   "source": [
    "price_tmp.split()[0][:-1]"
   ]
  },
  {
   "cell_type": "code",
   "execution_count": 33,
   "metadata": {},
   "outputs": [
    {
     "data": {
      "text/plain": [
       "'2109 W. Chicago Ave.,'"
      ]
     },
     "execution_count": 33,
     "metadata": {},
     "output_type": "execute_result"
    }
   ],
   "source": [
    "' '.join(price_tmp.split()[1:-2])"
   ]
  },
  {
   "cell_type": "code",
   "execution_count": 34,
   "metadata": {},
   "outputs": [
    {
     "data": {
      "text/plain": [
       "'2109 W. Chicago Ave.'"
      ]
     },
     "execution_count": 34,
     "metadata": {},
     "output_type": "execute_result"
    }
   ],
   "source": [
    "' '.join(price_tmp.split()[1:-2])[:-1]"
   ]
  },
  {
   "cell_type": "code",
   "execution_count": 35,
   "metadata": {},
   "outputs": [],
   "source": [
    "price = []\n",
    "address = []\n",
    "\n",
    "for n in df.index[:2]:\n",
    "    html = urlopen(df['URL'][n])\n",
    "    soup_tmp = BeautifulSoup(html, 'lxml')\n",
    "    \n",
    "    gettings = soup_tmp.find('p', 'addy').get_text()\n",
    "    \n",
    "    price.append(gettings.split()[0][:-1])\n",
    "    address.append(' '.join(gettings.split()[1:-2])[:-1])"
   ]
  },
  {
   "cell_type": "code",
   "execution_count": 36,
   "metadata": {},
   "outputs": [
    {
     "data": {
      "text/plain": [
       "['$10', '$9']"
      ]
     },
     "execution_count": 36,
     "metadata": {},
     "output_type": "execute_result"
    }
   ],
   "source": [
    "price"
   ]
  },
  {
   "cell_type": "code",
   "execution_count": 37,
   "metadata": {},
   "outputs": [
    {
     "data": {
      "text/plain": [
       "['2109 W. Chicago Ave.', '800 W. Randolph St.']"
      ]
     },
     "execution_count": 37,
     "metadata": {},
     "output_type": "execute_result"
    }
   ],
   "source": [
    "address"
   ]
  },
  {
   "cell_type": "markdown",
   "metadata": {},
   "source": [
    "- 상태 진행바 적용"
   ]
  },
  {
   "cell_type": "code",
   "execution_count": 38,
   "metadata": {},
   "outputs": [
    {
     "data": {
      "application/vnd.jupyter.widget-view+json": {
       "model_id": "620945b939c94660bacf3e4f09921292",
       "version_major": 2,
       "version_minor": 0
      },
      "text/plain": [
       "HBox(children=(IntProgress(value=0, max=50), HTML(value='')))"
      ]
     },
     "metadata": {},
     "output_type": "display_data"
    },
    {
     "name": "stdout",
     "output_type": "stream",
     "text": [
      "\n"
     ]
    }
   ],
   "source": [
    "price = []\n",
    "address = []\n",
    "\n",
    "for n in tqdm_notebook(df.index):\n",
    "    html = urlopen(df['URL'][n])\n",
    "    soup_tmp = BeautifulSoup(html, 'lxml')\n",
    "    \n",
    "    gettings = soup_tmp.find('p', 'addy').get_text()\n",
    "    \n",
    "    price.append(gettings.split()[0][:-1])\n",
    "    address.append(' '.join(gettings.split()[1:-2])[:-1])"
   ]
  },
  {
   "cell_type": "code",
   "execution_count": 39,
   "metadata": {},
   "outputs": [
    {
     "data": {
      "text/plain": [
       "['$10', '$9', '$9.50', '$9.40', '$10']"
      ]
     },
     "execution_count": 39,
     "metadata": {},
     "output_type": "execute_result"
    }
   ],
   "source": [
    "price[:5]"
   ]
  },
  {
   "cell_type": "code",
   "execution_count": 40,
   "metadata": {},
   "outputs": [
    {
     "data": {
      "text/plain": [
       "['2018 W. Chicago Ave.',\n",
       " '25 E. Delaware Pl.',\n",
       " '416 N. York St., Elmhurst',\n",
       " '65 E. Washington St.',\n",
       " '3351 N. Broadway']"
      ]
     },
     "execution_count": 40,
     "metadata": {},
     "output_type": "execute_result"
    }
   ],
   "source": [
    "address[45:]"
   ]
  },
  {
   "cell_type": "code",
   "execution_count": 41,
   "metadata": {},
   "outputs": [
    {
     "data": {
      "text/html": [
       "<div>\n",
       "<style scoped>\n",
       "    .dataframe tbody tr th:only-of-type {\n",
       "        vertical-align: middle;\n",
       "    }\n",
       "\n",
       "    .dataframe tbody tr th {\n",
       "        vertical-align: top;\n",
       "    }\n",
       "\n",
       "    .dataframe thead th {\n",
       "        text-align: right;\n",
       "    }\n",
       "</style>\n",
       "<table border=\"1\" class=\"dataframe\">\n",
       "  <thead>\n",
       "    <tr style=\"text-align: right;\">\n",
       "      <th></th>\n",
       "      <th>Cafe</th>\n",
       "      <th>Menu</th>\n",
       "      <th>Price</th>\n",
       "      <th>Address</th>\n",
       "    </tr>\n",
       "    <tr>\n",
       "      <th>Rank</th>\n",
       "      <th></th>\n",
       "      <th></th>\n",
       "      <th></th>\n",
       "      <th></th>\n",
       "    </tr>\n",
       "  </thead>\n",
       "  <tbody>\n",
       "    <tr>\n",
       "      <th>1</th>\n",
       "      <td>Old Oak Tap</td>\n",
       "      <td>BLT</td>\n",
       "      <td>$10</td>\n",
       "      <td>2109 W. Chicago Ave.</td>\n",
       "    </tr>\n",
       "    <tr>\n",
       "      <th>2</th>\n",
       "      <td>Au Cheval</td>\n",
       "      <td>Fried Bologna</td>\n",
       "      <td>$9</td>\n",
       "      <td>800 W. Randolph St.</td>\n",
       "    </tr>\n",
       "    <tr>\n",
       "      <th>3</th>\n",
       "      <td>Xoco</td>\n",
       "      <td>Woodland Mushroom</td>\n",
       "      <td>$9.50</td>\n",
       "      <td>445 N. Clark St.</td>\n",
       "    </tr>\n",
       "    <tr>\n",
       "      <th>4</th>\n",
       "      <td>Al’s Deli</td>\n",
       "      <td>Roast Beef</td>\n",
       "      <td>$9.40</td>\n",
       "      <td>914 Noyes St., Evanston</td>\n",
       "    </tr>\n",
       "    <tr>\n",
       "      <th>5</th>\n",
       "      <td>Publican Quality Meats</td>\n",
       "      <td>PB&amp;L</td>\n",
       "      <td>$10</td>\n",
       "      <td>825 W. Fulton Mkt.</td>\n",
       "    </tr>\n",
       "  </tbody>\n",
       "</table>\n",
       "</div>"
      ],
      "text/plain": [
       "                        Cafe               Menu  Price  \\\n",
       "Rank                                                     \n",
       "1                Old Oak Tap                BLT    $10   \n",
       "2                  Au Cheval      Fried Bologna     $9   \n",
       "3                       Xoco  Woodland Mushroom  $9.50   \n",
       "4                  Al’s Deli         Roast Beef  $9.40   \n",
       "5     Publican Quality Meats               PB&L    $10   \n",
       "\n",
       "                      Address  \n",
       "Rank                           \n",
       "1        2109 W. Chicago Ave.  \n",
       "2         800 W. Randolph St.  \n",
       "3            445 N. Clark St.  \n",
       "4     914 Noyes St., Evanston  \n",
       "5          825 W. Fulton Mkt.  "
      ]
     },
     "execution_count": 41,
     "metadata": {},
     "output_type": "execute_result"
    }
   ],
   "source": [
    "df['Price'] = price\n",
    "df['Address'] = address\n",
    "\n",
    "df = df.loc[:, ['Rank', 'Cafe', 'Menu', 'Price', 'Address']]\n",
    "df.set_index('Rank', inplace=True)\n",
    "df.head()"
   ]
  },
  {
   "cell_type": "code",
   "execution_count": 42,
   "metadata": {},
   "outputs": [],
   "source": [
    "df.to_csv('data/03.best_sandwiches_list_chicago2.csv', sep=',')"
   ]
  },
  {
   "cell_type": "markdown",
   "metadata": {},
   "source": [
    "## 3-8 맛집 위치를 지도에 표기하기"
   ]
  },
  {
   "cell_type": "code",
   "execution_count": 45,
   "metadata": {},
   "outputs": [],
   "source": [
    "import numpy as np\n",
    "import pandas as pd\n",
    "import folium\n",
    "import googlemaps"
   ]
  },
  {
   "cell_type": "code",
   "execution_count": 46,
   "metadata": {},
   "outputs": [],
   "source": [
    "gmaps_key = \"***********\" # 자신의 Google Map API key를 사용합니다.\n",
    "gmaps = googlemaps.Client(key=gmaps_key)"
   ]
  },
  {
   "cell_type": "code",
   "execution_count": 47,
   "metadata": {},
   "outputs": [
    {
     "data": {
      "application/vnd.jupyter.widget-view+json": {
       "model_id": "b0f3093751364186b4931eae958fee69",
       "version_major": 2,
       "version_minor": 0
      },
      "text/plain": [
       "HBox(children=(IntProgress(value=0, max=50), HTML(value='')))"
      ]
     },
     "metadata": {},
     "output_type": "display_data"
    },
    {
     "name": "stdout",
     "output_type": "stream",
     "text": [
      "\n"
     ]
    }
   ],
   "source": [
    "lat = []\n",
    "lng = []\n",
    "\n",
    "for n in tqdm_notebook(df.index):\n",
    "    if df['Address'][n] != 'Multiple':\n",
    "        target_name = df['Address'][n]+', '+'Chicago'\n",
    "        gmaps_output = gmaps.geocode(target_name)\n",
    "        location_output = gmaps_output[0].get('geometry')\n",
    "        lat.append(location_output['location']['lat'])\n",
    "        lng.append(location_output['location']['lng'])\n",
    "    else:\n",
    "        lat.append(np.nan)\n",
    "        lng.append(np.nan)"
   ]
  },
  {
   "cell_type": "code",
   "execution_count": 48,
   "metadata": {},
   "outputs": [
    {
     "data": {
      "text/html": [
       "<div>\n",
       "<style scoped>\n",
       "    .dataframe tbody tr th:only-of-type {\n",
       "        vertical-align: middle;\n",
       "    }\n",
       "\n",
       "    .dataframe tbody tr th {\n",
       "        vertical-align: top;\n",
       "    }\n",
       "\n",
       "    .dataframe thead th {\n",
       "        text-align: right;\n",
       "    }\n",
       "</style>\n",
       "<table border=\"1\" class=\"dataframe\">\n",
       "  <thead>\n",
       "    <tr style=\"text-align: right;\">\n",
       "      <th></th>\n",
       "      <th>Cafe</th>\n",
       "      <th>Menu</th>\n",
       "      <th>Price</th>\n",
       "      <th>Address</th>\n",
       "      <th>lat</th>\n",
       "      <th>lng</th>\n",
       "    </tr>\n",
       "    <tr>\n",
       "      <th>Rank</th>\n",
       "      <th></th>\n",
       "      <th></th>\n",
       "      <th></th>\n",
       "      <th></th>\n",
       "      <th></th>\n",
       "      <th></th>\n",
       "    </tr>\n",
       "  </thead>\n",
       "  <tbody>\n",
       "    <tr>\n",
       "      <th>1</th>\n",
       "      <td>Old Oak Tap</td>\n",
       "      <td>BLT</td>\n",
       "      <td>$10</td>\n",
       "      <td>2109 W. Chicago Ave.</td>\n",
       "      <td>41.895605</td>\n",
       "      <td>-87.679961</td>\n",
       "    </tr>\n",
       "    <tr>\n",
       "      <th>2</th>\n",
       "      <td>Au Cheval</td>\n",
       "      <td>Fried Bologna</td>\n",
       "      <td>$9</td>\n",
       "      <td>800 W. Randolph St.</td>\n",
       "      <td>41.884658</td>\n",
       "      <td>-87.647667</td>\n",
       "    </tr>\n",
       "    <tr>\n",
       "      <th>3</th>\n",
       "      <td>Xoco</td>\n",
       "      <td>Woodland Mushroom</td>\n",
       "      <td>$9.50</td>\n",
       "      <td>445 N. Clark St.</td>\n",
       "      <td>41.890618</td>\n",
       "      <td>-87.630933</td>\n",
       "    </tr>\n",
       "    <tr>\n",
       "      <th>4</th>\n",
       "      <td>Al’s Deli</td>\n",
       "      <td>Roast Beef</td>\n",
       "      <td>$9.40</td>\n",
       "      <td>914 Noyes St., Evanston</td>\n",
       "      <td>42.058322</td>\n",
       "      <td>-87.683748</td>\n",
       "    </tr>\n",
       "    <tr>\n",
       "      <th>5</th>\n",
       "      <td>Publican Quality Meats</td>\n",
       "      <td>PB&amp;L</td>\n",
       "      <td>$10</td>\n",
       "      <td>825 W. Fulton Mkt.</td>\n",
       "      <td>41.886600</td>\n",
       "      <td>-87.648451</td>\n",
       "    </tr>\n",
       "  </tbody>\n",
       "</table>\n",
       "</div>"
      ],
      "text/plain": [
       "                        Cafe               Menu  Price  \\\n",
       "Rank                                                     \n",
       "1                Old Oak Tap                BLT    $10   \n",
       "2                  Au Cheval      Fried Bologna     $9   \n",
       "3                       Xoco  Woodland Mushroom  $9.50   \n",
       "4                  Al’s Deli         Roast Beef  $9.40   \n",
       "5     Publican Quality Meats               PB&L    $10   \n",
       "\n",
       "                      Address        lat        lng  \n",
       "Rank                                                 \n",
       "1        2109 W. Chicago Ave.  41.895605 -87.679961  \n",
       "2         800 W. Randolph St.  41.884658 -87.647667  \n",
       "3            445 N. Clark St.  41.890618 -87.630933  \n",
       "4     914 Noyes St., Evanston  42.058322 -87.683748  \n",
       "5          825 W. Fulton Mkt.  41.886600 -87.648451  "
      ]
     },
     "execution_count": 48,
     "metadata": {},
     "output_type": "execute_result"
    }
   ],
   "source": [
    "df['lat'] = lat\n",
    "df['lng'] = lng\n",
    "df.head()"
   ]
  },
  {
   "cell_type": "code",
   "execution_count": 49,
   "metadata": {},
   "outputs": [
    {
     "data": {
      "text/html": [
       "<div style=\"width:100%;\"><div style=\"position:relative;width:100%;height:0;padding-bottom:60%;\"><iframe src=\"data:text/html;charset=utf-8;base64,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\" style=\"position:absolute;width:100%;height:100%;left:0;top:0;border:none !important;\" allowfullscreen webkitallowfullscreen mozallowfullscreen></iframe></div></div>"
      ],
      "text/plain": [
       "<folium.folium.Map at 0x2da1625eef0>"
      ]
     },
     "execution_count": 49,
     "metadata": {},
     "output_type": "execute_result"
    }
   ],
   "source": [
    "mapping = folium.Map(location=[df['lat'].mean(), df['lng'].mean()], \n",
    "                                      zoom_start=11)\n",
    "folium.Marker([df['lat'].mean(), df['lng'].mean()], \n",
    "                                      popup='center').add_to(mapping)\n",
    "mapping"
   ]
  },
  {
   "cell_type": "code",
   "execution_count": 50,
   "metadata": {},
   "outputs": [
    {
     "data": {
      "text/html": [
       "<div style=\"width:100%;\"><div style=\"position:relative;width:100%;height:0;padding-bottom:60%;\"><iframe src=\"data:text/html;charset=utf-8;base64,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\" style=\"position:absolute;width:100%;height:100%;left:0;top:0;border:none !important;\" allowfullscreen webkitallowfullscreen mozallowfullscreen></iframe></div></div>"
      ],
      "text/plain": [
       "<folium.folium.Map at 0x2da163eb550>"
      ]
     },
     "execution_count": 50,
     "metadata": {},
     "output_type": "execute_result"
    }
   ],
   "source": [
    "mapping = folium.Map(location=[df['lat'].mean(), df['lng'].mean()], \n",
    "                     zoom_start=11)\n",
    "\n",
    "for n in df.index:\n",
    "    if df['Address'][n] != 'Multiple':\n",
    "        folium.Marker([df['lat'][n], df['lng'][n]], \n",
    "                                      popup=df['Cafe'][n]).add_to(mapping)\n",
    "\n",
    "mapping"
   ]
  },
  {
   "cell_type": "code",
   "execution_count": 51,
   "metadata": {},
   "outputs": [],
   "source": [
    "df.to_csv('data/03.best_sandwiches_list_chicago3.csv', sep=',')"
   ]
  },
  {
   "cell_type": "code",
   "execution_count": null,
   "metadata": {},
   "outputs": [],
   "source": []
  }
 ],
 "metadata": {
  "kernelspec": {
   "display_name": "Python 3",
   "language": "python",
   "name": "python3"
  },
  "language_info": {
   "codemirror_mode": {
    "name": "ipython",
    "version": 3
   },
   "file_extension": ".py",
   "mimetype": "text/x-python",
   "name": "python",
   "nbconvert_exporter": "python",
   "pygments_lexer": "ipython3",
   "version": "3.7.4"
  }
 },
 "nbformat": 4,
 "nbformat_minor": 2
}
