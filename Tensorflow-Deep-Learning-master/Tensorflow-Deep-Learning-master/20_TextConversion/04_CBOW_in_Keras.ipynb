{
 "cells": [
  {
   "cell_type": "markdown",
   "metadata": {},
   "source": [
    "# CBOW in Keras\n",
    "### Continuous Bag of Words\n",
    "- tensorflow 2.0 코드 사용\n",
    "- keras 위주로 되어 있어서 코드는 일부 수정만 하였음"
   ]
  },
  {
   "cell_type": "code",
   "execution_count": 16,
   "metadata": {},
   "outputs": [],
   "source": [
    "import numpy as np\n",
    "\n",
    "import tensorflow.keras.backend as K\n",
    "from tensorflow.keras.models import Sequential\n",
    "from tensorflow.keras.layers import *\n",
    "from keras.utils import np_utils\n",
    "from keras.utils.vis_utils import model_to_dot\n",
    "from tensorflow.keras.preprocessing import sequence\n",
    "from tensorflow.keras.preprocessing.text import Tokenizer\n",
    "\n",
    "import gensim\n",
    "import nltk\n",
    "\n",
    "from IPython.display import SVG"
   ]
  },
  {
   "cell_type": "code",
   "execution_count": 17,
   "metadata": {},
   "outputs": [
    {
     "name": "stderr",
     "output_type": "stream",
     "text": [
      "[nltk_data] Downloading package gutenberg to\n",
      "[nltk_data]     C:\\Users\\ckkim\\AppData\\Roaming\\nltk_data...\n",
      "[nltk_data]   Package gutenberg is already up-to-date!\n"
     ]
    },
    {
     "data": {
      "text/plain": [
       "True"
      ]
     },
     "execution_count": 17,
     "metadata": {},
     "output_type": "execute_result"
    }
   ],
   "source": [
    "nltk.download('gutenberg')"
   ]
  },
  {
   "cell_type": "code",
   "execution_count": 18,
   "metadata": {},
   "outputs": [
    {
     "data": {
      "text/plain": [
       "['The',\n",
       " 'rabbit',\n",
       " '-',\n",
       " 'hole',\n",
       " 'went',\n",
       " 'straight',\n",
       " 'on',\n",
       " 'like',\n",
       " 'a',\n",
       " 'tunnel',\n",
       " 'for',\n",
       " 'some',\n",
       " 'way',\n",
       " ',',\n",
       " 'and',\n",
       " 'then',\n",
       " 'dipped',\n",
       " 'suddenly',\n",
       " 'down',\n",
       " ',',\n",
       " 'so',\n",
       " 'suddenly',\n",
       " 'that',\n",
       " 'Alice',\n",
       " 'had',\n",
       " 'not',\n",
       " 'a',\n",
       " 'moment',\n",
       " 'to',\n",
       " 'think',\n",
       " 'about',\n",
       " 'stopping',\n",
       " 'herself',\n",
       " 'before',\n",
       " 'she',\n",
       " 'found',\n",
       " 'herself',\n",
       " 'falling',\n",
       " 'down',\n",
       " 'a',\n",
       " 'very',\n",
       " 'deep',\n",
       " 'well',\n",
       " '.']"
      ]
     },
     "execution_count": 18,
     "metadata": {},
     "output_type": "execute_result"
    }
   ],
   "source": [
    " nltk.corpus.gutenberg.sents(\"carroll-alice.txt\")[10]"
   ]
  },
  {
   "cell_type": "code",
   "execution_count": 19,
   "metadata": {},
   "outputs": [],
   "source": [
    "sentents = [\" \".join(s) for s in nltk.corpus.gutenberg.sents(\"carroll-alice.txt\") if len(s) > 2]"
   ]
  },
  {
   "cell_type": "code",
   "execution_count": 20,
   "metadata": {},
   "outputs": [
    {
     "data": {
      "text/plain": [
       "'The rabbit - hole went straight on like a tunnel for some way , and then dipped suddenly down , so suddenly that Alice had not a moment to think about stopping herself before she found herself falling down a very deep well .'"
      ]
     },
     "execution_count": 20,
     "metadata": {},
     "output_type": "execute_result"
    }
   ],
   "source": [
    "sentents[10]"
   ]
  },
  {
   "cell_type": "code",
   "execution_count": 21,
   "metadata": {},
   "outputs": [],
   "source": [
    "tokenizer = Tokenizer()\n",
    "tokenizer.fit_on_texts(sentents)\n",
    "corpus = tokenizer.texts_to_sequences(sentents)\n",
    "nb_samples = sum(len(s) for s in corpus)\n",
    "V = len(tokenizer.word_index) + 1\n",
    "dim = 100\n",
    "window_size = 2"
   ]
  },
  {
   "cell_type": "code",
   "execution_count": 22,
   "metadata": {},
   "outputs": [],
   "source": [
    "def generate_data(corpus, window_size, V):\n",
    "    maxlen = window_size*2\n",
    "    for words in corpus:\n",
    "        L = len(words)\n",
    "        for index, word in enumerate(words):\n",
    "            contexts = []\n",
    "            labels = []\n",
    "            s = index - window_size\n",
    "            e = index + window_size + 1\n",
    "\n",
    "            contexts.append([words[i] for i in range(s, e) if 0 <= i < L and i != index])\n",
    "            labels.append(word)\n",
    "\n",
    "            x = sequence.pad_sequences(contexts, maxlen=maxlen)\n",
    "            y = np_utils.to_categorical(labels, V)\n",
    "            yield (x, y)"
   ]
  },
  {
   "cell_type": "code",
   "execution_count": 23,
   "metadata": {},
   "outputs": [],
   "source": [
    "X = []\n",
    "Y = []\n",
    "for x, y in generate_data(corpus, window_size, V):\n",
    "    X.append(x)\n",
    "    Y.append(y)\n",
    "\n",
    "X = np.concatenate(X)\n",
    "Y = np.concatenate(Y)"
   ]
  },
  {
   "cell_type": "code",
   "execution_count": 24,
   "metadata": {},
   "outputs": [
    {
     "data": {
      "text/plain": [
       "((30179, 4), (30179, 2572))"
      ]
     },
     "execution_count": 24,
     "metadata": {},
     "output_type": "execute_result"
    }
   ],
   "source": [
    "X.shape, Y.shape"
   ]
  },
  {
   "cell_type": "code",
   "execution_count": 25,
   "metadata": {},
   "outputs": [
    {
     "data": {
      "text/plain": [
       "(array([ 12,   1, 475,  13]), (array([20], dtype=int64),))"
      ]
     },
     "execution_count": 25,
     "metadata": {},
     "output_type": "execute_result"
    }
   ],
   "source": [
    "X[2], np.nonzero(Y[2])"
   ]
  },
  {
   "cell_type": "code",
   "execution_count": 26,
   "metadata": {},
   "outputs": [
    {
     "data": {
      "text/plain": [
       "(array([  1,  20,  13, 831]), (array([475], dtype=int64),))"
      ]
     },
     "execution_count": 26,
     "metadata": {},
     "output_type": "execute_result"
    }
   ],
   "source": [
    "X[3], np.nonzero(Y[3])"
   ]
  },
  {
   "cell_type": "markdown",
   "metadata": {},
   "source": [
    "## Model"
   ]
  },
  {
   "cell_type": "code",
   "execution_count": 27,
   "metadata": {},
   "outputs": [
    {
     "name": "stdout",
     "output_type": "stream",
     "text": [
      "Model: \"sequential_1\"\n",
      "_________________________________________________________________\n",
      "Layer (type)                 Output Shape              Param #   \n",
      "=================================================================\n",
      "embedding_1 (Embedding)      (None, 4, 100)            257200    \n",
      "_________________________________________________________________\n",
      "lambda_1 (Lambda)            (None, 100)               0         \n",
      "_________________________________________________________________\n",
      "dense_1 (Dense)              (None, 2572)              259772    \n",
      "=================================================================\n",
      "Total params: 516,972\n",
      "Trainable params: 516,972\n",
      "Non-trainable params: 0\n",
      "_________________________________________________________________\n"
     ]
    }
   ],
   "source": [
    "cbow = Sequential()\n",
    "cbow.add(Embedding(input_dim=V, output_dim=dim, input_length=window_size*2))\n",
    "cbow.add(Lambda(lambda x: K.mean(x, axis=1), output_shape=(dim,)))\n",
    "cbow.add(Dense(V, activation='softmax'))\n",
    "cbow.summary()"
   ]
  },
  {
   "cell_type": "code",
   "execution_count": 28,
   "metadata": {},
   "outputs": [],
   "source": [
    "cbow.compile(loss='categorical_crossentropy', optimizer='adadelta', metrics=[\"accuracy\"])"
   ]
  },
  {
   "cell_type": "code",
   "execution_count": 29,
   "metadata": {},
   "outputs": [
    {
     "name": "stdout",
     "output_type": "stream",
     "text": [
      "Train on 30179 samples\n",
      "Epoch 1/50\n",
      "30179/30179 - 2s - loss: 7.8522 - accuracy: 3.6449e-04\n",
      "Epoch 2/50\n",
      "30179/30179 - 2s - loss: 7.8520 - accuracy: 4.3076e-04\n",
      "Epoch 3/50\n",
      "30179/30179 - 2s - loss: 7.8517 - accuracy: 4.6390e-04\n",
      "Epoch 4/50\n",
      "30179/30179 - 2s - loss: 7.8514 - accuracy: 5.6331e-04\n",
      "Epoch 5/50\n",
      "30179/30179 - 2s - loss: 7.8512 - accuracy: 7.9526e-04\n",
      "Epoch 6/50\n",
      "30179/30179 - 2s - loss: 7.8509 - accuracy: 0.0013\n",
      "Epoch 7/50\n",
      "30179/30179 - 2s - loss: 7.8507 - accuracy: 0.0020\n",
      "Epoch 8/50\n",
      "30179/30179 - 2s - loss: 7.8504 - accuracy: 0.0029\n",
      "Epoch 9/50\n",
      "30179/30179 - 2s - loss: 7.8501 - accuracy: 0.0050\n",
      "Epoch 10/50\n",
      "30179/30179 - 2s - loss: 7.8498 - accuracy: 0.0085\n",
      "Epoch 11/50\n",
      "30179/30179 - 2s - loss: 7.8496 - accuracy: 0.0151\n",
      "Epoch 12/50\n",
      "30179/30179 - 2s - loss: 7.8493 - accuracy: 0.0225\n",
      "Epoch 13/50\n",
      "30179/30179 - 2s - loss: 7.8490 - accuracy: 0.0314\n",
      "Epoch 14/50\n",
      "30179/30179 - 2s - loss: 7.8488 - accuracy: 0.0423\n",
      "Epoch 15/50\n",
      "30179/30179 - 2s - loss: 7.8485 - accuracy: 0.0508\n",
      "Epoch 16/50\n",
      "30179/30179 - 2s - loss: 7.8482 - accuracy: 0.0588\n",
      "Epoch 17/50\n",
      "30179/30179 - 2s - loss: 7.8480 - accuracy: 0.0658\n",
      "Epoch 18/50\n",
      "30179/30179 - 2s - loss: 7.8477 - accuracy: 0.0717\n",
      "Epoch 19/50\n",
      "30179/30179 - 2s - loss: 7.8474 - accuracy: 0.0756\n",
      "Epoch 20/50\n",
      "30179/30179 - 2s - loss: 7.8471 - accuracy: 0.0793\n",
      "Epoch 21/50\n",
      "30179/30179 - 2s - loss: 7.8469 - accuracy: 0.0825\n",
      "Epoch 22/50\n",
      "30179/30179 - 2s - loss: 7.8466 - accuracy: 0.0848\n",
      "Epoch 23/50\n",
      "30179/30179 - 2s - loss: 7.8463 - accuracy: 0.0870\n",
      "Epoch 24/50\n",
      "30179/30179 - 2s - loss: 7.8461 - accuracy: 0.0882\n",
      "Epoch 25/50\n",
      "30179/30179 - 2s - loss: 7.8458 - accuracy: 0.0894\n",
      "Epoch 26/50\n",
      "30179/30179 - 2s - loss: 7.8455 - accuracy: 0.0901\n",
      "Epoch 27/50\n",
      "30179/30179 - 2s - loss: 7.8452 - accuracy: 0.0909\n",
      "Epoch 28/50\n",
      "30179/30179 - 2s - loss: 7.8450 - accuracy: 0.0910\n",
      "Epoch 29/50\n",
      "30179/30179 - 2s - loss: 7.8447 - accuracy: 0.0917\n",
      "Epoch 30/50\n",
      "30179/30179 - 2s - loss: 7.8444 - accuracy: 0.0921\n",
      "Epoch 31/50\n",
      "30179/30179 - 2s - loss: 7.8441 - accuracy: 0.0923\n",
      "Epoch 32/50\n",
      "30179/30179 - 2s - loss: 7.8439 - accuracy: 0.0926\n",
      "Epoch 33/50\n",
      "30179/30179 - 2s - loss: 7.8436 - accuracy: 0.0928\n",
      "Epoch 34/50\n",
      "30179/30179 - 2s - loss: 7.8433 - accuracy: 0.0931\n",
      "Epoch 35/50\n",
      "30179/30179 - 2s - loss: 7.8430 - accuracy: 0.0936\n",
      "Epoch 36/50\n",
      "30179/30179 - 2s - loss: 7.8428 - accuracy: 0.0938\n",
      "Epoch 37/50\n",
      "30179/30179 - 2s - loss: 7.8425 - accuracy: 0.0939\n",
      "Epoch 38/50\n",
      "30179/30179 - 2s - loss: 7.8422 - accuracy: 0.0940\n",
      "Epoch 39/50\n",
      "30179/30179 - 2s - loss: 7.8419 - accuracy: 0.0939\n",
      "Epoch 40/50\n",
      "30179/30179 - 2s - loss: 7.8417 - accuracy: 0.0939\n",
      "Epoch 41/50\n",
      "30179/30179 - 2s - loss: 7.8414 - accuracy: 0.0941\n",
      "Epoch 42/50\n",
      "30179/30179 - 2s - loss: 7.8411 - accuracy: 0.0942\n",
      "Epoch 43/50\n",
      "30179/30179 - 2s - loss: 7.8408 - accuracy: 0.0942\n",
      "Epoch 44/50\n",
      "30179/30179 - 2s - loss: 7.8406 - accuracy: 0.0944\n",
      "Epoch 45/50\n",
      "30179/30179 - 2s - loss: 7.8403 - accuracy: 0.0945\n",
      "Epoch 46/50\n",
      "30179/30179 - 2s - loss: 7.8400 - accuracy: 0.0944\n",
      "Epoch 47/50\n",
      "30179/30179 - 2s - loss: 7.8397 - accuracy: 0.0945\n",
      "Epoch 48/50\n",
      "30179/30179 - 2s - loss: 7.8395 - accuracy: 0.0945\n",
      "Epoch 49/50\n",
      "30179/30179 - 2s - loss: 7.8392 - accuracy: 0.0944\n",
      "Epoch 50/50\n",
      "30179/30179 - 2s - loss: 7.8389 - accuracy: 0.0945\n",
      "Wall time: 1min 37s\n"
     ]
    }
   ],
   "source": [
    "%time hist = cbow.fit(X, Y, epochs=50, batch_size=100, verbose=2)"
   ]
  },
  {
   "cell_type": "code",
   "execution_count": 30,
   "metadata": {},
   "outputs": [],
   "source": [
    "import matplotlib.pyplot as plt\n",
    "%matplotlib inline"
   ]
  },
  {
   "cell_type": "code",
   "execution_count": 32,
   "metadata": {},
   "outputs": [
    {
     "data": {
      "image/png": "[encoded data removed]",
      "text/plain": [
       "<Figure size 720x432 with 1 Axes>"
      ]
     },
     "metadata": {
      "needs_background": "light"
     },
     "output_type": "display_data"
    }
   ],
   "source": [
    "plt.figure(figsize=(10, 6))\n",
    "plt.plot(hist.history['accuracy'])    # TF1.x 에서는 acc\n",
    "plt.show()"
   ]
  },
  {
   "cell_type": "code",
   "execution_count": null,
   "metadata": {},
   "outputs": [],
   "source": []
  }
 ],
 "metadata": {
  "kernelspec": {
   "display_name": "Python 3",
   "language": "python",
   "name": "python3"
  },
  "language_info": {
   "codemirror_mode": {
    "name": "ipython",
    "version": 3
   },
   "file_extension": ".py",
   "mimetype": "text/x-python",
   "name": "python",
   "nbconvert_exporter": "python",
   "pygments_lexer": "ipython3",
   "version": "3.7.5"
  }
 },
 "nbformat": 4,
 "nbformat_minor": 2
}
