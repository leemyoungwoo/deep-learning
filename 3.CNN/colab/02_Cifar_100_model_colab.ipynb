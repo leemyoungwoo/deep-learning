{
  "nbformat": 4,
  "nbformat_minor": 0,
  "metadata": {
    "colab": {
      "name": "02.Cifar-100-model_colab.ipynb",
      "provenance": [],
      "collapsed_sections": [],
      "authorship_tag": "ABX9TyOR2gF2zcK/Vgl1q4xuyIQJ",
      "include_colab_link": true
    },
    "kernelspec": {
      "name": "python3",
      "display_name": "Python 3"
    },
    "accelerator": "GPU"
  },
  "cells": [
    {
      "cell_type": "markdown",
      "metadata": {
        "id": "view-in-github",
        "colab_type": "text"
      },
      "source": [
        "<a href=\"https://colab.research.google.com/github/ckiekim/Deep-Learning-with-Colab/blob/master/02_Cifar_100_model_colab.ipynb\" target=\"_parent\"><img src=\"https://colab.research.google.com/assets/colab-badge.svg\" alt=\"Open In Colab\"/></a>"
      ]
    },
    {
      "cell_type": "markdown",
      "metadata": {
        "id": "8QFoLr12po6C",
        "colab_type": "text"
      },
      "source": [
        "# Cifar-100\n",
        "### Best Model 찾기"
      ]
    },
    {
      "cell_type": "code",
      "metadata": {
        "id": "NeI0TuvIwpLW",
        "colab_type": "code",
        "colab": {}
      },
      "source": [
        "!mkdir model"
      ],
      "execution_count": 1,
      "outputs": []
    },
    {
      "cell_type": "code",
      "metadata": {
        "id": "7LoXjb7Cw03c",
        "colab_type": "code",
        "colab": {
          "base_uri": "https://localhost:8080/",
          "height": 72
        },
        "outputId": "f06d703c-1c1d-463c-f98a-7e840e48903a"
      },
      "source": [
        "!ls -l"
      ],
      "execution_count": 2,
      "outputs": [
        {
          "output_type": "stream",
          "text": [
            "total 8\n",
            "drwxr-xr-x 2 root root 4096 Jul  7 05:32 model\n",
            "drwxr-xr-x 1 root root 4096 Jun 26 16:26 sample_data\n"
          ],
          "name": "stdout"
        }
      ]
    },
    {
      "cell_type": "code",
      "metadata": {
        "id": "RVaO08XqpkcN",
        "colab_type": "code",
        "colab": {
          "base_uri": "https://localhost:8080/",
          "height": 35
        },
        "outputId": "51ff8811-6f0e-4ab6-ebcd-6f379d43c55c"
      },
      "source": [
        "%tensorflow_version 2.x\n",
        "import tensorflow as tf\n",
        "device_name = tf.test.gpu_device_name()\n",
        "if device_name != '/device:GPU:0':\n",
        "    raise SystemError('GPU device not found')\n",
        "print('Found GPU at: {}'.format(device_name))"
      ],
      "execution_count": 3,
      "outputs": [
        {
          "output_type": "stream",
          "text": [
            "Found GPU at: /device:GPU:0\n"
          ],
          "name": "stdout"
        }
      ]
    },
    {
      "cell_type": "code",
      "metadata": {
        "id": "bVfcCL9ep03s",
        "colab_type": "code",
        "colab": {
          "base_uri": "https://localhost:8080/",
          "height": 72
        },
        "outputId": "5cdfff60-3340-41bc-e937-0a54ab575f8e"
      },
      "source": [
        "import numpy as np\n",
        "from tensorflow import keras\n",
        "from keras.datasets import cifar100\n",
        "(X_train, y_train), (X_test, y_test) = \\\n",
        "        cifar100.load_data(label_mode='fine')"
      ],
      "execution_count": 4,
      "outputs": [
        {
          "output_type": "stream",
          "text": [
            "Using TensorFlow backend.\n"
          ],
          "name": "stderr"
        },
        {
          "output_type": "stream",
          "text": [
            "Downloading data from https://www.cs.toronto.edu/~kriz/cifar-100-python.tar.gz\n",
            "169009152/169001437 [==============================] - 6s 0us/step\n"
          ],
          "name": "stdout"
        }
      ]
    },
    {
      "cell_type": "code",
      "metadata": {
        "id": "6dIdrS6vqIEV",
        "colab_type": "code",
        "colab": {
          "base_uri": "https://localhost:8080/",
          "height": 35
        },
        "outputId": "26aa24f2-5dc8-4ac3-fb36-3ede773467c7"
      },
      "source": [
        "X_train.shape, X_test.shape"
      ],
      "execution_count": 5,
      "outputs": [
        {
          "output_type": "execute_result",
          "data": {
            "text/plain": [
              "((50000, 32, 32, 3), (10000, 32, 32, 3))"
            ]
          },
          "metadata": {
            "tags": []
          },
          "execution_count": 5
        }
      ]
    },
    {
      "cell_type": "markdown",
      "metadata": {
        "id": "NNWGy0DzqXHv",
        "colab_type": "text"
      },
      "source": [
        "### 데이터 확인"
      ]
    },
    {
      "cell_type": "code",
      "metadata": {
        "id": "O0YLT4GMqP2V",
        "colab_type": "code",
        "colab": {}
      },
      "source": [
        "CIFAR100_LABELS = [\n",
        "    'apple', 'aquarium_fish', 'baby', 'bear', 'beaver', 'bed', 'bee', 'beetle', \n",
        "    'bicycle', 'bottle', 'bowl', 'boy', 'bridge', 'bus', 'butterfly', 'camel', \n",
        "    'can', 'castle', 'caterpillar', 'cattle', 'chair', 'chimpanzee', 'clock', \n",
        "    'cloud', 'cockroach', 'couch', 'crab', 'crocodile', 'cup', 'dinosaur', \n",
        "    'dolphin', 'elephant', 'flatfish', 'forest', 'fox', 'girl', 'hamster', \n",
        "    'house', 'kangaroo', 'keyboard', 'lamp', 'lawn_mower', 'leopard', 'lion',\n",
        "    'lizard', 'lobster', 'man', 'maple_tree', 'motorcycle', 'mountain', 'mouse',\n",
        "    'mushroom', 'oak_tree', 'orange', 'orchid', 'otter', 'palm_tree', 'pear',\n",
        "    'pickup_truck', 'pine_tree', 'plain', 'plate', 'poppy', 'porcupine',\n",
        "    'possum', 'rabbit', 'raccoon', 'ray', 'road', 'rocket', 'rose',\n",
        "    'sea', 'seal', 'shark', 'shrew', 'skunk', 'skyscraper', 'snail', 'snake',\n",
        "    'spider', 'squirrel', 'streetcar', 'sunflower', 'sweet_pepper', 'table',\n",
        "    'tank', 'telephone', 'television', 'tiger', 'tractor', 'train', 'trout',\n",
        "    'tulip', 'turtle', 'wardrobe', 'whale', 'willow_tree', 'wolf', 'woman',\n",
        "    'worm'\n",
        "]"
      ],
      "execution_count": 6,
      "outputs": []
    },
    {
      "cell_type": "code",
      "metadata": {
        "id": "bTiwANlDqfz9",
        "colab_type": "code",
        "colab": {
          "base_uri": "https://localhost:8080/",
          "height": 124
        },
        "outputId": "1b075e50-1690-4fea-afd5-01b6424df123"
      },
      "source": [
        "import matplotlib.pyplot as plt\n",
        "%matplotlib inline\n",
        "\n",
        "plt.subplot(141)\n",
        "plt.imshow(X_train[0], interpolation=\"bicubic\")\n",
        "plt.grid(False)\n",
        "plt.subplot(142)\n",
        "plt.imshow(X_train[4], interpolation=\"bicubic\")\n",
        "plt.grid(False)\n",
        "plt.subplot(143)\n",
        "plt.imshow(X_train[8], interpolation=\"bicubic\")\n",
        "plt.grid(False)\n",
        "plt.subplot(144)\n",
        "plt.imshow(X_train[12], interpolation=\"bicubic\")\n",
        "plt.grid(False)\n",
        "plt.show()"
      ],
      "execution_count": 7,
      "outputs": [
        {
          "output_type": "display_data",
          "data": {
            "image/png": "[encoded data removed]",
            "text/plain": [
              "<Figure size 432x288 with 4 Axes>"
            ]
          },
          "metadata": {
            "tags": [],
            "needs_background": "light"
          }
        }
      ]
    },
    {
      "cell_type": "code",
      "metadata": {
        "id": "ZFIdZTSkqqMm",
        "colab_type": "code",
        "colab": {
          "base_uri": "https://localhost:8080/",
          "height": 35
        },
        "outputId": "83cb42c1-e0ac-434d-ba89-b7cd22050b55"
      },
      "source": [
        "CIFAR100_LABELS[y_train[0][0]], CIFAR100_LABELS[y_train[4][0]], \\\n",
        "    CIFAR100_LABELS[y_train[8][0]], CIFAR100_LABELS[y_train[12][0]]"
      ],
      "execution_count": 8,
      "outputs": [
        {
          "output_type": "execute_result",
          "data": {
            "text/plain": [
              "('cattle', 'aquarium_fish', 'cloud', 'sunflower')"
            ]
          },
          "metadata": {
            "tags": []
          },
          "execution_count": 8
        }
      ]
    },
    {
      "cell_type": "markdown",
      "metadata": {
        "id": "r_SzDHRcq2PX",
        "colab_type": "text"
      },
      "source": [
        "### 자료형 변환 및 스케일링\n",
        "- X: 실수형으로 정규화\n",
        "- Y: 1-hot encoding"
      ]
    },
    {
      "cell_type": "code",
      "metadata": {
        "id": "uZjFC71jqv21",
        "colab_type": "code",
        "colab": {
          "base_uri": "https://localhost:8080/",
          "height": 35
        },
        "outputId": "8f4a9068-02f2-4ba1-ec2d-846fa19d4746"
      },
      "source": [
        "X_train = X_train.astype('float32')/255.0\n",
        "X_test = X_test.astype('float32')/255.0\n",
        "\n",
        "print(X_train.shape, X_train.dtype)"
      ],
      "execution_count": 9,
      "outputs": [
        {
          "output_type": "stream",
          "text": [
            "(50000, 32, 32, 3) float32\n"
          ],
          "name": "stdout"
        }
      ]
    },
    {
      "cell_type": "code",
      "metadata": {
        "id": "kfNui-vUrA3l",
        "colab_type": "code",
        "colab": {
          "base_uri": "https://localhost:8080/",
          "height": 274
        },
        "outputId": "06b5583e-8c81-47ca-f22d-50e612db2710"
      },
      "source": [
        "Y_train = keras.utils.to_categorical(y_train, 100)\n",
        "Y_test = keras.utils.to_categorical(y_test, 100)\n",
        "Y_train[:2]"
      ],
      "execution_count": 10,
      "outputs": [
        {
          "output_type": "execute_result",
          "data": {
            "text/plain": [
              "array([[0., 0., 0., 0., 0., 0., 0., 0., 0., 0., 0., 0., 0., 0., 0., 0.,\n",
              "        0., 0., 0., 1., 0., 0., 0., 0., 0., 0., 0., 0., 0., 0., 0., 0.,\n",
              "        0., 0., 0., 0., 0., 0., 0., 0., 0., 0., 0., 0., 0., 0., 0., 0.,\n",
              "        0., 0., 0., 0., 0., 0., 0., 0., 0., 0., 0., 0., 0., 0., 0., 0.,\n",
              "        0., 0., 0., 0., 0., 0., 0., 0., 0., 0., 0., 0., 0., 0., 0., 0.,\n",
              "        0., 0., 0., 0., 0., 0., 0., 0., 0., 0., 0., 0., 0., 0., 0., 0.,\n",
              "        0., 0., 0., 0.],\n",
              "       [0., 0., 0., 0., 0., 0., 0., 0., 0., 0., 0., 0., 0., 0., 0., 0.,\n",
              "        0., 0., 0., 0., 0., 0., 0., 0., 0., 0., 0., 0., 0., 1., 0., 0.,\n",
              "        0., 0., 0., 0., 0., 0., 0., 0., 0., 0., 0., 0., 0., 0., 0., 0.,\n",
              "        0., 0., 0., 0., 0., 0., 0., 0., 0., 0., 0., 0., 0., 0., 0., 0.,\n",
              "        0., 0., 0., 0., 0., 0., 0., 0., 0., 0., 0., 0., 0., 0., 0., 0.,\n",
              "        0., 0., 0., 0., 0., 0., 0., 0., 0., 0., 0., 0., 0., 0., 0., 0.,\n",
              "        0., 0., 0., 0.]], dtype=float32)"
            ]
          },
          "metadata": {
            "tags": []
          },
          "execution_count": 10
        }
      ]
    },
    {
      "cell_type": "markdown",
      "metadata": {
        "id": "0wd91E4WrPcW",
        "colab_type": "text"
      },
      "source": [
        "### 모형 구현"
      ]
    },
    {
      "cell_type": "code",
      "metadata": {
        "id": "Q-rvpDqWrHS1",
        "colab_type": "code",
        "colab": {}
      },
      "source": [
        "from keras.models import Sequential\n",
        "from keras.layers import Conv2D, MaxPooling2D, Flatten, Dense, Dropout\n",
        "from keras.layers import Activation"
      ],
      "execution_count": 11,
      "outputs": []
    },
    {
      "cell_type": "code",
      "metadata": {
        "id": "ZT9BtaQrrXhl",
        "colab_type": "code",
        "colab": {
          "base_uri": "https://localhost:8080/",
          "height": 863
        },
        "outputId": "38da4503-d89d-46ad-a8c9-391460b30d28"
      },
      "source": [
        "model = Sequential()\n",
        "\n",
        "# Input Layer\n",
        "model.add(Conv2D(32, (3,3), padding='same', input_shape = X_train.shape[1:]))\n",
        "model.add(Activation('relu'))\n",
        "# MAXPOOL Layer 1\n",
        "model.add(MaxPooling2D(pool_size=(2, 2)))\n",
        "model.add(Activation('relu'))\n",
        "# CONV2D Layer 2\n",
        "model.add(Conv2D(64, (3,3), padding='same'))\n",
        "model.add(Activation('relu'))\n",
        "# MAXPOOL Layer 2\n",
        "model.add(MaxPooling2D(pool_size=(2, 2)))\n",
        "model.add(Activation('relu'))\n",
        "# Add a dropout of 10%\n",
        "model.add(Dropout(0.1))\n",
        "# CONV2D Layer 3\n",
        "model.add(Conv2D(128, (3,3), padding='same'))\n",
        "model.add(Activation('relu'))\n",
        "# MAXPOOL Layer 3\n",
        "model.add(MaxPooling2D(pool_size=(2,2)))\n",
        "# Add dropout of 25%\n",
        "model.add(Dropout(0.25))\n",
        "# flatten \n",
        "model.add(Flatten())\n",
        "# Fully Connected Layer 1\n",
        "model.add(Dense(512))\n",
        "model.add(Activation('relu'))\n",
        "# Adding a dropout of 50%\n",
        "model.add(Dropout(0.5))\n",
        "# Output Layer (Fully Connected Layer 2) \n",
        "model.add(Dense(100))\n",
        "model.add(Activation('softmax'))\n",
        "          \n",
        "model.summary()"
      ],
      "execution_count": 12,
      "outputs": [
        {
          "output_type": "stream",
          "text": [
            "Model: \"sequential_1\"\n",
            "_________________________________________________________________\n",
            "Layer (type)                 Output Shape              Param #   \n",
            "=================================================================\n",
            "conv2d_1 (Conv2D)            (None, 32, 32, 32)        896       \n",
            "_________________________________________________________________\n",
            "activation_1 (Activation)    (None, 32, 32, 32)        0         \n",
            "_________________________________________________________________\n",
            "max_pooling2d_1 (MaxPooling2 (None, 16, 16, 32)        0         \n",
            "_________________________________________________________________\n",
            "activation_2 (Activation)    (None, 16, 16, 32)        0         \n",
            "_________________________________________________________________\n",
            "conv2d_2 (Conv2D)            (None, 16, 16, 64)        18496     \n",
            "_________________________________________________________________\n",
            "activation_3 (Activation)    (None, 16, 16, 64)        0         \n",
            "_________________________________________________________________\n",
            "max_pooling2d_2 (MaxPooling2 (None, 8, 8, 64)          0         \n",
            "_________________________________________________________________\n",
            "activation_4 (Activation)    (None, 8, 8, 64)          0         \n",
            "_________________________________________________________________\n",
            "dropout_1 (Dropout)          (None, 8, 8, 64)          0         \n",
            "_________________________________________________________________\n",
            "conv2d_3 (Conv2D)            (None, 8, 8, 128)         73856     \n",
            "_________________________________________________________________\n",
            "activation_5 (Activation)    (None, 8, 8, 128)         0         \n",
            "_________________________________________________________________\n",
            "max_pooling2d_3 (MaxPooling2 (None, 4, 4, 128)         0         \n",
            "_________________________________________________________________\n",
            "dropout_2 (Dropout)          (None, 4, 4, 128)         0         \n",
            "_________________________________________________________________\n",
            "flatten_1 (Flatten)          (None, 2048)              0         \n",
            "_________________________________________________________________\n",
            "dense_1 (Dense)              (None, 512)               1049088   \n",
            "_________________________________________________________________\n",
            "activation_6 (Activation)    (None, 512)               0         \n",
            "_________________________________________________________________\n",
            "dropout_3 (Dropout)          (None, 512)               0         \n",
            "_________________________________________________________________\n",
            "dense_2 (Dense)              (None, 100)               51300     \n",
            "_________________________________________________________________\n",
            "activation_7 (Activation)    (None, 100)               0         \n",
            "=================================================================\n",
            "Total params: 1,193,636\n",
            "Trainable params: 1,193,636\n",
            "Non-trainable params: 0\n",
            "_________________________________________________________________\n"
          ],
          "name": "stdout"
        }
      ]
    },
    {
      "cell_type": "code",
      "metadata": {
        "id": "zabwfeHnrfSk",
        "colab_type": "code",
        "colab": {}
      },
      "source": [
        "opt = keras.optimizers.Adam(lr=0.0001)\n",
        "model.compile(loss='categorical_crossentropy', \n",
        "              optimizer=opt, metrics=['accuracy'])"
      ],
      "execution_count": 13,
      "outputs": []
    },
    {
      "cell_type": "markdown",
      "metadata": {
        "id": "ELK3UKvbyaKj",
        "colab_type": "text"
      },
      "source": [
        "### Callback 선언"
      ]
    },
    {
      "cell_type": "code",
      "metadata": {
        "id": "cjNsy0bfyZZF",
        "colab_type": "code",
        "colab": {}
      },
      "source": [
        "## to save checkpoint to use later\n",
        "from keras.callbacks import ModelCheckpoint, EarlyStopping\n",
        "\n",
        "modelpath = \"model/cifar-100-{epoch:03d}-{val_loss:.4f}.hdf5\"\n",
        "checkpointer = ModelCheckpoint(filepath=modelpath, monitor='val_loss', \n",
        "                               verbose=1, save_best_only=True)\n",
        "early_stopping_callback = EarlyStopping(monitor='val_loss', patience=20)"
      ],
      "execution_count": 15,
      "outputs": []
    },
    {
      "cell_type": "code",
      "metadata": {
        "id": "bDODnydkrlCk",
        "colab_type": "code",
        "colab": {
          "base_uri": "https://localhost:8080/",
          "height": 1000
        },
        "outputId": "9244bfc1-0615-465e-c6df-451c9e889450"
      },
      "source": [
        "history = model.fit(X_train, Y_train, epochs=300, batch_size=50,\n",
        "                    validation_data=(X_test, Y_test), verbose=1,\n",
        "                    callbacks=[checkpointer, early_stopping_callback])"
      ],
      "execution_count": 16,
      "outputs": [
        {
          "output_type": "stream",
          "text": [
            "Train on 50000 samples, validate on 10000 samples\n",
            "Epoch 1/300\n",
            "50000/50000 [==============================] - 11s 230us/step - loss: 4.3479 - accuracy: 0.0418 - val_loss: 3.9557 - val_accuracy: 0.1109\n",
            "\n",
            "Epoch 00001: val_loss improved from inf to 3.95573, saving model to model/cifar-100-001-3.9557.hdf5\n",
            "Epoch 2/300\n",
            " 1800/50000 [>.............................] - ETA: 4s - loss: 4.0127 - accuracy: 0.0928"
          ],
          "name": "stdout"
        },
        {
          "output_type": "stream",
          "text": [
            "/usr/local/lib/python3.6/dist-packages/keras/engine/saving.py:165: UserWarning: TensorFlow optimizers do not make it possible to access optimizer attributes or optimizer state after instantiation. As a result, we cannot save the optimizer as part of the model save file.You will have to compile your model again after loading it. Prefer using a Keras optimizer instead (see keras.io/optimizers).\n",
            "  'TensorFlow optimizers do not '\n"
          ],
          "name": "stderr"
        },
        {
          "output_type": "stream",
          "text": [
            "50000/50000 [==============================] - 5s 103us/step - loss: 3.8730 - accuracy: 0.1110 - val_loss: 3.6009 - val_accuracy: 0.1688\n",
            "\n",
            "Epoch 00002: val_loss improved from 3.95573 to 3.60095, saving model to model/cifar-100-002-3.6009.hdf5\n",
            "Epoch 3/300\n",
            "50000/50000 [==============================] - 5s 102us/step - loss: 3.6394 - accuracy: 0.1478 - val_loss: 3.4043 - val_accuracy: 0.2047\n",
            "\n",
            "Epoch 00003: val_loss improved from 3.60095 to 3.40433, saving model to model/cifar-100-003-3.4043.hdf5\n",
            "Epoch 4/300\n",
            "50000/50000 [==============================] - 5s 105us/step - loss: 3.4728 - accuracy: 0.1767 - val_loss: 3.2510 - val_accuracy: 0.2330\n",
            "\n",
            "Epoch 00004: val_loss improved from 3.40433 to 3.25096, saving model to model/cifar-100-004-3.2510.hdf5\n",
            "Epoch 5/300\n",
            "50000/50000 [==============================] - 5s 104us/step - loss: 3.3375 - accuracy: 0.2024 - val_loss: 3.1369 - val_accuracy: 0.2587\n",
            "\n",
            "Epoch 00005: val_loss improved from 3.25096 to 3.13691, saving model to model/cifar-100-005-3.1369.hdf5\n",
            "Epoch 6/300\n",
            "50000/50000 [==============================] - 5s 102us/step - loss: 3.2347 - accuracy: 0.2178 - val_loss: 3.0461 - val_accuracy: 0.2741\n",
            "\n",
            "Epoch 00006: val_loss improved from 3.13691 to 3.04610, saving model to model/cifar-100-006-3.0461.hdf5\n",
            "Epoch 7/300\n",
            "50000/50000 [==============================] - 5s 103us/step - loss: 3.1429 - accuracy: 0.2377 - val_loss: 2.9509 - val_accuracy: 0.2885\n",
            "\n",
            "Epoch 00007: val_loss improved from 3.04610 to 2.95094, saving model to model/cifar-100-007-2.9509.hdf5\n",
            "Epoch 8/300\n",
            "50000/50000 [==============================] - 5s 103us/step - loss: 3.0584 - accuracy: 0.2514 - val_loss: 2.8880 - val_accuracy: 0.2984\n",
            "\n",
            "Epoch 00008: val_loss improved from 2.95094 to 2.88801, saving model to model/cifar-100-008-2.8880.hdf5\n",
            "Epoch 9/300\n",
            "50000/50000 [==============================] - 5s 109us/step - loss: 2.9877 - accuracy: 0.2629 - val_loss: 2.8382 - val_accuracy: 0.3083\n",
            "\n",
            "Epoch 00009: val_loss improved from 2.88801 to 2.83818, saving model to model/cifar-100-009-2.8382.hdf5\n",
            "Epoch 10/300\n",
            "50000/50000 [==============================] - 5s 103us/step - loss: 2.9183 - accuracy: 0.2773 - val_loss: 2.7895 - val_accuracy: 0.3174\n",
            "\n",
            "Epoch 00010: val_loss improved from 2.83818 to 2.78948, saving model to model/cifar-100-010-2.7895.hdf5\n",
            "Epoch 11/300\n",
            "50000/50000 [==============================] - 5s 103us/step - loss: 2.8636 - accuracy: 0.2891 - val_loss: 2.7178 - val_accuracy: 0.3333\n",
            "\n",
            "Epoch 00011: val_loss improved from 2.78948 to 2.71778, saving model to model/cifar-100-011-2.7178.hdf5\n",
            "Epoch 12/300\n",
            "50000/50000 [==============================] - 5s 104us/step - loss: 2.8050 - accuracy: 0.3020 - val_loss: 2.6658 - val_accuracy: 0.3431\n",
            "\n",
            "Epoch 00012: val_loss improved from 2.71778 to 2.66577, saving model to model/cifar-100-012-2.6658.hdf5\n",
            "Epoch 13/300\n",
            "50000/50000 [==============================] - 5s 104us/step - loss: 2.7493 - accuracy: 0.3112 - val_loss: 2.6230 - val_accuracy: 0.3489\n",
            "\n",
            "Epoch 00013: val_loss improved from 2.66577 to 2.62301, saving model to model/cifar-100-013-2.6230.hdf5\n",
            "Epoch 14/300\n",
            "50000/50000 [==============================] - 5s 103us/step - loss: 2.7100 - accuracy: 0.3198 - val_loss: 2.5789 - val_accuracy: 0.3569\n",
            "\n",
            "Epoch 00014: val_loss improved from 2.62301 to 2.57894, saving model to model/cifar-100-014-2.5789.hdf5\n",
            "Epoch 15/300\n",
            "50000/50000 [==============================] - 5s 103us/step - loss: 2.6609 - accuracy: 0.3277 - val_loss: 2.5628 - val_accuracy: 0.3597\n",
            "\n",
            "Epoch 00015: val_loss improved from 2.57894 to 2.56278, saving model to model/cifar-100-015-2.5628.hdf5\n",
            "Epoch 16/300\n",
            "50000/50000 [==============================] - 5s 103us/step - loss: 2.6082 - accuracy: 0.3402 - val_loss: 2.5184 - val_accuracy: 0.3698\n",
            "\n",
            "Epoch 00016: val_loss improved from 2.56278 to 2.51845, saving model to model/cifar-100-016-2.5184.hdf5\n",
            "Epoch 17/300\n",
            "50000/50000 [==============================] - 5s 104us/step - loss: 2.5685 - accuracy: 0.3477 - val_loss: 2.4969 - val_accuracy: 0.3742\n",
            "\n",
            "Epoch 00017: val_loss improved from 2.51845 to 2.49692, saving model to model/cifar-100-017-2.4969.hdf5\n",
            "Epoch 18/300\n",
            "50000/50000 [==============================] - 5s 104us/step - loss: 2.5307 - accuracy: 0.3569 - val_loss: 2.4643 - val_accuracy: 0.3805\n",
            "\n",
            "Epoch 00018: val_loss improved from 2.49692 to 2.46433, saving model to model/cifar-100-018-2.4643.hdf5\n",
            "Epoch 19/300\n",
            "50000/50000 [==============================] - 5s 105us/step - loss: 2.4888 - accuracy: 0.3637 - val_loss: 2.4299 - val_accuracy: 0.3882\n",
            "\n",
            "Epoch 00019: val_loss improved from 2.46433 to 2.42987, saving model to model/cifar-100-019-2.4299.hdf5\n",
            "Epoch 20/300\n",
            "50000/50000 [==============================] - 5s 105us/step - loss: 2.4547 - accuracy: 0.3688 - val_loss: 2.3968 - val_accuracy: 0.3904\n",
            "\n",
            "Epoch 00020: val_loss improved from 2.42987 to 2.39678, saving model to model/cifar-100-020-2.3968.hdf5\n",
            "Epoch 21/300\n",
            "50000/50000 [==============================] - 5s 104us/step - loss: 2.4175 - accuracy: 0.3818 - val_loss: 2.3765 - val_accuracy: 0.3988\n",
            "\n",
            "Epoch 00021: val_loss improved from 2.39678 to 2.37647, saving model to model/cifar-100-021-2.3765.hdf5\n",
            "Epoch 22/300\n",
            "50000/50000 [==============================] - 5s 103us/step - loss: 2.3909 - accuracy: 0.3834 - val_loss: 2.3540 - val_accuracy: 0.4025\n",
            "\n",
            "Epoch 00022: val_loss improved from 2.37647 to 2.35395, saving model to model/cifar-100-022-2.3540.hdf5\n",
            "Epoch 23/300\n",
            "50000/50000 [==============================] - 5s 104us/step - loss: 2.3533 - accuracy: 0.3933 - val_loss: 2.3362 - val_accuracy: 0.4069\n",
            "\n",
            "Epoch 00023: val_loss improved from 2.35395 to 2.33618, saving model to model/cifar-100-023-2.3362.hdf5\n",
            "Epoch 24/300\n",
            "50000/50000 [==============================] - 5s 103us/step - loss: 2.3232 - accuracy: 0.4007 - val_loss: 2.3128 - val_accuracy: 0.4107\n",
            "\n",
            "Epoch 00024: val_loss improved from 2.33618 to 2.31281, saving model to model/cifar-100-024-2.3128.hdf5\n",
            "Epoch 25/300\n",
            "50000/50000 [==============================] - 5s 104us/step - loss: 2.2934 - accuracy: 0.4039 - val_loss: 2.2935 - val_accuracy: 0.4135\n",
            "\n",
            "Epoch 00025: val_loss improved from 2.31281 to 2.29353, saving model to model/cifar-100-025-2.2935.hdf5\n",
            "Epoch 26/300\n",
            "50000/50000 [==============================] - 5s 104us/step - loss: 2.2646 - accuracy: 0.4101 - val_loss: 2.2784 - val_accuracy: 0.4169\n",
            "\n",
            "Epoch 00026: val_loss improved from 2.29353 to 2.27844, saving model to model/cifar-100-026-2.2784.hdf5\n",
            "Epoch 27/300\n",
            "50000/50000 [==============================] - 5s 107us/step - loss: 2.2271 - accuracy: 0.4193 - val_loss: 2.2601 - val_accuracy: 0.4200\n",
            "\n",
            "Epoch 00027: val_loss improved from 2.27844 to 2.26007, saving model to model/cifar-100-027-2.2601.hdf5\n",
            "Epoch 28/300\n",
            "50000/50000 [==============================] - 6s 111us/step - loss: 2.2094 - accuracy: 0.4214 - val_loss: 2.2451 - val_accuracy: 0.4237\n",
            "\n",
            "Epoch 00028: val_loss improved from 2.26007 to 2.24512, saving model to model/cifar-100-028-2.2451.hdf5\n",
            "Epoch 29/300\n",
            "50000/50000 [==============================] - 5s 107us/step - loss: 2.1760 - accuracy: 0.4279 - val_loss: 2.2321 - val_accuracy: 0.4267\n",
            "\n",
            "Epoch 00029: val_loss improved from 2.24512 to 2.23210, saving model to model/cifar-100-029-2.2321.hdf5\n",
            "Epoch 30/300\n",
            "50000/50000 [==============================] - 5s 104us/step - loss: 2.1437 - accuracy: 0.4379 - val_loss: 2.2114 - val_accuracy: 0.4306\n",
            "\n",
            "Epoch 00030: val_loss improved from 2.23210 to 2.21135, saving model to model/cifar-100-030-2.2114.hdf5\n",
            "Epoch 31/300\n",
            "50000/50000 [==============================] - 5s 106us/step - loss: 2.1281 - accuracy: 0.4370 - val_loss: 2.2069 - val_accuracy: 0.4318\n",
            "\n",
            "Epoch 00031: val_loss improved from 2.21135 to 2.20689, saving model to model/cifar-100-031-2.2069.hdf5\n",
            "Epoch 32/300\n",
            "50000/50000 [==============================] - 5s 106us/step - loss: 2.0977 - accuracy: 0.4458 - val_loss: 2.1886 - val_accuracy: 0.4396\n",
            "\n",
            "Epoch 00032: val_loss improved from 2.20689 to 2.18858, saving model to model/cifar-100-032-2.1886.hdf5\n",
            "Epoch 33/300\n",
            "50000/50000 [==============================] - 5s 106us/step - loss: 2.0702 - accuracy: 0.4510 - val_loss: 2.1834 - val_accuracy: 0.4421\n",
            "\n",
            "Epoch 00033: val_loss improved from 2.18858 to 2.18343, saving model to model/cifar-100-033-2.1834.hdf5\n",
            "Epoch 34/300\n",
            "50000/50000 [==============================] - 5s 106us/step - loss: 2.0442 - accuracy: 0.4574 - val_loss: 2.1646 - val_accuracy: 0.4426\n",
            "\n",
            "Epoch 00034: val_loss improved from 2.18343 to 2.16462, saving model to model/cifar-100-034-2.1646.hdf5\n",
            "Epoch 35/300\n",
            "50000/50000 [==============================] - 5s 107us/step - loss: 2.0227 - accuracy: 0.4623 - val_loss: 2.1659 - val_accuracy: 0.4458\n",
            "\n",
            "Epoch 00035: val_loss did not improve from 2.16462\n",
            "Epoch 36/300\n",
            "50000/50000 [==============================] - 5s 107us/step - loss: 1.9980 - accuracy: 0.4705 - val_loss: 2.1599 - val_accuracy: 0.4454\n",
            "\n",
            "Epoch 00036: val_loss improved from 2.16462 to 2.15985, saving model to model/cifar-100-036-2.1599.hdf5\n",
            "Epoch 37/300\n",
            "50000/50000 [==============================] - 5s 106us/step - loss: 1.9807 - accuracy: 0.4699 - val_loss: 2.1371 - val_accuracy: 0.4462\n",
            "\n",
            "Epoch 00037: val_loss improved from 2.15985 to 2.13707, saving model to model/cifar-100-037-2.1371.hdf5\n",
            "Epoch 38/300\n",
            "50000/50000 [==============================] - 5s 106us/step - loss: 1.9564 - accuracy: 0.4726 - val_loss: 2.1207 - val_accuracy: 0.4527\n",
            "\n",
            "Epoch 00038: val_loss improved from 2.13707 to 2.12067, saving model to model/cifar-100-038-2.1207.hdf5\n",
            "Epoch 39/300\n",
            "50000/50000 [==============================] - 5s 106us/step - loss: 1.9284 - accuracy: 0.4823 - val_loss: 2.1448 - val_accuracy: 0.4468\n",
            "\n",
            "Epoch 00039: val_loss did not improve from 2.12067\n",
            "Epoch 40/300\n",
            "50000/50000 [==============================] - 5s 107us/step - loss: 1.9118 - accuracy: 0.4886 - val_loss: 2.1011 - val_accuracy: 0.4563\n",
            "\n",
            "Epoch 00040: val_loss improved from 2.12067 to 2.10107, saving model to model/cifar-100-040-2.1011.hdf5\n",
            "Epoch 41/300\n",
            "50000/50000 [==============================] - 5s 107us/step - loss: 1.8916 - accuracy: 0.4904 - val_loss: 2.1113 - val_accuracy: 0.4529\n",
            "\n",
            "Epoch 00041: val_loss did not improve from 2.10107\n",
            "Epoch 42/300\n",
            "50000/50000 [==============================] - 5s 107us/step - loss: 1.8729 - accuracy: 0.4942 - val_loss: 2.0960 - val_accuracy: 0.4534\n",
            "\n",
            "Epoch 00042: val_loss improved from 2.10107 to 2.09595, saving model to model/cifar-100-042-2.0960.hdf5\n",
            "Epoch 43/300\n",
            "50000/50000 [==============================] - 5s 107us/step - loss: 1.8477 - accuracy: 0.4997 - val_loss: 2.0954 - val_accuracy: 0.4554\n",
            "\n",
            "Epoch 00043: val_loss improved from 2.09595 to 2.09536, saving model to model/cifar-100-043-2.0954.hdf5\n",
            "Epoch 44/300\n",
            "50000/50000 [==============================] - 5s 106us/step - loss: 1.8213 - accuracy: 0.5064 - val_loss: 2.0875 - val_accuracy: 0.4606\n",
            "\n",
            "Epoch 00044: val_loss improved from 2.09536 to 2.08753, saving model to model/cifar-100-044-2.0875.hdf5\n",
            "Epoch 45/300\n",
            "50000/50000 [==============================] - 5s 106us/step - loss: 1.8089 - accuracy: 0.5068 - val_loss: 2.0721 - val_accuracy: 0.4629\n",
            "\n",
            "Epoch 00045: val_loss improved from 2.08753 to 2.07213, saving model to model/cifar-100-045-2.0721.hdf5\n",
            "Epoch 46/300\n",
            "50000/50000 [==============================] - 5s 106us/step - loss: 1.7937 - accuracy: 0.5108 - val_loss: 2.0606 - val_accuracy: 0.4658\n",
            "\n",
            "Epoch 00046: val_loss improved from 2.07213 to 2.06061, saving model to model/cifar-100-046-2.0606.hdf5\n",
            "Epoch 47/300\n",
            "50000/50000 [==============================] - 5s 106us/step - loss: 1.7722 - accuracy: 0.5130 - val_loss: 2.0667 - val_accuracy: 0.4662\n",
            "\n",
            "Epoch 00047: val_loss did not improve from 2.06061\n",
            "Epoch 48/300\n",
            "50000/50000 [==============================] - 5s 107us/step - loss: 1.7527 - accuracy: 0.5207 - val_loss: 2.0570 - val_accuracy: 0.4639\n",
            "\n",
            "Epoch 00048: val_loss improved from 2.06061 to 2.05701, saving model to model/cifar-100-048-2.0570.hdf5\n",
            "Epoch 49/300\n",
            "50000/50000 [==============================] - 5s 104us/step - loss: 1.7342 - accuracy: 0.5257 - val_loss: 2.0524 - val_accuracy: 0.4689\n",
            "\n",
            "Epoch 00049: val_loss improved from 2.05701 to 2.05240, saving model to model/cifar-100-049-2.0524.hdf5\n",
            "Epoch 50/300\n",
            "50000/50000 [==============================] - 5s 105us/step - loss: 1.7263 - accuracy: 0.5267 - val_loss: 2.0475 - val_accuracy: 0.4714\n",
            "\n",
            "Epoch 00050: val_loss improved from 2.05240 to 2.04746, saving model to model/cifar-100-050-2.0475.hdf5\n",
            "Epoch 51/300\n",
            "50000/50000 [==============================] - 5s 107us/step - loss: 1.6991 - accuracy: 0.5309 - val_loss: 2.0477 - val_accuracy: 0.4706\n",
            "\n",
            "Epoch 00051: val_loss did not improve from 2.04746\n",
            "Epoch 52/300\n",
            "50000/50000 [==============================] - 5s 106us/step - loss: 1.6811 - accuracy: 0.5340 - val_loss: 2.0413 - val_accuracy: 0.4753\n",
            "\n",
            "Epoch 00052: val_loss improved from 2.04746 to 2.04126, saving model to model/cifar-100-052-2.0413.hdf5\n",
            "Epoch 53/300\n",
            "50000/50000 [==============================] - 5s 107us/step - loss: 1.6604 - accuracy: 0.5426 - val_loss: 2.0351 - val_accuracy: 0.4705\n",
            "\n",
            "Epoch 00053: val_loss improved from 2.04126 to 2.03509, saving model to model/cifar-100-053-2.0351.hdf5\n",
            "Epoch 54/300\n",
            "50000/50000 [==============================] - 5s 106us/step - loss: 1.6501 - accuracy: 0.5426 - val_loss: 2.0310 - val_accuracy: 0.4725\n",
            "\n",
            "Epoch 00054: val_loss improved from 2.03509 to 2.03098, saving model to model/cifar-100-054-2.0310.hdf5\n",
            "Epoch 55/300\n",
            "50000/50000 [==============================] - 5s 105us/step - loss: 1.6308 - accuracy: 0.5463 - val_loss: 2.0316 - val_accuracy: 0.4730\n",
            "\n",
            "Epoch 00055: val_loss did not improve from 2.03098\n",
            "Epoch 56/300\n",
            "50000/50000 [==============================] - 5s 106us/step - loss: 1.6183 - accuracy: 0.5499 - val_loss: 2.0285 - val_accuracy: 0.4788\n",
            "\n",
            "Epoch 00056: val_loss improved from 2.03098 to 2.02849, saving model to model/cifar-100-056-2.0285.hdf5\n",
            "Epoch 57/300\n",
            "50000/50000 [==============================] - 5s 110us/step - loss: 1.5981 - accuracy: 0.5548 - val_loss: 2.0226 - val_accuracy: 0.4781\n",
            "\n",
            "Epoch 00057: val_loss improved from 2.02849 to 2.02260, saving model to model/cifar-100-057-2.0226.hdf5\n",
            "Epoch 58/300\n",
            "50000/50000 [==============================] - 5s 106us/step - loss: 1.5848 - accuracy: 0.5556 - val_loss: 2.0099 - val_accuracy: 0.4803\n",
            "\n",
            "Epoch 00058: val_loss improved from 2.02260 to 2.00991, saving model to model/cifar-100-058-2.0099.hdf5\n",
            "Epoch 59/300\n",
            "50000/50000 [==============================] - 5s 106us/step - loss: 1.5632 - accuracy: 0.5622 - val_loss: 2.0221 - val_accuracy: 0.4765\n",
            "\n",
            "Epoch 00059: val_loss did not improve from 2.00991\n",
            "Epoch 60/300\n",
            "50000/50000 [==============================] - 5s 106us/step - loss: 1.5503 - accuracy: 0.5615 - val_loss: 2.0230 - val_accuracy: 0.4746\n",
            "\n",
            "Epoch 00060: val_loss did not improve from 2.00991\n",
            "Epoch 61/300\n",
            "50000/50000 [==============================] - 5s 107us/step - loss: 1.5286 - accuracy: 0.5699 - val_loss: 2.0203 - val_accuracy: 0.4771\n",
            "\n",
            "Epoch 00061: val_loss did not improve from 2.00991\n",
            "Epoch 62/300\n",
            "50000/50000 [==============================] - 5s 106us/step - loss: 1.5204 - accuracy: 0.5708 - val_loss: 2.0081 - val_accuracy: 0.4801\n",
            "\n",
            "Epoch 00062: val_loss improved from 2.00991 to 2.00813, saving model to model/cifar-100-062-2.0081.hdf5\n",
            "Epoch 63/300\n",
            "50000/50000 [==============================] - 6s 114us/step - loss: 1.5075 - accuracy: 0.5739 - val_loss: 2.0123 - val_accuracy: 0.4786\n",
            "\n",
            "Epoch 00063: val_loss did not improve from 2.00813\n",
            "Epoch 64/300\n",
            "50000/50000 [==============================] - 5s 110us/step - loss: 1.4895 - accuracy: 0.5767 - val_loss: 2.0158 - val_accuracy: 0.4817\n",
            "\n",
            "Epoch 00064: val_loss did not improve from 2.00813\n",
            "Epoch 65/300\n",
            "50000/50000 [==============================] - 6s 111us/step - loss: 1.4867 - accuracy: 0.5796 - val_loss: 2.0282 - val_accuracy: 0.4801\n",
            "\n",
            "Epoch 00065: val_loss did not improve from 2.00813\n",
            "Epoch 66/300\n",
            "50000/50000 [==============================] - 6s 111us/step - loss: 1.4711 - accuracy: 0.5823 - val_loss: 2.0365 - val_accuracy: 0.4793\n",
            "\n",
            "Epoch 00066: val_loss did not improve from 2.00813\n",
            "Epoch 67/300\n",
            "50000/50000 [==============================] - 6s 111us/step - loss: 1.4549 - accuracy: 0.5869 - val_loss: 2.0152 - val_accuracy: 0.4832\n",
            "\n",
            "Epoch 00067: val_loss did not improve from 2.00813\n",
            "Epoch 68/300\n",
            "50000/50000 [==============================] - 6s 110us/step - loss: 1.4428 - accuracy: 0.5879 - val_loss: 2.0163 - val_accuracy: 0.4841\n",
            "\n",
            "Epoch 00068: val_loss did not improve from 2.00813\n",
            "Epoch 69/300\n",
            "50000/50000 [==============================] - 5s 109us/step - loss: 1.4280 - accuracy: 0.5913 - val_loss: 2.0068 - val_accuracy: 0.4838\n",
            "\n",
            "Epoch 00069: val_loss improved from 2.00813 to 2.00681, saving model to model/cifar-100-069-2.0068.hdf5\n",
            "Epoch 70/300\n",
            "50000/50000 [==============================] - 5s 109us/step - loss: 1.4100 - accuracy: 0.5941 - val_loss: 2.0096 - val_accuracy: 0.4888\n",
            "\n",
            "Epoch 00070: val_loss did not improve from 2.00681\n",
            "Epoch 71/300\n",
            "50000/50000 [==============================] - 5s 108us/step - loss: 1.4035 - accuracy: 0.5958 - val_loss: 2.0254 - val_accuracy: 0.4853\n",
            "\n",
            "Epoch 00071: val_loss did not improve from 2.00681\n",
            "Epoch 72/300\n",
            "50000/50000 [==============================] - 5s 109us/step - loss: 1.3932 - accuracy: 0.6010 - val_loss: 2.0143 - val_accuracy: 0.4852\n",
            "\n",
            "Epoch 00072: val_loss did not improve from 2.00681\n",
            "Epoch 73/300\n",
            "50000/50000 [==============================] - 5s 108us/step - loss: 1.3731 - accuracy: 0.6048 - val_loss: 2.0076 - val_accuracy: 0.4886\n",
            "\n",
            "Epoch 00073: val_loss did not improve from 2.00681\n",
            "Epoch 74/300\n",
            "50000/50000 [==============================] - 5s 108us/step - loss: 1.3664 - accuracy: 0.6041 - val_loss: 2.0040 - val_accuracy: 0.4869\n",
            "\n",
            "Epoch 00074: val_loss improved from 2.00681 to 2.00400, saving model to model/cifar-100-074-2.0040.hdf5\n",
            "Epoch 75/300\n",
            "50000/50000 [==============================] - 5s 108us/step - loss: 1.3518 - accuracy: 0.6071 - val_loss: 2.0164 - val_accuracy: 0.4863\n",
            "\n",
            "Epoch 00075: val_loss did not improve from 2.00400\n",
            "Epoch 76/300\n",
            "50000/50000 [==============================] - 5s 107us/step - loss: 1.3402 - accuracy: 0.6131 - val_loss: 2.0093 - val_accuracy: 0.4879\n",
            "\n",
            "Epoch 00076: val_loss did not improve from 2.00400\n",
            "Epoch 77/300\n",
            "50000/50000 [==============================] - 5s 107us/step - loss: 1.3373 - accuracy: 0.6127 - val_loss: 2.0085 - val_accuracy: 0.4875\n",
            "\n",
            "Epoch 00077: val_loss did not improve from 2.00400\n",
            "Epoch 78/300\n",
            "50000/50000 [==============================] - 5s 107us/step - loss: 1.3212 - accuracy: 0.6176 - val_loss: 2.0101 - val_accuracy: 0.4851\n",
            "\n",
            "Epoch 00078: val_loss did not improve from 2.00400\n",
            "Epoch 79/300\n",
            "50000/50000 [==============================] - 5s 108us/step - loss: 1.3002 - accuracy: 0.6217 - val_loss: 2.0091 - val_accuracy: 0.4871\n",
            "\n",
            "Epoch 00079: val_loss did not improve from 2.00400\n",
            "Epoch 80/300\n",
            "50000/50000 [==============================] - 5s 109us/step - loss: 1.2884 - accuracy: 0.6260 - val_loss: 2.0183 - val_accuracy: 0.4854\n",
            "\n",
            "Epoch 00080: val_loss did not improve from 2.00400\n",
            "Epoch 81/300\n",
            "50000/50000 [==============================] - 6s 111us/step - loss: 1.2843 - accuracy: 0.6273 - val_loss: 2.0119 - val_accuracy: 0.4869\n",
            "\n",
            "Epoch 00081: val_loss did not improve from 2.00400\n",
            "Epoch 82/300\n",
            "50000/50000 [==============================] - 5s 107us/step - loss: 1.2715 - accuracy: 0.6290 - val_loss: 2.0191 - val_accuracy: 0.4880\n",
            "\n",
            "Epoch 00082: val_loss did not improve from 2.00400\n",
            "Epoch 83/300\n",
            "50000/50000 [==============================] - 5s 107us/step - loss: 1.2597 - accuracy: 0.6312 - val_loss: 2.0297 - val_accuracy: 0.4844\n",
            "\n",
            "Epoch 00083: val_loss did not improve from 2.00400\n",
            "Epoch 84/300\n",
            "50000/50000 [==============================] - 5s 107us/step - loss: 1.2436 - accuracy: 0.6344 - val_loss: 2.0146 - val_accuracy: 0.4884\n",
            "\n",
            "Epoch 00084: val_loss did not improve from 2.00400\n",
            "Epoch 85/300\n",
            "50000/50000 [==============================] - 6s 113us/step - loss: 1.2374 - accuracy: 0.6400 - val_loss: 2.0138 - val_accuracy: 0.4901\n",
            "\n",
            "Epoch 00085: val_loss did not improve from 2.00400\n",
            "Epoch 86/300\n",
            "50000/50000 [==============================] - 6s 111us/step - loss: 1.2317 - accuracy: 0.6361 - val_loss: 2.0258 - val_accuracy: 0.4879\n",
            "\n",
            "Epoch 00086: val_loss did not improve from 2.00400\n",
            "Epoch 87/300\n",
            "50000/50000 [==============================] - 5s 107us/step - loss: 1.2186 - accuracy: 0.6429 - val_loss: 2.0293 - val_accuracy: 0.4867\n",
            "\n",
            "Epoch 00087: val_loss did not improve from 2.00400\n",
            "Epoch 88/300\n",
            "50000/50000 [==============================] - 5s 107us/step - loss: 1.2148 - accuracy: 0.6438 - val_loss: 2.0253 - val_accuracy: 0.4895\n",
            "\n",
            "Epoch 00088: val_loss did not improve from 2.00400\n",
            "Epoch 89/300\n",
            "50000/50000 [==============================] - 5s 107us/step - loss: 1.2051 - accuracy: 0.6452 - val_loss: 2.0084 - val_accuracy: 0.4915\n",
            "\n",
            "Epoch 00089: val_loss did not improve from 2.00400\n",
            "Epoch 90/300\n",
            "50000/50000 [==============================] - 5s 108us/step - loss: 1.1950 - accuracy: 0.6458 - val_loss: 2.0343 - val_accuracy: 0.4898\n",
            "\n",
            "Epoch 00090: val_loss did not improve from 2.00400\n",
            "Epoch 91/300\n",
            "50000/50000 [==============================] - 5s 108us/step - loss: 1.1864 - accuracy: 0.6514 - val_loss: 2.0285 - val_accuracy: 0.4871\n",
            "\n",
            "Epoch 00091: val_loss did not improve from 2.00400\n",
            "Epoch 92/300\n",
            "50000/50000 [==============================] - 5s 107us/step - loss: 1.1698 - accuracy: 0.6540 - val_loss: 2.0284 - val_accuracy: 0.4913\n",
            "\n",
            "Epoch 00092: val_loss did not improve from 2.00400\n",
            "Epoch 93/300\n",
            "50000/50000 [==============================] - 5s 107us/step - loss: 1.1682 - accuracy: 0.6537 - val_loss: 2.0277 - val_accuracy: 0.4892\n",
            "\n",
            "Epoch 00093: val_loss did not improve from 2.00400\n",
            "Epoch 94/300\n",
            "50000/50000 [==============================] - 5s 108us/step - loss: 1.1572 - accuracy: 0.6544 - val_loss: 2.0426 - val_accuracy: 0.4900\n",
            "\n",
            "Epoch 00094: val_loss did not improve from 2.00400\n"
          ],
          "name": "stdout"
        }
      ]
    },
    {
      "cell_type": "code",
      "metadata": {
        "id": "0NKLD4C23K6M",
        "colab_type": "code",
        "colab": {
          "base_uri": "https://localhost:8080/",
          "height": 74
        },
        "outputId": "e8b38043-f959-4e69-b5cc-23a361a01ed0"
      },
      "source": [
        "from keras.models import load_model\n",
        "del model\n",
        "model = load_model('model/cifar-100-074-2.0040.hdf5')"
      ],
      "execution_count": 17,
      "outputs": [
        {
          "output_type": "stream",
          "text": [
            "/usr/local/lib/python3.6/dist-packages/keras/engine/saving.py:341: UserWarning: No training configuration found in save file: the model was *not* compiled. Compile it manually.\n",
            "  warnings.warn('No training configuration found in save file: '\n"
          ],
          "name": "stderr"
        }
      ]
    },
    {
      "cell_type": "code",
      "metadata": {
        "id": "h439BXUU33Vq",
        "colab_type": "code",
        "colab": {}
      },
      "source": [
        "model.compile(loss='categorical_crossentropy', \n",
        "              optimizer=opt, metrics=['accuracy'])"
      ],
      "execution_count": 19,
      "outputs": []
    },
    {
      "cell_type": "code",
      "metadata": {
        "id": "I0DBjlw2rp2l",
        "colab_type": "code",
        "colab": {
          "base_uri": "https://localhost:8080/",
          "height": 72
        },
        "outputId": "e17845dc-f493-4ecd-a730-a6c1259d06a0"
      },
      "source": [
        "# 테스트 정확도 출력 \n",
        "print(\"\\n Test Accuracy: %.4f\" % (model.evaluate(X_test, Y_test)[1]))"
      ],
      "execution_count": 20,
      "outputs": [
        {
          "output_type": "stream",
          "text": [
            "10000/10000 [==============================] - 1s 88us/step\n",
            "\n",
            " Test Accuracy: 0.4869\n"
          ],
          "name": "stdout"
        }
      ]
    },
    {
      "cell_type": "markdown",
      "metadata": {
        "id": "qyLArUQduwwv",
        "colab_type": "text"
      },
      "source": [
        "### 결과 그래프로 확인하기"
      ]
    },
    {
      "cell_type": "code",
      "metadata": {
        "id": "HIehlKRcudn-",
        "colab_type": "code",
        "colab": {}
      },
      "source": [
        "# 테스트셋\n",
        "y_vloss = history.history['val_loss']\n",
        "y_vacc = history.history['val_accuracy']\n",
        "# 학습셋\n",
        "y_loss = history.history['loss']\n",
        "y_acc = history.history['accuracy']"
      ],
      "execution_count": 21,
      "outputs": []
    },
    {
      "cell_type": "code",
      "metadata": {
        "id": "Bpg0Itp7u0QL",
        "colab_type": "code",
        "colab": {
          "base_uri": "https://localhost:8080/",
          "height": 500
        },
        "outputId": "cd5794d8-58d9-4df9-8130-cd906c4ab434"
      },
      "source": [
        "# 그래프로 표현\n",
        "x_len = np.arange(1, len(y_loss)+1)\n",
        "fig, ax0 = plt.subplots(figsize=(10,8))\n",
        "ax1 = ax0.twinx()\n",
        "ax0.plot(x_len, y_loss, c=\"blue\", label='Trainset_loss')\n",
        "ax0.plot(x_len, y_vloss, c=\"red\", label='Testset_loss')\n",
        "ax0.set_ylabel('loss')\n",
        "ax1.plot(x_len, y_acc, c=\"darkgreen\", label='Trainset_acc')\n",
        "ax1.plot(x_len, y_vacc, c=\"magenta\", label='Testset_acc')\n",
        "ax1.set_ylabel('accuracy')\n",
        "ax0.set_xlabel('epoch')\n",
        "ax0.legend(loc='upper center')\n",
        "ax1.legend(loc='lower center')\n",
        "plt.show()"
      ],
      "execution_count": 22,
      "outputs": [
        {
          "output_type": "display_data",
          "data": {
            "image/png": "[encoded data removed]",
            "text/plain": [
              "<Figure size 720x576 with 2 Axes>"
            ]
          },
          "metadata": {
            "tags": [],
            "needs_background": "light"
          }
        }
      ]
    },
    {
      "cell_type": "code",
      "metadata": {
        "id": "ifWMtZgIu-pM",
        "colab_type": "code",
        "colab": {
          "base_uri": "https://localhost:8080/",
          "height": 1000
        },
        "outputId": "e428dcb8-ee37-47d8-db7c-7bc38003b968"
      },
      "source": [
        "!ls -l model"
      ],
      "execution_count": 23,
      "outputs": [
        {
          "output_type": "stream",
          "text": [
            "total 258720\n",
            "-rw-r--r-- 1 root root 4813232 Jul  7 05:46 cifar-100-001-3.9557.hdf5\n",
            "-rw-r--r-- 1 root root 4813232 Jul  7 05:46 cifar-100-002-3.6009.hdf5\n",
            "-rw-r--r-- 1 root root 4813232 Jul  7 05:46 cifar-100-003-3.4043.hdf5\n",
            "-rw-r--r-- 1 root root 4813232 Jul  7 05:46 cifar-100-004-3.2510.hdf5\n",
            "-rw-r--r-- 1 root root 4813232 Jul  7 05:46 cifar-100-005-3.1369.hdf5\n",
            "-rw-r--r-- 1 root root 4813232 Jul  7 05:46 cifar-100-006-3.0461.hdf5\n",
            "-rw-r--r-- 1 root root 4813232 Jul  7 05:46 cifar-100-007-2.9509.hdf5\n",
            "-rw-r--r-- 1 root root 4813232 Jul  7 05:47 cifar-100-008-2.8880.hdf5\n",
            "-rw-r--r-- 1 root root 4813232 Jul  7 05:47 cifar-100-009-2.8382.hdf5\n",
            "-rw-r--r-- 1 root root 4813232 Jul  7 05:47 cifar-100-010-2.7895.hdf5\n",
            "-rw-r--r-- 1 root root 4813232 Jul  7 05:47 cifar-100-011-2.7178.hdf5\n",
            "-rw-r--r-- 1 root root 4813232 Jul  7 05:47 cifar-100-012-2.6658.hdf5\n",
            "-rw-r--r-- 1 root root 4813232 Jul  7 05:47 cifar-100-013-2.6230.hdf5\n",
            "-rw-r--r-- 1 root root 4813232 Jul  7 05:47 cifar-100-014-2.5789.hdf5\n",
            "-rw-r--r-- 1 root root 4813232 Jul  7 05:47 cifar-100-015-2.5628.hdf5\n",
            "-rw-r--r-- 1 root root 4813232 Jul  7 05:47 cifar-100-016-2.5184.hdf5\n",
            "-rw-r--r-- 1 root root 4813232 Jul  7 05:47 cifar-100-017-2.4969.hdf5\n",
            "-rw-r--r-- 1 root root 4813232 Jul  7 05:47 cifar-100-018-2.4643.hdf5\n",
            "-rw-r--r-- 1 root root 4813232 Jul  7 05:48 cifar-100-019-2.4299.hdf5\n",
            "-rw-r--r-- 1 root root 4813232 Jul  7 05:48 cifar-100-020-2.3968.hdf5\n",
            "-rw-r--r-- 1 root root 4813232 Jul  7 05:48 cifar-100-021-2.3765.hdf5\n",
            "-rw-r--r-- 1 root root 4813232 Jul  7 05:48 cifar-100-022-2.3540.hdf5\n",
            "-rw-r--r-- 1 root root 4813232 Jul  7 05:48 cifar-100-023-2.3362.hdf5\n",
            "-rw-r--r-- 1 root root 4813232 Jul  7 05:48 cifar-100-024-2.3128.hdf5\n",
            "-rw-r--r-- 1 root root 4813232 Jul  7 05:48 cifar-100-025-2.2935.hdf5\n",
            "-rw-r--r-- 1 root root 4813232 Jul  7 05:48 cifar-100-026-2.2784.hdf5\n",
            "-rw-r--r-- 1 root root 4813232 Jul  7 05:48 cifar-100-027-2.2601.hdf5\n",
            "-rw-r--r-- 1 root root 4813232 Jul  7 05:48 cifar-100-028-2.2451.hdf5\n",
            "-rw-r--r-- 1 root root 4813232 Jul  7 05:48 cifar-100-029-2.2321.hdf5\n",
            "-rw-r--r-- 1 root root 4813232 Jul  7 05:48 cifar-100-030-2.2114.hdf5\n",
            "-rw-r--r-- 1 root root 4813232 Jul  7 05:49 cifar-100-031-2.2069.hdf5\n",
            "-rw-r--r-- 1 root root 4813232 Jul  7 05:49 cifar-100-032-2.1886.hdf5\n",
            "-rw-r--r-- 1 root root 4813232 Jul  7 05:49 cifar-100-033-2.1834.hdf5\n",
            "-rw-r--r-- 1 root root 4813232 Jul  7 05:49 cifar-100-034-2.1646.hdf5\n",
            "-rw-r--r-- 1 root root 4813232 Jul  7 05:49 cifar-100-036-2.1599.hdf5\n",
            "-rw-r--r-- 1 root root 4813232 Jul  7 05:49 cifar-100-037-2.1371.hdf5\n",
            "-rw-r--r-- 1 root root 4813232 Jul  7 05:49 cifar-100-038-2.1207.hdf5\n",
            "-rw-r--r-- 1 root root 4813232 Jul  7 05:49 cifar-100-040-2.1011.hdf5\n",
            "-rw-r--r-- 1 root root 4813232 Jul  7 05:50 cifar-100-042-2.0960.hdf5\n",
            "-rw-r--r-- 1 root root 4813232 Jul  7 05:50 cifar-100-043-2.0954.hdf5\n",
            "-rw-r--r-- 1 root root 4813232 Jul  7 05:50 cifar-100-044-2.0875.hdf5\n",
            "-rw-r--r-- 1 root root 4813232 Jul  7 05:50 cifar-100-045-2.0721.hdf5\n",
            "-rw-r--r-- 1 root root 4813232 Jul  7 05:50 cifar-100-046-2.0606.hdf5\n",
            "-rw-r--r-- 1 root root 4813232 Jul  7 05:50 cifar-100-048-2.0570.hdf5\n",
            "-rw-r--r-- 1 root root 4813232 Jul  7 05:50 cifar-100-049-2.0524.hdf5\n",
            "-rw-r--r-- 1 root root 4813232 Jul  7 05:50 cifar-100-050-2.0475.hdf5\n",
            "-rw-r--r-- 1 root root 4813232 Jul  7 05:50 cifar-100-052-2.0413.hdf5\n",
            "-rw-r--r-- 1 root root 4813232 Jul  7 05:51 cifar-100-053-2.0351.hdf5\n",
            "-rw-r--r-- 1 root root 4813232 Jul  7 05:51 cifar-100-054-2.0310.hdf5\n",
            "-rw-r--r-- 1 root root 4813232 Jul  7 05:51 cifar-100-056-2.0285.hdf5\n",
            "-rw-r--r-- 1 root root 4813232 Jul  7 05:51 cifar-100-057-2.0226.hdf5\n",
            "-rw-r--r-- 1 root root 4813232 Jul  7 05:51 cifar-100-058-2.0099.hdf5\n",
            "-rw-r--r-- 1 root root 4813232 Jul  7 05:51 cifar-100-062-2.0081.hdf5\n",
            "-rw-r--r-- 1 root root 4813232 Jul  7 05:52 cifar-100-069-2.0068.hdf5\n",
            "-rw-r--r-- 1 root root 4813232 Jul  7 05:52 cifar-100-074-2.0040.hdf5\n"
          ],
          "name": "stdout"
        }
      ]
    },
    {
      "cell_type": "code",
      "metadata": {
        "id": "jyubjvQx6keX",
        "colab_type": "code",
        "colab": {}
      },
      "source": [
        ""
      ],
      "execution_count": null,
      "outputs": []
    }
  ]
}