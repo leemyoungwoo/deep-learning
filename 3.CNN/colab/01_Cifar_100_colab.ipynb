{
  "nbformat": 4,
  "nbformat_minor": 0,
  "metadata": {
    "colab": {
      "name": "01.Cifar-100_colab.ipynb",
      "provenance": [],
      "authorship_tag": "ABX9TyNUUuG5kWjKGHSSCViqqsPP",
      "include_colab_link": true
    },
    "kernelspec": {
      "name": "python3",
      "display_name": "Python 3"
    },
    "accelerator": "GPU"
  },
  "cells": [
    {
      "cell_type": "markdown",
      "metadata": {
        "id": "view-in-github",
        "colab_type": "text"
      },
      "source": [
        "<a href=\"https://colab.research.google.com/github/ckiekim/Deep-Learning-with-Colab/blob/master/01_Cifar_100_colab.ipynb\" target=\"_parent\"><img src=\"https://colab.research.google.com/assets/colab-badge.svg\" alt=\"Open In Colab\"/></a>"
      ]
    },
    {
      "cell_type": "markdown",
      "metadata": {
        "id": "8QFoLr12po6C",
        "colab_type": "text"
      },
      "source": [
        "# Cifar-100"
      ]
    },
    {
      "cell_type": "code",
      "metadata": {
        "id": "RVaO08XqpkcN",
        "colab_type": "code",
        "colab": {
          "base_uri": "https://localhost:8080/",
          "height": 35
        },
        "outputId": "96517100-3d47-481b-9dea-b2411bc2459c"
      },
      "source": [
        "%tensorflow_version 2.x\n",
        "import tensorflow as tf\n",
        "device_name = tf.test.gpu_device_name()\n",
        "if device_name != '/device:GPU:0':\n",
        "    raise SystemError('GPU device not found')\n",
        "print('Found GPU at: {}'.format(device_name))"
      ],
      "execution_count": null,
      "outputs": [
        {
          "output_type": "stream",
          "text": [
            "Found GPU at: /device:GPU:0\n"
          ],
          "name": "stdout"
        }
      ]
    },
    {
      "cell_type": "code",
      "metadata": {
        "id": "bVfcCL9ep03s",
        "colab_type": "code",
        "colab": {
          "base_uri": "https://localhost:8080/",
          "height": 72
        },
        "outputId": "469b144f-4bf4-4eff-fa12-4d9c3fc931b8"
      },
      "source": [
        "from tensorflow import keras\n",
        "from keras.datasets import cifar100\n",
        "(X_train, y_train), (X_test, y_test) = \\\n",
        "        cifar100.load_data(label_mode='fine')"
      ],
      "execution_count": null,
      "outputs": [
        {
          "output_type": "stream",
          "text": [
            "Downloading data from https://www.cs.toronto.edu/~kriz/cifar-100-python.tar.gz\n",
            "\r     8192/169001437 [..............................] - ETA: 6:52"
          ],
          "name": "stdout"
        },
        {
          "output_type": "stream",
          "text": [
            "Using TensorFlow backend.\n"
          ],
          "name": "stderr"
        },
        {
          "output_type": "stream",
          "text": [
            "169009152/169001437 [==============================] - 2s 0us/step\n"
          ],
          "name": "stdout"
        }
      ]
    },
    {
      "cell_type": "code",
      "metadata": {
        "id": "6dIdrS6vqIEV",
        "colab_type": "code",
        "colab": {
          "base_uri": "https://localhost:8080/",
          "height": 35
        },
        "outputId": "8050431a-4a66-4f0c-d30e-2d29f1f727dd"
      },
      "source": [
        "X_train.shape, X_test.shape"
      ],
      "execution_count": null,
      "outputs": [
        {
          "output_type": "execute_result",
          "data": {
            "text/plain": [
              "((50000, 32, 32, 3), (10000, 32, 32, 3))"
            ]
          },
          "metadata": {
            "tags": []
          },
          "execution_count": 3
        }
      ]
    },
    {
      "cell_type": "markdown",
      "metadata": {
        "id": "NNWGy0DzqXHv",
        "colab_type": "text"
      },
      "source": [
        "### 데이터 확인"
      ]
    },
    {
      "cell_type": "code",
      "metadata": {
        "id": "O0YLT4GMqP2V",
        "colab_type": "code",
        "colab": {}
      },
      "source": [
        "CIFAR100_LABELS = [\n",
        "    'apple', 'aquarium_fish', 'baby', 'bear', 'beaver', 'bed', 'bee', 'beetle', \n",
        "    'bicycle', 'bottle', 'bowl', 'boy', 'bridge', 'bus', 'butterfly', 'camel', \n",
        "    'can', 'castle', 'caterpillar', 'cattle', 'chair', 'chimpanzee', 'clock', \n",
        "    'cloud', 'cockroach', 'couch', 'crab', 'crocodile', 'cup', 'dinosaur', \n",
        "    'dolphin', 'elephant', 'flatfish', 'forest', 'fox', 'girl', 'hamster', \n",
        "    'house', 'kangaroo', 'keyboard', 'lamp', 'lawn_mower', 'leopard', 'lion',\n",
        "    'lizard', 'lobster', 'man', 'maple_tree', 'motorcycle', 'mountain', 'mouse',\n",
        "    'mushroom', 'oak_tree', 'orange', 'orchid', 'otter', 'palm_tree', 'pear',\n",
        "    'pickup_truck', 'pine_tree', 'plain', 'plate', 'poppy', 'porcupine',\n",
        "    'possum', 'rabbit', 'raccoon', 'ray', 'road', 'rocket', 'rose',\n",
        "    'sea', 'seal', 'shark', 'shrew', 'skunk', 'skyscraper', 'snail', 'snake',\n",
        "    'spider', 'squirrel', 'streetcar', 'sunflower', 'sweet_pepper', 'table',\n",
        "    'tank', 'telephone', 'television', 'tiger', 'tractor', 'train', 'trout',\n",
        "    'tulip', 'turtle', 'wardrobe', 'whale', 'willow_tree', 'wolf', 'woman',\n",
        "    'worm'\n",
        "]"
      ],
      "execution_count": null,
      "outputs": []
    },
    {
      "cell_type": "code",
      "metadata": {
        "id": "bTiwANlDqfz9",
        "colab_type": "code",
        "colab": {
          "base_uri": "https://localhost:8080/",
          "height": 124
        },
        "outputId": "91f3550c-e3a0-4ed2-b44e-e85c47deb6bd"
      },
      "source": [
        "import matplotlib.pyplot as plt\n",
        "%matplotlib inline\n",
        "\n",
        "plt.subplot(141)\n",
        "plt.imshow(X_train[0], interpolation=\"bicubic\")\n",
        "plt.grid(False)\n",
        "plt.subplot(142)\n",
        "plt.imshow(X_train[4], interpolation=\"bicubic\")\n",
        "plt.grid(False)\n",
        "plt.subplot(143)\n",
        "plt.imshow(X_train[8], interpolation=\"bicubic\")\n",
        "plt.grid(False)\n",
        "plt.subplot(144)\n",
        "plt.imshow(X_train[12], interpolation=\"bicubic\")\n",
        "plt.grid(False)\n",
        "plt.show()"
      ],
      "execution_count": null,
      "outputs": [
        {
          "output_type": "display_data",
          "data": {
            "image/png": "[encoded data removed]",
            "text/plain": [
              "<Figure size 432x288 with 4 Axes>"
            ]
          },
          "metadata": {
            "tags": [],
            "needs_background": "light"
          }
        }
      ]
    },
    {
      "cell_type": "code",
      "metadata": {
        "id": "ZFIdZTSkqqMm",
        "colab_type": "code",
        "colab": {
          "base_uri": "https://localhost:8080/",
          "height": 35
        },
        "outputId": "f321c3b9-2f7d-44b2-f311-f6bfbe01fa71"
      },
      "source": [
        "CIFAR100_LABELS[y_train[0][0]], CIFAR100_LABELS[y_train[4][0]], \\\n",
        "    CIFAR100_LABELS[y_train[8][0]], CIFAR100_LABELS[y_train[12][0]]"
      ],
      "execution_count": null,
      "outputs": [
        {
          "output_type": "execute_result",
          "data": {
            "text/plain": [
              "('cattle', 'aquarium_fish', 'cloud', 'sunflower')"
            ]
          },
          "metadata": {
            "tags": []
          },
          "execution_count": 6
        }
      ]
    },
    {
      "cell_type": "markdown",
      "metadata": {
        "id": "r_SzDHRcq2PX",
        "colab_type": "text"
      },
      "source": [
        "### 자료형 변환 및 스케일링\n",
        "- X: 실수형으로 정규화\n",
        "- Y: 1-hot encoding"
      ]
    },
    {
      "cell_type": "code",
      "metadata": {
        "id": "uZjFC71jqv21",
        "colab_type": "code",
        "colab": {
          "base_uri": "https://localhost:8080/",
          "height": 35
        },
        "outputId": "fd3a374f-81b8-430b-b60e-457949f7ebb1"
      },
      "source": [
        "X_train = X_train.astype('float32')/255.0\n",
        "X_test = X_test.astype('float32')/255.0\n",
        "\n",
        "print(X_train.shape, X_train.dtype)"
      ],
      "execution_count": null,
      "outputs": [
        {
          "output_type": "stream",
          "text": [
            "(50000, 32, 32, 3) float32\n"
          ],
          "name": "stdout"
        }
      ]
    },
    {
      "cell_type": "code",
      "metadata": {
        "id": "kfNui-vUrA3l",
        "colab_type": "code",
        "colab": {
          "base_uri": "https://localhost:8080/",
          "height": 274
        },
        "outputId": "6d2b9116-e68b-4026-9c62-ecbc7e993743"
      },
      "source": [
        "Y_train = keras.utils.to_categorical(y_train, 100)\n",
        "Y_test = keras.utils.to_categorical(y_test, 100)\n",
        "Y_train[:2]"
      ],
      "execution_count": null,
      "outputs": [
        {
          "output_type": "execute_result",
          "data": {
            "text/plain": [
              "array([[0., 0., 0., 0., 0., 0., 0., 0., 0., 0., 0., 0., 0., 0., 0., 0.,\n",
              "        0., 0., 0., 1., 0., 0., 0., 0., 0., 0., 0., 0., 0., 0., 0., 0.,\n",
              "        0., 0., 0., 0., 0., 0., 0., 0., 0., 0., 0., 0., 0., 0., 0., 0.,\n",
              "        0., 0., 0., 0., 0., 0., 0., 0., 0., 0., 0., 0., 0., 0., 0., 0.,\n",
              "        0., 0., 0., 0., 0., 0., 0., 0., 0., 0., 0., 0., 0., 0., 0., 0.,\n",
              "        0., 0., 0., 0., 0., 0., 0., 0., 0., 0., 0., 0., 0., 0., 0., 0.,\n",
              "        0., 0., 0., 0.],\n",
              "       [0., 0., 0., 0., 0., 0., 0., 0., 0., 0., 0., 0., 0., 0., 0., 0.,\n",
              "        0., 0., 0., 0., 0., 0., 0., 0., 0., 0., 0., 0., 0., 1., 0., 0.,\n",
              "        0., 0., 0., 0., 0., 0., 0., 0., 0., 0., 0., 0., 0., 0., 0., 0.,\n",
              "        0., 0., 0., 0., 0., 0., 0., 0., 0., 0., 0., 0., 0., 0., 0., 0.,\n",
              "        0., 0., 0., 0., 0., 0., 0., 0., 0., 0., 0., 0., 0., 0., 0., 0.,\n",
              "        0., 0., 0., 0., 0., 0., 0., 0., 0., 0., 0., 0., 0., 0., 0., 0.,\n",
              "        0., 0., 0., 0.]], dtype=float32)"
            ]
          },
          "metadata": {
            "tags": []
          },
          "execution_count": 8
        }
      ]
    },
    {
      "cell_type": "markdown",
      "metadata": {
        "id": "0wd91E4WrPcW",
        "colab_type": "text"
      },
      "source": [
        "### 모형 구현"
      ]
    },
    {
      "cell_type": "code",
      "metadata": {
        "id": "Q-rvpDqWrHS1",
        "colab_type": "code",
        "colab": {}
      },
      "source": [
        "from keras.models import Sequential\n",
        "from keras.layers import Conv2D, MaxPooling2D, Flatten, Dense, Dropout\n",
        "from keras.layers import Activation"
      ],
      "execution_count": null,
      "outputs": []
    },
    {
      "cell_type": "code",
      "metadata": {
        "id": "ZT9BtaQrrXhl",
        "colab_type": "code",
        "colab": {
          "base_uri": "https://localhost:8080/",
          "height": 863
        },
        "outputId": "ddc08a62-9ef3-4df4-8fa9-73d1a4c954f0"
      },
      "source": [
        "model = Sequential()\n",
        "\n",
        "# Input Layer\n",
        "model.add(Conv2D(32, (3,3), padding='same', input_shape = X_train.shape[1:]))\n",
        "model.add(Activation('relu'))\n",
        "# MAXPOOL Layer 1\n",
        "model.add(MaxPooling2D(pool_size=(2, 2)))\n",
        "model.add(Activation('relu'))\n",
        "# CONV2D Layer 2\n",
        "model.add(Conv2D(64, (3,3), padding='same'))\n",
        "model.add(Activation('relu'))\n",
        "# MAXPOOL Layer 2\n",
        "model.add(MaxPooling2D(pool_size=(2, 2)))\n",
        "model.add(Activation('relu'))\n",
        "# Add a dropout of 10%\n",
        "model.add(Dropout(0.1))\n",
        "# CONV2D Layer 3\n",
        "model.add(Conv2D(128, (3,3), padding='same'))\n",
        "model.add(Activation('relu'))\n",
        "# MAXPOOL Layer 3\n",
        "model.add(MaxPooling2D(pool_size=(2,2)))\n",
        "# Add dropout of 25%\n",
        "model.add(Dropout(0.25))\n",
        "# flatten \n",
        "model.add(Flatten())\n",
        "# Fully Connected Layer 1\n",
        "model.add(Dense(512))\n",
        "model.add(Activation('relu'))\n",
        "# Adding a dropout of 50%\n",
        "model.add(Dropout(0.5))\n",
        "# Output Layer (Fully Connected Layer 2) \n",
        "model.add(Dense(100))\n",
        "model.add(Activation('softmax'))\n",
        "          \n",
        "model.summary()"
      ],
      "execution_count": null,
      "outputs": [
        {
          "output_type": "stream",
          "text": [
            "Model: \"sequential_1\"\n",
            "_________________________________________________________________\n",
            "Layer (type)                 Output Shape              Param #   \n",
            "=================================================================\n",
            "conv2d_1 (Conv2D)            (None, 32, 32, 32)        896       \n",
            "_________________________________________________________________\n",
            "activation_1 (Activation)    (None, 32, 32, 32)        0         \n",
            "_________________________________________________________________\n",
            "max_pooling2d_1 (MaxPooling2 (None, 16, 16, 32)        0         \n",
            "_________________________________________________________________\n",
            "activation_2 (Activation)    (None, 16, 16, 32)        0         \n",
            "_________________________________________________________________\n",
            "conv2d_2 (Conv2D)            (None, 16, 16, 64)        18496     \n",
            "_________________________________________________________________\n",
            "activation_3 (Activation)    (None, 16, 16, 64)        0         \n",
            "_________________________________________________________________\n",
            "max_pooling2d_2 (MaxPooling2 (None, 8, 8, 64)          0         \n",
            "_________________________________________________________________\n",
            "activation_4 (Activation)    (None, 8, 8, 64)          0         \n",
            "_________________________________________________________________\n",
            "dropout_1 (Dropout)          (None, 8, 8, 64)          0         \n",
            "_________________________________________________________________\n",
            "conv2d_3 (Conv2D)            (None, 8, 8, 128)         73856     \n",
            "_________________________________________________________________\n",
            "activation_5 (Activation)    (None, 8, 8, 128)         0         \n",
            "_________________________________________________________________\n",
            "max_pooling2d_3 (MaxPooling2 (None, 4, 4, 128)         0         \n",
            "_________________________________________________________________\n",
            "dropout_2 (Dropout)          (None, 4, 4, 128)         0         \n",
            "_________________________________________________________________\n",
            "flatten_1 (Flatten)          (None, 2048)              0         \n",
            "_________________________________________________________________\n",
            "dense_1 (Dense)              (None, 512)               1049088   \n",
            "_________________________________________________________________\n",
            "activation_6 (Activation)    (None, 512)               0         \n",
            "_________________________________________________________________\n",
            "dropout_3 (Dropout)          (None, 512)               0         \n",
            "_________________________________________________________________\n",
            "dense_2 (Dense)              (None, 100)               51300     \n",
            "_________________________________________________________________\n",
            "activation_7 (Activation)    (None, 100)               0         \n",
            "=================================================================\n",
            "Total params: 1,193,636\n",
            "Trainable params: 1,193,636\n",
            "Non-trainable params: 0\n",
            "_________________________________________________________________\n"
          ],
          "name": "stdout"
        }
      ]
    },
    {
      "cell_type": "code",
      "metadata": {
        "id": "zabwfeHnrfSk",
        "colab_type": "code",
        "colab": {}
      },
      "source": [
        "opt = keras.optimizers.Adam(lr=0.0001)\n",
        "model.compile(loss='categorical_crossentropy', \n",
        "              optimizer=opt, metrics=['accuracy'])"
      ],
      "execution_count": null,
      "outputs": []
    },
    {
      "cell_type": "code",
      "metadata": {
        "id": "bDODnydkrlCk",
        "colab_type": "code",
        "colab": {
          "base_uri": "https://localhost:8080/",
          "height": 1000
        },
        "outputId": "e90d32f4-fbc1-46b4-9f2f-9a1f1bd504a8"
      },
      "source": [
        "history = model.fit(X_train, Y_train, epochs=100, batch_size=50,\n",
        "                    validation_data=(X_test, Y_test), verbose=1)"
      ],
      "execution_count": null,
      "outputs": [
        {
          "output_type": "stream",
          "text": [
            "Train on 50000 samples, validate on 10000 samples\n",
            "Epoch 1/100\n",
            "50000/50000 [==============================] - 13s 267us/step - loss: 4.3762 - accuracy: 0.0382 - val_loss: 4.0159 - val_accuracy: 0.1011\n",
            "Epoch 2/100\n",
            "50000/50000 [==============================] - 7s 140us/step - loss: 3.9136 - accuracy: 0.1034 - val_loss: 3.6187 - val_accuracy: 0.1627\n",
            "Epoch 3/100\n",
            "50000/50000 [==============================] - 7s 143us/step - loss: 3.6612 - accuracy: 0.1436 - val_loss: 3.4130 - val_accuracy: 0.1984\n",
            "Epoch 4/100\n",
            "50000/50000 [==============================] - 7s 143us/step - loss: 3.4862 - accuracy: 0.1715 - val_loss: 3.2525 - val_accuracy: 0.2317\n",
            "Epoch 5/100\n",
            "50000/50000 [==============================] - 7s 141us/step - loss: 3.3564 - accuracy: 0.1954 - val_loss: 3.1370 - val_accuracy: 0.2473\n",
            "Epoch 6/100\n",
            "50000/50000 [==============================] - 7s 141us/step - loss: 3.2461 - accuracy: 0.2144 - val_loss: 3.0562 - val_accuracy: 0.2708\n",
            "Epoch 7/100\n",
            "50000/50000 [==============================] - 7s 141us/step - loss: 3.1530 - accuracy: 0.2295 - val_loss: 2.9780 - val_accuracy: 0.2802\n",
            "Epoch 8/100\n",
            "50000/50000 [==============================] - 7s 141us/step - loss: 3.0677 - accuracy: 0.2463 - val_loss: 2.8795 - val_accuracy: 0.2996\n",
            "Epoch 9/100\n",
            "50000/50000 [==============================] - 7s 141us/step - loss: 2.9911 - accuracy: 0.2640 - val_loss: 2.8171 - val_accuracy: 0.3099\n",
            "Epoch 10/100\n",
            "50000/50000 [==============================] - 7s 141us/step - loss: 2.9271 - accuracy: 0.2766 - val_loss: 2.7523 - val_accuracy: 0.3199\n",
            "Epoch 11/100\n",
            "50000/50000 [==============================] - 7s 140us/step - loss: 2.8652 - accuracy: 0.2887 - val_loss: 2.6988 - val_accuracy: 0.3339\n",
            "Epoch 12/100\n",
            "50000/50000 [==============================] - 7s 141us/step - loss: 2.8116 - accuracy: 0.2987 - val_loss: 2.6566 - val_accuracy: 0.3391\n",
            "Epoch 13/100\n",
            "50000/50000 [==============================] - 7s 140us/step - loss: 2.7653 - accuracy: 0.3081 - val_loss: 2.6214 - val_accuracy: 0.3489\n",
            "Epoch 14/100\n",
            "50000/50000 [==============================] - 7s 140us/step - loss: 2.7114 - accuracy: 0.3203 - val_loss: 2.5777 - val_accuracy: 0.3611\n",
            "Epoch 15/100\n",
            "50000/50000 [==============================] - 7s 140us/step - loss: 2.6691 - accuracy: 0.3250 - val_loss: 2.5392 - val_accuracy: 0.3691\n",
            "Epoch 16/100\n",
            "50000/50000 [==============================] - 7s 139us/step - loss: 2.6266 - accuracy: 0.3354 - val_loss: 2.5399 - val_accuracy: 0.3656\n",
            "Epoch 17/100\n",
            "50000/50000 [==============================] - 7s 139us/step - loss: 2.5854 - accuracy: 0.3448 - val_loss: 2.4945 - val_accuracy: 0.3783\n",
            "Epoch 18/100\n",
            "50000/50000 [==============================] - 7s 140us/step - loss: 2.5467 - accuracy: 0.3506 - val_loss: 2.4566 - val_accuracy: 0.3846\n",
            "Epoch 19/100\n",
            "50000/50000 [==============================] - 7s 140us/step - loss: 2.5143 - accuracy: 0.3608 - val_loss: 2.4306 - val_accuracy: 0.3920\n",
            "Epoch 20/100\n",
            "50000/50000 [==============================] - 7s 139us/step - loss: 2.4735 - accuracy: 0.3672 - val_loss: 2.4158 - val_accuracy: 0.3928\n",
            "Epoch 21/100\n",
            "50000/50000 [==============================] - 7s 140us/step - loss: 2.4425 - accuracy: 0.3723 - val_loss: 2.3717 - val_accuracy: 0.3973\n",
            "Epoch 22/100\n",
            "50000/50000 [==============================] - 7s 140us/step - loss: 2.4017 - accuracy: 0.3818 - val_loss: 2.3692 - val_accuracy: 0.4030\n",
            "Epoch 23/100\n",
            "50000/50000 [==============================] - 7s 140us/step - loss: 2.3699 - accuracy: 0.3852 - val_loss: 2.3264 - val_accuracy: 0.4120\n",
            "Epoch 24/100\n",
            "50000/50000 [==============================] - 7s 139us/step - loss: 2.3422 - accuracy: 0.3935 - val_loss: 2.3003 - val_accuracy: 0.4157\n",
            "Epoch 25/100\n",
            "50000/50000 [==============================] - 7s 139us/step - loss: 2.3109 - accuracy: 0.4014 - val_loss: 2.2872 - val_accuracy: 0.4135\n",
            "Epoch 26/100\n",
            "50000/50000 [==============================] - 7s 140us/step - loss: 2.2798 - accuracy: 0.4062 - val_loss: 2.2736 - val_accuracy: 0.4194\n",
            "Epoch 27/100\n",
            "50000/50000 [==============================] - 7s 140us/step - loss: 2.2480 - accuracy: 0.4105 - val_loss: 2.2683 - val_accuracy: 0.4204\n",
            "Epoch 28/100\n",
            "50000/50000 [==============================] - 7s 139us/step - loss: 2.2246 - accuracy: 0.4199 - val_loss: 2.2294 - val_accuracy: 0.4309\n",
            "Epoch 29/100\n",
            "50000/50000 [==============================] - 7s 139us/step - loss: 2.1957 - accuracy: 0.4237 - val_loss: 2.2322 - val_accuracy: 0.4325\n",
            "Epoch 30/100\n",
            "50000/50000 [==============================] - 7s 139us/step - loss: 2.1700 - accuracy: 0.4312 - val_loss: 2.2101 - val_accuracy: 0.4331\n",
            "Epoch 31/100\n",
            "50000/50000 [==============================] - 7s 140us/step - loss: 2.1390 - accuracy: 0.4386 - val_loss: 2.2090 - val_accuracy: 0.4371\n",
            "Epoch 32/100\n",
            "50000/50000 [==============================] - 7s 139us/step - loss: 2.1196 - accuracy: 0.4400 - val_loss: 2.1836 - val_accuracy: 0.4406\n",
            "Epoch 33/100\n",
            "50000/50000 [==============================] - 7s 141us/step - loss: 2.0893 - accuracy: 0.4490 - val_loss: 2.1614 - val_accuracy: 0.4448\n",
            "Epoch 34/100\n",
            "50000/50000 [==============================] - 7s 140us/step - loss: 2.0683 - accuracy: 0.4517 - val_loss: 2.1591 - val_accuracy: 0.4450\n",
            "Epoch 35/100\n",
            "50000/50000 [==============================] - 7s 140us/step - loss: 2.0433 - accuracy: 0.4579 - val_loss: 2.1361 - val_accuracy: 0.4528\n",
            "Epoch 36/100\n",
            "50000/50000 [==============================] - 7s 139us/step - loss: 2.0228 - accuracy: 0.4614 - val_loss: 2.1401 - val_accuracy: 0.4510\n",
            "Epoch 37/100\n",
            "50000/50000 [==============================] - 7s 140us/step - loss: 1.9985 - accuracy: 0.4670 - val_loss: 2.1273 - val_accuracy: 0.4513\n",
            "Epoch 38/100\n",
            "50000/50000 [==============================] - 7s 140us/step - loss: 1.9782 - accuracy: 0.4736 - val_loss: 2.1127 - val_accuracy: 0.4563\n",
            "Epoch 39/100\n",
            "50000/50000 [==============================] - 7s 140us/step - loss: 1.9544 - accuracy: 0.4763 - val_loss: 2.0962 - val_accuracy: 0.4572\n",
            "Epoch 40/100\n",
            "50000/50000 [==============================] - 7s 147us/step - loss: 1.9370 - accuracy: 0.4815 - val_loss: 2.0951 - val_accuracy: 0.4590\n",
            "Epoch 41/100\n",
            "50000/50000 [==============================] - 7s 142us/step - loss: 1.9082 - accuracy: 0.4854 - val_loss: 2.0754 - val_accuracy: 0.4615\n",
            "Epoch 42/100\n",
            "50000/50000 [==============================] - 7s 139us/step - loss: 1.8902 - accuracy: 0.4926 - val_loss: 2.0867 - val_accuracy: 0.4599\n",
            "Epoch 43/100\n",
            "50000/50000 [==============================] - 7s 140us/step - loss: 1.8696 - accuracy: 0.4941 - val_loss: 2.0848 - val_accuracy: 0.4637\n",
            "Epoch 44/100\n",
            "50000/50000 [==============================] - 7s 140us/step - loss: 1.8464 - accuracy: 0.5017 - val_loss: 2.0635 - val_accuracy: 0.4628\n",
            "Epoch 45/100\n",
            "50000/50000 [==============================] - 7s 140us/step - loss: 1.8331 - accuracy: 0.4997 - val_loss: 2.0684 - val_accuracy: 0.4666\n",
            "Epoch 46/100\n",
            "50000/50000 [==============================] - 7s 139us/step - loss: 1.8136 - accuracy: 0.5066 - val_loss: 2.0573 - val_accuracy: 0.4683\n",
            "Epoch 47/100\n",
            "50000/50000 [==============================] - 7s 143us/step - loss: 1.7980 - accuracy: 0.5068 - val_loss: 2.0369 - val_accuracy: 0.4721\n",
            "Epoch 48/100\n",
            "50000/50000 [==============================] - 7s 140us/step - loss: 1.7732 - accuracy: 0.5127 - val_loss: 2.0447 - val_accuracy: 0.4712\n",
            "Epoch 49/100\n",
            "50000/50000 [==============================] - 7s 140us/step - loss: 1.7594 - accuracy: 0.5197 - val_loss: 2.0372 - val_accuracy: 0.4699\n",
            "Epoch 50/100\n",
            "50000/50000 [==============================] - 7s 139us/step - loss: 1.7411 - accuracy: 0.5244 - val_loss: 2.0345 - val_accuracy: 0.4681\n",
            "Epoch 51/100\n",
            "50000/50000 [==============================] - 7s 140us/step - loss: 1.7200 - accuracy: 0.5285 - val_loss: 2.0268 - val_accuracy: 0.4721\n",
            "Epoch 52/100\n",
            "50000/50000 [==============================] - 7s 139us/step - loss: 1.6989 - accuracy: 0.5302 - val_loss: 2.0180 - val_accuracy: 0.4761\n",
            "Epoch 53/100\n",
            "50000/50000 [==============================] - 7s 140us/step - loss: 1.6859 - accuracy: 0.5343 - val_loss: 2.0133 - val_accuracy: 0.4791\n",
            "Epoch 54/100\n",
            "50000/50000 [==============================] - 7s 140us/step - loss: 1.6665 - accuracy: 0.5411 - val_loss: 2.0222 - val_accuracy: 0.4742\n",
            "Epoch 55/100\n",
            "50000/50000 [==============================] - 7s 139us/step - loss: 1.6563 - accuracy: 0.5397 - val_loss: 2.0139 - val_accuracy: 0.4799\n",
            "Epoch 56/100\n",
            "50000/50000 [==============================] - 7s 141us/step - loss: 1.6359 - accuracy: 0.5480 - val_loss: 2.0073 - val_accuracy: 0.4798\n",
            "Epoch 57/100\n",
            "50000/50000 [==============================] - 7s 140us/step - loss: 1.6145 - accuracy: 0.5496 - val_loss: 2.0063 - val_accuracy: 0.4789\n",
            "Epoch 58/100\n",
            "50000/50000 [==============================] - 7s 140us/step - loss: 1.5997 - accuracy: 0.5556 - val_loss: 2.0028 - val_accuracy: 0.4829\n",
            "Epoch 59/100\n",
            "50000/50000 [==============================] - 7s 140us/step - loss: 1.5885 - accuracy: 0.5567 - val_loss: 1.9986 - val_accuracy: 0.4801\n",
            "Epoch 60/100\n",
            "50000/50000 [==============================] - 7s 139us/step - loss: 1.5666 - accuracy: 0.5629 - val_loss: 1.9872 - val_accuracy: 0.4859\n",
            "Epoch 61/100\n",
            "50000/50000 [==============================] - 7s 139us/step - loss: 1.5580 - accuracy: 0.5616 - val_loss: 1.9899 - val_accuracy: 0.4836\n",
            "Epoch 62/100\n",
            "50000/50000 [==============================] - 7s 140us/step - loss: 1.5379 - accuracy: 0.5680 - val_loss: 1.9906 - val_accuracy: 0.4890\n",
            "Epoch 63/100\n",
            "50000/50000 [==============================] - 7s 139us/step - loss: 1.5327 - accuracy: 0.5682 - val_loss: 1.9934 - val_accuracy: 0.4824\n",
            "Epoch 64/100\n",
            "50000/50000 [==============================] - 7s 140us/step - loss: 1.5169 - accuracy: 0.5721 - val_loss: 2.0024 - val_accuracy: 0.4812\n",
            "Epoch 65/100\n",
            "50000/50000 [==============================] - 7s 140us/step - loss: 1.5074 - accuracy: 0.5754 - val_loss: 1.9835 - val_accuracy: 0.4866\n",
            "Epoch 66/100\n",
            "50000/50000 [==============================] - 7s 140us/step - loss: 1.4825 - accuracy: 0.5803 - val_loss: 1.9819 - val_accuracy: 0.4852\n",
            "Epoch 67/100\n",
            "50000/50000 [==============================] - 7s 141us/step - loss: 1.4626 - accuracy: 0.5853 - val_loss: 1.9876 - val_accuracy: 0.4867\n",
            "Epoch 68/100\n",
            "50000/50000 [==============================] - 7s 141us/step - loss: 1.4642 - accuracy: 0.5843 - val_loss: 1.9882 - val_accuracy: 0.4865\n",
            "Epoch 69/100\n",
            "50000/50000 [==============================] - 7s 139us/step - loss: 1.4452 - accuracy: 0.5891 - val_loss: 1.9909 - val_accuracy: 0.4850\n",
            "Epoch 70/100\n",
            "50000/50000 [==============================] - 7s 139us/step - loss: 1.4363 - accuracy: 0.5905 - val_loss: 1.9835 - val_accuracy: 0.4854\n",
            "Epoch 71/100\n",
            "50000/50000 [==============================] - 7s 139us/step - loss: 1.4296 - accuracy: 0.5913 - val_loss: 1.9887 - val_accuracy: 0.4851\n",
            "Epoch 72/100\n",
            "50000/50000 [==============================] - 7s 140us/step - loss: 1.4060 - accuracy: 0.5993 - val_loss: 2.0091 - val_accuracy: 0.4848\n",
            "Epoch 73/100\n",
            "50000/50000 [==============================] - 7s 140us/step - loss: 1.3958 - accuracy: 0.5976 - val_loss: 1.9819 - val_accuracy: 0.4899\n",
            "Epoch 74/100\n",
            "50000/50000 [==============================] - 7s 139us/step - loss: 1.3881 - accuracy: 0.6013 - val_loss: 2.0084 - val_accuracy: 0.4791\n",
            "Epoch 75/100\n",
            "50000/50000 [==============================] - 7s 139us/step - loss: 1.3677 - accuracy: 0.6078 - val_loss: 1.9811 - val_accuracy: 0.4889\n",
            "Epoch 76/100\n",
            "50000/50000 [==============================] - 7s 139us/step - loss: 1.3643 - accuracy: 0.6073 - val_loss: 1.9826 - val_accuracy: 0.4924\n",
            "Epoch 77/100\n",
            "50000/50000 [==============================] - 7s 140us/step - loss: 1.3508 - accuracy: 0.6088 - val_loss: 1.9806 - val_accuracy: 0.4894\n",
            "Epoch 78/100\n",
            "50000/50000 [==============================] - 7s 140us/step - loss: 1.3410 - accuracy: 0.6137 - val_loss: 1.9791 - val_accuracy: 0.4914\n",
            "Epoch 79/100\n",
            "50000/50000 [==============================] - 7s 141us/step - loss: 1.3226 - accuracy: 0.6173 - val_loss: 1.9814 - val_accuracy: 0.4938\n",
            "Epoch 80/100\n",
            "50000/50000 [==============================] - 7s 139us/step - loss: 1.3132 - accuracy: 0.6204 - val_loss: 1.9897 - val_accuracy: 0.4883\n",
            "Epoch 81/100\n",
            "50000/50000 [==============================] - 7s 139us/step - loss: 1.3081 - accuracy: 0.6190 - val_loss: 1.9860 - val_accuracy: 0.4898\n",
            "Epoch 82/100\n",
            "50000/50000 [==============================] - 7s 140us/step - loss: 1.2947 - accuracy: 0.6232 - val_loss: 1.9822 - val_accuracy: 0.4866\n",
            "Epoch 83/100\n",
            "50000/50000 [==============================] - 7s 139us/step - loss: 1.2837 - accuracy: 0.6296 - val_loss: 1.9927 - val_accuracy: 0.4860\n",
            "Epoch 84/100\n",
            "50000/50000 [==============================] - 7s 144us/step - loss: 1.2580 - accuracy: 0.6302 - val_loss: 2.0039 - val_accuracy: 0.4916\n",
            "Epoch 85/100\n",
            "50000/50000 [==============================] - 7s 144us/step - loss: 1.2600 - accuracy: 0.6312 - val_loss: 2.0039 - val_accuracy: 0.4891\n",
            "Epoch 86/100\n",
            "50000/50000 [==============================] - 7s 139us/step - loss: 1.2567 - accuracy: 0.6316 - val_loss: 1.9741 - val_accuracy: 0.4925\n",
            "Epoch 87/100\n",
            "50000/50000 [==============================] - 7s 140us/step - loss: 1.2270 - accuracy: 0.6402 - val_loss: 1.9899 - val_accuracy: 0.4945\n",
            "Epoch 88/100\n",
            "50000/50000 [==============================] - 7s 139us/step - loss: 1.2340 - accuracy: 0.6384 - val_loss: 1.9956 - val_accuracy: 0.4944\n",
            "Epoch 89/100\n",
            "50000/50000 [==============================] - 7s 140us/step - loss: 1.2110 - accuracy: 0.6441 - val_loss: 1.9886 - val_accuracy: 0.4922\n",
            "Epoch 90/100\n",
            "50000/50000 [==============================] - 7s 141us/step - loss: 1.2116 - accuracy: 0.6442 - val_loss: 1.9989 - val_accuracy: 0.4934\n",
            "Epoch 91/100\n",
            "50000/50000 [==============================] - 7s 142us/step - loss: 1.2023 - accuracy: 0.6435 - val_loss: 1.9997 - val_accuracy: 0.4904\n",
            "Epoch 92/100\n",
            "50000/50000 [==============================] - 7s 139us/step - loss: 1.1963 - accuracy: 0.6460 - val_loss: 1.9990 - val_accuracy: 0.4924\n",
            "Epoch 93/100\n",
            "50000/50000 [==============================] - 7s 139us/step - loss: 1.1826 - accuracy: 0.6504 - val_loss: 2.0202 - val_accuracy: 0.4936\n",
            "Epoch 94/100\n",
            "50000/50000 [==============================] - 7s 140us/step - loss: 1.1666 - accuracy: 0.6548 - val_loss: 2.0060 - val_accuracy: 0.4893\n",
            "Epoch 95/100\n",
            "50000/50000 [==============================] - 7s 139us/step - loss: 1.1657 - accuracy: 0.6568 - val_loss: 2.0150 - val_accuracy: 0.4891\n",
            "Epoch 96/100\n",
            "50000/50000 [==============================] - 7s 139us/step - loss: 1.1595 - accuracy: 0.6572 - val_loss: 2.0042 - val_accuracy: 0.4899\n",
            "Epoch 97/100\n",
            "50000/50000 [==============================] - 7s 139us/step - loss: 1.1447 - accuracy: 0.6614 - val_loss: 2.0094 - val_accuracy: 0.4934\n",
            "Epoch 98/100\n",
            "50000/50000 [==============================] - 7s 139us/step - loss: 1.1369 - accuracy: 0.6607 - val_loss: 2.0043 - val_accuracy: 0.4936\n",
            "Epoch 99/100\n",
            "50000/50000 [==============================] - 7s 140us/step - loss: 1.1243 - accuracy: 0.6668 - val_loss: 2.0057 - val_accuracy: 0.4915\n",
            "Epoch 100/100\n",
            "50000/50000 [==============================] - 7s 139us/step - loss: 1.1271 - accuracy: 0.6637 - val_loss: 2.0102 - val_accuracy: 0.4924\n"
          ],
          "name": "stdout"
        }
      ]
    },
    {
      "cell_type": "code",
      "metadata": {
        "id": "I0DBjlw2rp2l",
        "colab_type": "code",
        "colab": {
          "base_uri": "https://localhost:8080/",
          "height": 72
        },
        "outputId": "1f3dc65f-9316-4ea5-d558-0d520fdd9233"
      },
      "source": [
        "# 테스트 정확도 출력 \n",
        "print(\"\\n Test Accuracy: %.4f\" % (model.evaluate(X_test, Y_test)[1]))"
      ],
      "execution_count": null,
      "outputs": [
        {
          "output_type": "stream",
          "text": [
            "10000/10000 [==============================] - 1s 100us/step\n",
            "\n",
            " Test Accuracy: 0.4924\n"
          ],
          "name": "stdout"
        }
      ]
    },
    {
      "cell_type": "markdown",
      "metadata": {
        "id": "qyLArUQduwwv",
        "colab_type": "text"
      },
      "source": [
        "### 결과 그래프로 확인하기"
      ]
    },
    {
      "cell_type": "code",
      "metadata": {
        "id": "HIehlKRcudn-",
        "colab_type": "code",
        "colab": {}
      },
      "source": [
        "# 테스트셋\n",
        "y_vloss = history.history['val_loss']\n",
        "y_vacc = history.history['val_accuracy']\n",
        "# 학습셋\n",
        "y_loss = history.history['loss']\n",
        "y_acc = history.history['accuracy']"
      ],
      "execution_count": null,
      "outputs": []
    },
    {
      "cell_type": "code",
      "metadata": {
        "id": "Bpg0Itp7u0QL",
        "colab_type": "code",
        "colab": {
          "base_uri": "https://localhost:8080/",
          "height": 497
        },
        "outputId": "4675a6e7-ceb8-4158-f5b1-d5875a438012"
      },
      "source": [
        "# 그래프로 표현\n",
        "import numpy as np\n",
        "\n",
        "x_len = np.arange(1, len(y_loss)+1)\n",
        "fig, ax0 = plt.subplots(figsize=(10,8))\n",
        "ax1 = ax0.twinx()\n",
        "ax0.plot(x_len, y_loss, c=\"blue\", label='Trainset_loss')\n",
        "ax0.plot(x_len, y_vloss, c=\"red\", label='Testset_loss')\n",
        "ax0.set_ylabel('loss')\n",
        "ax1.plot(x_len, y_acc, c=\"darkgreen\", label='Trainset_acc')\n",
        "ax1.plot(x_len, y_vacc, c=\"magenta\", label='Testset_acc')\n",
        "ax1.set_ylabel('accuracy')\n",
        "ax0.set_xlabel('epoch')\n",
        "ax0.legend(loc='upper center')\n",
        "ax1.legend(loc='lower center')\n",
        "plt.show()"
      ],
      "execution_count": null,
      "outputs": [
        {
          "output_type": "display_data",
          "data": {
            "image/png": "[encoded data removed]",
            "text/plain": [
              "<Figure size 720x576 with 2 Axes>"
            ]
          },
          "metadata": {
            "tags": [],
            "needs_background": "light"
          }
        }
      ]
    },
    {
      "cell_type": "code",
      "metadata": {
        "id": "ifWMtZgIu-pM",
        "colab_type": "code",
        "colab": {}
      },
      "source": [
        ""
      ],
      "execution_count": null,
      "outputs": []
    }
  ]
}