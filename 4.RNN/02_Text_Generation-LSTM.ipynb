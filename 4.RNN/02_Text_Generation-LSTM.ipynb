{
 "cells": [
  {
   "cell_type": "markdown",
   "metadata": {},
   "source": [
    "# LSTM을 이용한 텍스트 생성\n",
    "- 데이터 다운로드: 캐글 [New York Times Comments](https://www.kaggle.com/aashita/nyt-comments)"
   ]
  },
  {
   "cell_type": "markdown",
   "metadata": {},
   "source": [
    "## 1. 데이터 전처리"
   ]
  },
  {
   "cell_type": "code",
   "execution_count": 1,
   "metadata": {},
   "outputs": [],
   "source": [
    "import numpy as np\n",
    "import pandas as pd\n",
    "from string import punctuation\n",
    "\n",
    "from tensorflow.keras.preprocessing.text import Tokenizer\n",
    "from tensorflow.keras.preprocessing.sequence import pad_sequences\n",
    "from tensorflow.keras.utils import to_categorical"
   ]
  },
  {
   "cell_type": "code",
   "execution_count": 2,
   "metadata": {},
   "outputs": [
    {
     "data": {
      "text/html": [
       "<div>\n",
       "<style scoped>\n",
       "    .dataframe tbody tr th:only-of-type {\n",
       "        vertical-align: middle;\n",
       "    }\n",
       "\n",
       "    .dataframe tbody tr th {\n",
       "        vertical-align: top;\n",
       "    }\n",
       "\n",
       "    .dataframe thead th {\n",
       "        text-align: right;\n",
       "    }\n",
       "</style>\n",
       "<table border=\"1\" class=\"dataframe\">\n",
       "  <thead>\n",
       "    <tr style=\"text-align: right;\">\n",
       "      <th></th>\n",
       "      <th>articleID</th>\n",
       "      <th>articleWordCount</th>\n",
       "      <th>byline</th>\n",
       "      <th>documentType</th>\n",
       "      <th>headline</th>\n",
       "      <th>keywords</th>\n",
       "      <th>multimedia</th>\n",
       "      <th>newDesk</th>\n",
       "      <th>printPage</th>\n",
       "      <th>pubDate</th>\n",
       "      <th>sectionName</th>\n",
       "      <th>snippet</th>\n",
       "      <th>source</th>\n",
       "      <th>typeOfMaterial</th>\n",
       "      <th>webURL</th>\n",
       "    </tr>\n",
       "  </thead>\n",
       "  <tbody>\n",
       "    <tr>\n",
       "      <th>0</th>\n",
       "      <td>5adf6684068401528a2aa69b</td>\n",
       "      <td>781</td>\n",
       "      <td>By JOHN BRANCH</td>\n",
       "      <td>article</td>\n",
       "      <td>Former N.F.L. Cheerleaders’ Settlement Offer: ...</td>\n",
       "      <td>['Workplace Hazards and Violations', 'Football...</td>\n",
       "      <td>68</td>\n",
       "      <td>Sports</td>\n",
       "      <td>0</td>\n",
       "      <td>2018-04-24 17:16:49</td>\n",
       "      <td>Pro Football</td>\n",
       "      <td>“I understand that they could meet with us, pa...</td>\n",
       "      <td>The New York Times</td>\n",
       "      <td>News</td>\n",
       "      <td>https://www.nytimes.com/2018/04/24/sports/foot...</td>\n",
       "    </tr>\n",
       "    <tr>\n",
       "      <th>1</th>\n",
       "      <td>5adf653f068401528a2aa697</td>\n",
       "      <td>656</td>\n",
       "      <td>By LISA FRIEDMAN</td>\n",
       "      <td>article</td>\n",
       "      <td>E.P.A. to Unveil a New Rule. Its Effect: Less ...</td>\n",
       "      <td>['Environmental Protection Agency', 'Pruitt, S...</td>\n",
       "      <td>68</td>\n",
       "      <td>Climate</td>\n",
       "      <td>0</td>\n",
       "      <td>2018-04-24 17:11:21</td>\n",
       "      <td>Unknown</td>\n",
       "      <td>The agency plans to publish a new regulation T...</td>\n",
       "      <td>The New York Times</td>\n",
       "      <td>News</td>\n",
       "      <td>https://www.nytimes.com/2018/04/24/climate/epa...</td>\n",
       "    </tr>\n",
       "    <tr>\n",
       "      <th>2</th>\n",
       "      <td>5adf4626068401528a2aa628</td>\n",
       "      <td>2427</td>\n",
       "      <td>By PETE WELLS</td>\n",
       "      <td>article</td>\n",
       "      <td>The New Noma, Explained</td>\n",
       "      <td>['Restaurants', 'Noma (Copenhagen, Restaurant)...</td>\n",
       "      <td>66</td>\n",
       "      <td>Dining</td>\n",
       "      <td>0</td>\n",
       "      <td>2018-04-24 14:58:44</td>\n",
       "      <td>Unknown</td>\n",
       "      <td>What’s it like to eat at the second incarnatio...</td>\n",
       "      <td>The New York Times</td>\n",
       "      <td>News</td>\n",
       "      <td>https://www.nytimes.com/2018/04/24/dining/noma...</td>\n",
       "    </tr>\n",
       "    <tr>\n",
       "      <th>3</th>\n",
       "      <td>5adf40d2068401528a2aa619</td>\n",
       "      <td>626</td>\n",
       "      <td>By JULIE HIRSCHFELD DAVIS and PETER BAKER</td>\n",
       "      <td>article</td>\n",
       "      <td>Unknown</td>\n",
       "      <td>['Macron, Emmanuel (1977- )', 'Trump, Donald J...</td>\n",
       "      <td>68</td>\n",
       "      <td>Washington</td>\n",
       "      <td>0</td>\n",
       "      <td>2018-04-24 14:35:57</td>\n",
       "      <td>Europe</td>\n",
       "      <td>President Trump welcomed President Emmanuel Ma...</td>\n",
       "      <td>The New York Times</td>\n",
       "      <td>News</td>\n",
       "      <td>https://www.nytimes.com/2018/04/24/world/europ...</td>\n",
       "    </tr>\n",
       "    <tr>\n",
       "      <th>4</th>\n",
       "      <td>5adf3d64068401528a2aa60f</td>\n",
       "      <td>815</td>\n",
       "      <td>By IAN AUSTEN and DAN BILEFSKY</td>\n",
       "      <td>article</td>\n",
       "      <td>Unknown</td>\n",
       "      <td>['Toronto, Ontario, Attack (April, 2018)', 'Mu...</td>\n",
       "      <td>68</td>\n",
       "      <td>Foreign</td>\n",
       "      <td>0</td>\n",
       "      <td>2018-04-24 14:21:21</td>\n",
       "      <td>Canada</td>\n",
       "      <td>Alek Minassian, 25, a resident of Toronto’s Ri...</td>\n",
       "      <td>The New York Times</td>\n",
       "      <td>News</td>\n",
       "      <td>https://www.nytimes.com/2018/04/24/world/canad...</td>\n",
       "    </tr>\n",
       "  </tbody>\n",
       "</table>\n",
       "</div>"
      ],
      "text/plain": [
       "                  articleID  articleWordCount  \\\n",
       "0  5adf6684068401528a2aa69b               781   \n",
       "1  5adf653f068401528a2aa697               656   \n",
       "2  5adf4626068401528a2aa628              2427   \n",
       "3  5adf40d2068401528a2aa619               626   \n",
       "4  5adf3d64068401528a2aa60f               815   \n",
       "\n",
       "                                      byline documentType  \\\n",
       "0                             By JOHN BRANCH      article   \n",
       "1                           By LISA FRIEDMAN      article   \n",
       "2                              By PETE WELLS      article   \n",
       "3  By JULIE HIRSCHFELD DAVIS and PETER BAKER      article   \n",
       "4             By IAN AUSTEN and DAN BILEFSKY      article   \n",
       "\n",
       "                                            headline  \\\n",
       "0  Former N.F.L. Cheerleaders’ Settlement Offer: ...   \n",
       "1  E.P.A. to Unveil a New Rule. Its Effect: Less ...   \n",
       "2                            The New Noma, Explained   \n",
       "3                                            Unknown   \n",
       "4                                            Unknown   \n",
       "\n",
       "                                            keywords  multimedia     newDesk  \\\n",
       "0  ['Workplace Hazards and Violations', 'Football...          68      Sports   \n",
       "1  ['Environmental Protection Agency', 'Pruitt, S...          68     Climate   \n",
       "2  ['Restaurants', 'Noma (Copenhagen, Restaurant)...          66      Dining   \n",
       "3  ['Macron, Emmanuel (1977- )', 'Trump, Donald J...          68  Washington   \n",
       "4  ['Toronto, Ontario, Attack (April, 2018)', 'Mu...          68     Foreign   \n",
       "\n",
       "   printPage              pubDate   sectionName  \\\n",
       "0          0  2018-04-24 17:16:49  Pro Football   \n",
       "1          0  2018-04-24 17:11:21       Unknown   \n",
       "2          0  2018-04-24 14:58:44       Unknown   \n",
       "3          0  2018-04-24 14:35:57        Europe   \n",
       "4          0  2018-04-24 14:21:21        Canada   \n",
       "\n",
       "                                             snippet              source  \\\n",
       "0  “I understand that they could meet with us, pa...  The New York Times   \n",
       "1  The agency plans to publish a new regulation T...  The New York Times   \n",
       "2  What’s it like to eat at the second incarnatio...  The New York Times   \n",
       "3  President Trump welcomed President Emmanuel Ma...  The New York Times   \n",
       "4  Alek Minassian, 25, a resident of Toronto’s Ri...  The New York Times   \n",
       "\n",
       "  typeOfMaterial                                             webURL  \n",
       "0           News  https://www.nytimes.com/2018/04/24/sports/foot...  \n",
       "1           News  https://www.nytimes.com/2018/04/24/climate/epa...  \n",
       "2           News  https://www.nytimes.com/2018/04/24/dining/noma...  \n",
       "3           News  https://www.nytimes.com/2018/04/24/world/europ...  \n",
       "4           News  https://www.nytimes.com/2018/04/24/world/canad...  "
      ]
     },
     "execution_count": 2,
     "metadata": {},
     "output_type": "execute_result"
    }
   ],
   "source": [
    "df=pd.read_csv('data/ArticlesApril2018.csv')\n",
    "df.head()"
   ]
  },
  {
   "cell_type": "code",
   "execution_count": 3,
   "metadata": {},
   "outputs": [
    {
     "name": "stdout",
     "output_type": "stream",
     "text": [
      "열의 개수:  15\n",
      "Index(['articleID', 'articleWordCount', 'byline', 'documentType', 'headline',\n",
      "       'keywords', 'multimedia', 'newDesk', 'printPage', 'pubDate',\n",
      "       'sectionName', 'snippet', 'source', 'typeOfMaterial', 'webURL'],\n",
      "      dtype='object')\n"
     ]
    }
   ],
   "source": [
    "print('열의 개수: ',len(df.columns))\n",
    "print(df.columns)"
   ]
  },
  {
   "cell_type": "code",
   "execution_count": 4,
   "metadata": {},
   "outputs": [
    {
     "data": {
      "text/plain": [
       "False"
      ]
     },
     "execution_count": 4,
     "metadata": {},
     "output_type": "execute_result"
    }
   ],
   "source": [
    "# headline 열의 데이터만 사용, Null 검사\n",
    "df['headline'].isnull().values.any()"
   ]
  },
  {
   "cell_type": "code",
   "execution_count": 5,
   "metadata": {},
   "outputs": [
    {
     "data": {
      "text/plain": [
       "['Former N.F.L. Cheerleaders’ Settlement Offer: $1 and a Meeting With Goodell',\n",
       " 'E.P.A. to Unveil a New Rule. Its Effect: Less Science in Policymaking.',\n",
       " 'The New Noma, Explained',\n",
       " 'Unknown',\n",
       " 'Unknown']"
      ]
     },
     "execution_count": 5,
     "metadata": {},
     "output_type": "execute_result"
    }
   ],
   "source": [
    "headline = [title for title in df.headline.values]\n",
    "headline[:5]"
   ]
  },
  {
   "cell_type": "code",
   "execution_count": 6,
   "metadata": {},
   "outputs": [
    {
     "data": {
      "text/plain": [
       "1324"
      ]
     },
     "execution_count": 6,
     "metadata": {},
     "output_type": "execute_result"
    }
   ],
   "source": [
    "len(headline)"
   ]
  },
  {
   "cell_type": "code",
   "execution_count": 7,
   "metadata": {},
   "outputs": [
    {
     "data": {
      "text/plain": [
       "1214"
      ]
     },
     "execution_count": 7,
     "metadata": {},
     "output_type": "execute_result"
    }
   ],
   "source": [
    "# 노이즈 데이터('Unknown') 제거\n",
    "headline = [title for title in headline if title != 'Unknown']\n",
    "len(headline)"
   ]
  },
  {
   "cell_type": "code",
   "execution_count": 8,
   "metadata": {},
   "outputs": [],
   "source": [
    "# 구두점 제거와 동시에 소문자화를 위한 함수\n",
    "def repreprocessing(s):\n",
    "    s=s.encode(\"utf8\").decode(\"ascii\",'ignore')\n",
    "    return ''.join(c for c in s if c not in punctuation).lower() "
   ]
  },
  {
   "cell_type": "code",
   "execution_count": 9,
   "metadata": {},
   "outputs": [
    {
     "data": {
      "text/plain": [
       "['former nfl cheerleaders settlement offer 1 and a meeting with goodell',\n",
       " 'epa to unveil a new rule its effect less science in policymaking',\n",
       " 'the new noma explained',\n",
       " 'how a bag of texas dirt  became a times tradition',\n",
       " 'is school a place for selfexpression']"
      ]
     },
     "execution_count": 9,
     "metadata": {},
     "output_type": "execute_result"
    }
   ],
   "source": [
    "text = [repreprocessing(x) for x in headline]\n",
    "text[:5]"
   ]
  },
  {
   "cell_type": "code",
   "execution_count": 10,
   "metadata": {},
   "outputs": [
    {
     "name": "stdout",
     "output_type": "stream",
     "text": [
      "단어 집합의 크기 : 3494\n"
     ]
    }
   ],
   "source": [
    "# 단어 집합(vocabulary)을 만들고 크기를 확인\n",
    "t = Tokenizer()\n",
    "t.fit_on_texts(text)\n",
    "vocab_size = len(t.word_index) + 1\n",
    "print('단어 집합의 크기 : %d' % vocab_size)"
   ]
  },
  {
   "cell_type": "code",
   "execution_count": 11,
   "metadata": {},
   "outputs": [
    {
     "data": {
      "text/plain": [
       "[[99, 269],\n",
       " [99, 269, 371],\n",
       " [99, 269, 371, 1115],\n",
       " [99, 269, 371, 1115, 582],\n",
       " [99, 269, 371, 1115, 582, 52],\n",
       " [99, 269, 371, 1115, 582, 52, 7],\n",
       " [99, 269, 371, 1115, 582, 52, 7, 2],\n",
       " [99, 269, 371, 1115, 582, 52, 7, 2, 372],\n",
       " [99, 269, 371, 1115, 582, 52, 7, 2, 372, 10],\n",
       " [99, 269, 371, 1115, 582, 52, 7, 2, 372, 10, 1116],\n",
       " [100, 3]]"
      ]
     },
     "execution_count": 11,
     "metadata": {},
     "output_type": "execute_result"
    }
   ],
   "source": [
    "sequences = []\n",
    "for line in text: # 1,214 개의 샘플에 대해서 샘플을 1개씩 가져온다.\n",
    "    encoded = t.texts_to_sequences([line])[0] # 각 샘플에 대한 정수 인코딩\n",
    "    for i in range(1, len(encoded)):\n",
    "        sequence = encoded[:i+1]\n",
    "        sequences.append(sequence)\n",
    "\n",
    "sequences[:11] # 11개의 샘플 출력"
   ]
  },
  {
   "cell_type": "code",
   "execution_count": 12,
   "metadata": {},
   "outputs": [
    {
     "name": "stdout",
     "output_type": "stream",
     "text": [
      "빈도수 상위 1번 단어 : the\n",
      "빈도수 상위 582번 단어 : offer\n"
     ]
    }
   ],
   "source": [
    "index_to_word = {}\n",
    "for key, value in t.word_index.items(): # 인덱스를 단어로 바꾸기 위해 index_to_word를 생성\n",
    "    index_to_word[value] = key\n",
    "\n",
    "print('빈도수 상위 1번 단어 : {}'.format(index_to_word[1]))\n",
    "print('빈도수 상위 582번 단어 : {}'.format(index_to_word[582]))"
   ]
  },
  {
   "cell_type": "code",
   "execution_count": 14,
   "metadata": {},
   "outputs": [
    {
     "name": "stdout",
     "output_type": "stream",
     "text": [
      "샘플의 최대 길이 : 24\n"
     ]
    }
   ],
   "source": [
    "max_len=max(len(s) for s in sequences)\n",
    "print('샘플의 최대 길이 : {}'.format(max_len))"
   ]
  },
  {
   "cell_type": "code",
   "execution_count": 15,
   "metadata": {},
   "outputs": [
    {
     "name": "stdout",
     "output_type": "stream",
     "text": [
      "[[   0    0    0    0    0    0    0    0    0    0    0    0    0    0\n",
      "     0    0    0    0    0    0    0    0   99  269]\n",
      " [   0    0    0    0    0    0    0    0    0    0    0    0    0    0\n",
      "     0    0    0    0    0    0    0   99  269  371]\n",
      " [   0    0    0    0    0    0    0    0    0    0    0    0    0    0\n",
      "     0    0    0    0    0    0   99  269  371 1115]]\n"
     ]
    }
   ],
   "source": [
    "# 전체 샘플의 길이를 24(가장 긴 샘플의 길이)로 패딩\n",
    "# 'pre' 옵션을 주면 앞을 0으로 패딩\n",
    "sequences = pad_sequences(sequences, maxlen=max_len, padding='pre')\n",
    "print(sequences[:3])"
   ]
  },
  {
   "cell_type": "code",
   "execution_count": 16,
   "metadata": {},
   "outputs": [],
   "source": [
    "sequences = np.array(sequences)\n",
    "X = sequences[:,:-1]\n",
    "y = sequences[:,-1]"
   ]
  },
  {
   "cell_type": "code",
   "execution_count": 17,
   "metadata": {},
   "outputs": [],
   "source": [
    "# 레이블 데이터 y에 대해서 원-핫 인코딩을 수행\n",
    "y = to_categorical(y, num_classes=vocab_size)"
   ]
  },
  {
   "cell_type": "code",
   "execution_count": 19,
   "metadata": {},
   "outputs": [
    {
     "data": {
      "text/plain": [
       "((7803, 23), (7803, 3494))"
      ]
     },
     "execution_count": 19,
     "metadata": {},
     "output_type": "execute_result"
    }
   ],
   "source": [
    "X.shape, y.shape"
   ]
  },
  {
   "cell_type": "markdown",
   "metadata": {},
   "source": [
    "## 2. 모델 설계 및 학습"
   ]
  },
  {
   "cell_type": "code",
   "execution_count": 20,
   "metadata": {},
   "outputs": [],
   "source": [
    "from tensorflow.keras.models import Sequential\n",
    "from tensorflow.keras.layers import Embedding, Dense, LSTM"
   ]
  },
  {
   "cell_type": "code",
   "execution_count": 21,
   "metadata": {},
   "outputs": [],
   "source": [
    "embedding = Embedding(vocab_size, 10, input_length=max_len-1, name=\"Embedding_Layer\")\n",
    "lstm = LSTM(128, name=\"LSTM_Layer\")\n",
    "output = Dense(vocab_size, activation='softmax', name=\"Output_Layer\")"
   ]
  },
  {
   "cell_type": "code",
   "execution_count": 22,
   "metadata": {},
   "outputs": [
    {
     "name": "stdout",
     "output_type": "stream",
     "text": [
      "Model: \"sequential\"\n",
      "_________________________________________________________________\n",
      "Layer (type)                 Output Shape              Param #   \n",
      "=================================================================\n",
      "Embedding_Layer (Embedding)  (None, 23, 10)            34940     \n",
      "_________________________________________________________________\n",
      "LSTM_Layer (LSTM)            (None, 128)               71168     \n",
      "_________________________________________________________________\n",
      "Output_Layer (Dense)         (None, 3494)              450726    \n",
      "=================================================================\n",
      "Total params: 556,834\n",
      "Trainable params: 556,834\n",
      "Non-trainable params: 0\n",
      "_________________________________________________________________\n"
     ]
    }
   ],
   "source": [
    "# 임베딩 벡터는 10차원, 은닉 상태 크기는 128\n",
    "model = Sequential()\n",
    "model.add(embedding)\n",
    "model.add(lstm)\n",
    "model.add(output)\n",
    "model.summary()"
   ]
  },
  {
   "cell_type": "code",
   "execution_count": 23,
   "metadata": {},
   "outputs": [],
   "source": [
    "model.compile(loss='categorical_crossentropy', \n",
    "              optimizer='adam', metrics=['accuracy'])"
   ]
  },
  {
   "cell_type": "code",
   "execution_count": 24,
   "metadata": {},
   "outputs": [
    {
     "name": "stdout",
     "output_type": "stream",
     "text": [
      "Train on 7803 samples\n",
      "Epoch 1/200\n",
      "7803/7803 - 6s - loss: 7.6308 - accuracy: 0.0268\n",
      "Epoch 2/200\n",
      "7803/7803 - 4s - loss: 7.1229 - accuracy: 0.0270\n",
      "Epoch 3/200\n",
      "7803/7803 - 4s - loss: 6.9830 - accuracy: 0.0311\n",
      "Epoch 4/200\n",
      "7803/7803 - 4s - loss: 6.8664 - accuracy: 0.0411\n",
      "Epoch 5/200\n",
      "7803/7803 - 4s - loss: 6.7273 - accuracy: 0.0429\n",
      "Epoch 6/200\n",
      "7803/7803 - 4s - loss: 6.5741 - accuracy: 0.0478\n",
      "Epoch 7/200\n",
      "7803/7803 - 4s - loss: 6.4011 - accuracy: 0.0499\n",
      "Epoch 8/200\n",
      "7803/7803 - 4s - loss: 6.2129 - accuracy: 0.0572\n",
      "Epoch 9/200\n",
      "7803/7803 - 4s - loss: 6.0321 - accuracy: 0.0586\n",
      "Epoch 10/200\n",
      "7803/7803 - 4s - loss: 5.8548 - accuracy: 0.0634\n",
      "Epoch 11/200\n",
      "7803/7803 - 4s - loss: 5.6898 - accuracy: 0.0687\n",
      "Epoch 12/200\n",
      "7803/7803 - 4s - loss: 5.5271 - accuracy: 0.0741\n",
      "Epoch 13/200\n",
      "7803/7803 - 4s - loss: 5.3769 - accuracy: 0.0774\n",
      "Epoch 14/200\n",
      "7803/7803 - 4s - loss: 5.2247 - accuracy: 0.0838\n",
      "Epoch 15/200\n",
      "7803/7803 - 4s - loss: 5.0822 - accuracy: 0.0906\n",
      "Epoch 16/200\n",
      "7803/7803 - 4s - loss: 4.9433 - accuracy: 0.1007\n",
      "Epoch 17/200\n",
      "7803/7803 - 4s - loss: 4.8071 - accuracy: 0.1115\n",
      "Epoch 18/200\n",
      "7803/7803 - 4s - loss: 4.6814 - accuracy: 0.1233\n",
      "Epoch 19/200\n",
      "7803/7803 - 4s - loss: 4.5564 - accuracy: 0.1355\n",
      "Epoch 20/200\n",
      "7803/7803 - 4s - loss: 4.4351 - accuracy: 0.1505\n",
      "Epoch 21/200\n",
      "7803/7803 - 4s - loss: 4.3171 - accuracy: 0.1648\n",
      "Epoch 22/200\n",
      "7803/7803 - 4s - loss: 4.2033 - accuracy: 0.1824\n",
      "Epoch 23/200\n",
      "7803/7803 - 4s - loss: 4.0918 - accuracy: 0.2018\n",
      "Epoch 24/200\n",
      "7803/7803 - 4s - loss: 3.9797 - accuracy: 0.2141\n",
      "Epoch 25/200\n",
      "7803/7803 - 4s - loss: 3.8790 - accuracy: 0.2273\n",
      "Epoch 26/200\n",
      "7803/7803 - 4s - loss: 3.7742 - accuracy: 0.2459\n",
      "Epoch 27/200\n",
      "7803/7803 - 4s - loss: 3.6784 - accuracy: 0.2632\n",
      "Epoch 28/200\n",
      "7803/7803 - 4s - loss: 3.5814 - accuracy: 0.2799\n",
      "Epoch 29/200\n",
      "7803/7803 - 4s - loss: 3.4931 - accuracy: 0.2973\n",
      "Epoch 30/200\n",
      "7803/7803 - 4s - loss: 3.4019 - accuracy: 0.3103\n",
      "Epoch 31/200\n",
      "7803/7803 - 4s - loss: 3.3161 - accuracy: 0.3274\n",
      "Epoch 32/200\n",
      "7803/7803 - 4s - loss: 3.2319 - accuracy: 0.3438\n",
      "Epoch 33/200\n",
      "7803/7803 - 4s - loss: 3.1511 - accuracy: 0.3558\n",
      "Epoch 34/200\n",
      "7803/7803 - 4s - loss: 3.0767 - accuracy: 0.3752\n",
      "Epoch 35/200\n",
      "7803/7803 - 4s - loss: 3.0005 - accuracy: 0.3859\n",
      "Epoch 36/200\n",
      "7803/7803 - 4s - loss: 2.9271 - accuracy: 0.4022\n",
      "Epoch 37/200\n",
      "7803/7803 - 4s - loss: 2.8571 - accuracy: 0.4156\n",
      "Epoch 38/200\n",
      "7803/7803 - 4s - loss: 2.7898 - accuracy: 0.4251\n",
      "Epoch 39/200\n",
      "7803/7803 - 4s - loss: 2.7228 - accuracy: 0.4402\n",
      "Epoch 40/200\n",
      "7803/7803 - 4s - loss: 2.6584 - accuracy: 0.4501\n",
      "Epoch 41/200\n",
      "7803/7803 - 4s - loss: 2.5977 - accuracy: 0.4626\n",
      "Epoch 42/200\n",
      "7803/7803 - 4s - loss: 2.5373 - accuracy: 0.4755\n",
      "Epoch 43/200\n",
      "7803/7803 - 4s - loss: 2.4764 - accuracy: 0.4901\n",
      "Epoch 44/200\n",
      "7803/7803 - 4s - loss: 2.4171 - accuracy: 0.4990\n",
      "Epoch 45/200\n",
      "7803/7803 - 4s - loss: 2.3687 - accuracy: 0.5111\n",
      "Epoch 46/200\n",
      "7803/7803 - 4s - loss: 2.3092 - accuracy: 0.5256\n",
      "Epoch 47/200\n",
      "7803/7803 - 4s - loss: 2.2533 - accuracy: 0.5374\n",
      "Epoch 48/200\n",
      "7803/7803 - 4s - loss: 2.2085 - accuracy: 0.5409\n",
      "Epoch 49/200\n",
      "7803/7803 - 4s - loss: 2.1524 - accuracy: 0.5575\n",
      "Epoch 50/200\n",
      "7803/7803 - 4s - loss: 2.1017 - accuracy: 0.5666\n",
      "Epoch 51/200\n",
      "7803/7803 - 4s - loss: 2.0538 - accuracy: 0.5730\n",
      "Epoch 52/200\n",
      "7803/7803 - 4s - loss: 2.0065 - accuracy: 0.5904\n",
      "Epoch 53/200\n",
      "7803/7803 - 4s - loss: 1.9599 - accuracy: 0.5966\n",
      "Epoch 54/200\n",
      "7803/7803 - 4s - loss: 1.9132 - accuracy: 0.6077\n",
      "Epoch 55/200\n",
      "7803/7803 - 4s - loss: 1.8715 - accuracy: 0.6167\n",
      "Epoch 56/200\n",
      "7803/7803 - 4s - loss: 1.8282 - accuracy: 0.6271\n",
      "Epoch 57/200\n",
      "7803/7803 - 4s - loss: 1.7816 - accuracy: 0.6339\n",
      "Epoch 58/200\n",
      "7803/7803 - 4s - loss: 1.7431 - accuracy: 0.6424\n",
      "Epoch 59/200\n",
      "7803/7803 - 4s - loss: 1.6996 - accuracy: 0.6542\n",
      "Epoch 60/200\n",
      "7803/7803 - 4s - loss: 1.6595 - accuracy: 0.6628\n",
      "Epoch 61/200\n",
      "7803/7803 - 4s - loss: 1.6224 - accuracy: 0.6714\n",
      "Epoch 62/200\n",
      "7803/7803 - 4s - loss: 1.5834 - accuracy: 0.6762\n",
      "Epoch 63/200\n",
      "7803/7803 - 4s - loss: 1.5479 - accuracy: 0.6888\n",
      "Epoch 64/200\n",
      "7803/7803 - 4s - loss: 1.5108 - accuracy: 0.6940\n",
      "Epoch 65/200\n",
      "7803/7803 - 4s - loss: 1.4732 - accuracy: 0.7009\n",
      "Epoch 66/200\n",
      "7803/7803 - 4s - loss: 1.4377 - accuracy: 0.7090\n",
      "Epoch 67/200\n",
      "7803/7803 - 4s - loss: 1.4043 - accuracy: 0.7195\n",
      "Epoch 68/200\n",
      "7803/7803 - 4s - loss: 1.3725 - accuracy: 0.7242\n",
      "Epoch 69/200\n",
      "7803/7803 - 4s - loss: 1.3407 - accuracy: 0.7278\n",
      "Epoch 70/200\n",
      "7803/7803 - 4s - loss: 1.3096 - accuracy: 0.7389\n",
      "Epoch 71/200\n",
      "7803/7803 - 4s - loss: 1.2762 - accuracy: 0.7432\n",
      "Epoch 72/200\n",
      "7803/7803 - 4s - loss: 1.2474 - accuracy: 0.7483\n",
      "Epoch 73/200\n",
      "7803/7803 - 4s - loss: 1.2175 - accuracy: 0.7542\n",
      "Epoch 74/200\n",
      "7803/7803 - 4s - loss: 1.1907 - accuracy: 0.7598\n",
      "Epoch 75/200\n",
      "7803/7803 - 4s - loss: 1.1594 - accuracy: 0.7724\n",
      "Epoch 76/200\n",
      "7803/7803 - 4s - loss: 1.1331 - accuracy: 0.7729\n",
      "Epoch 77/200\n",
      "7803/7803 - 4s - loss: 1.1049 - accuracy: 0.7803\n",
      "Epoch 78/200\n",
      "7803/7803 - 4s - loss: 1.0795 - accuracy: 0.7869\n",
      "Epoch 79/200\n",
      "7803/7803 - 4s - loss: 1.0551 - accuracy: 0.7920\n",
      "Epoch 80/200\n",
      "7803/7803 - 4s - loss: 1.0290 - accuracy: 0.7962\n",
      "Epoch 81/200\n",
      "7803/7803 - 4s - loss: 1.0075 - accuracy: 0.7999\n",
      "Epoch 82/200\n",
      "7803/7803 - 4s - loss: 0.9820 - accuracy: 0.8067\n",
      "Epoch 83/200\n",
      "7803/7803 - 4s - loss: 0.9585 - accuracy: 0.8134\n",
      "Epoch 84/200\n",
      "7803/7803 - 4s - loss: 0.9367 - accuracy: 0.8148\n",
      "Epoch 85/200\n",
      "7803/7803 - 4s - loss: 0.9123 - accuracy: 0.8190\n",
      "Epoch 86/200\n",
      "7803/7803 - 4s - loss: 0.8911 - accuracy: 0.8249\n",
      "Epoch 87/200\n",
      "7803/7803 - 4s - loss: 0.8733 - accuracy: 0.8278\n",
      "Epoch 88/200\n",
      "7803/7803 - 4s - loss: 0.8530 - accuracy: 0.8311\n",
      "Epoch 89/200\n",
      "7803/7803 - 4s - loss: 0.8325 - accuracy: 0.8381\n",
      "Epoch 90/200\n",
      "7803/7803 - 4s - loss: 0.8140 - accuracy: 0.8397\n",
      "Epoch 91/200\n",
      "7803/7803 - 4s - loss: 0.7952 - accuracy: 0.8471\n",
      "Epoch 92/200\n",
      "7803/7803 - 4s - loss: 0.7761 - accuracy: 0.8478\n",
      "Epoch 93/200\n",
      "7803/7803 - 4s - loss: 0.7594 - accuracy: 0.8515\n",
      "Epoch 94/200\n",
      "7803/7803 - 4s - loss: 0.7417 - accuracy: 0.8539\n",
      "Epoch 95/200\n",
      "7803/7803 - 4s - loss: 0.7257 - accuracy: 0.8611\n",
      "Epoch 96/200\n",
      "7803/7803 - 4s - loss: 0.7104 - accuracy: 0.8607\n",
      "Epoch 97/200\n",
      "7803/7803 - 4s - loss: 0.6929 - accuracy: 0.8611\n",
      "Epoch 98/200\n",
      "7803/7803 - 4s - loss: 0.6776 - accuracy: 0.8652\n",
      "Epoch 99/200\n",
      "7803/7803 - 4s - loss: 0.6658 - accuracy: 0.8700\n",
      "Epoch 100/200\n",
      "7803/7803 - 4s - loss: 0.6488 - accuracy: 0.8715\n",
      "Epoch 101/200\n",
      "7803/7803 - 4s - loss: 0.6336 - accuracy: 0.8762\n",
      "Epoch 102/200\n",
      "7803/7803 - 4s - loss: 0.6198 - accuracy: 0.8807\n",
      "Epoch 103/200\n",
      "7803/7803 - 4s - loss: 0.6091 - accuracy: 0.8800\n",
      "Epoch 104/200\n",
      "7803/7803 - 4s - loss: 0.5940 - accuracy: 0.8857\n",
      "Epoch 105/200\n",
      "7803/7803 - 4s - loss: 0.5829 - accuracy: 0.8877\n",
      "Epoch 106/200\n",
      "7803/7803 - 4s - loss: 0.5718 - accuracy: 0.8904\n",
      "Epoch 107/200\n",
      "7803/7803 - 4s - loss: 0.5581 - accuracy: 0.8909\n",
      "Epoch 108/200\n",
      "7803/7803 - 4s - loss: 0.5445 - accuracy: 0.8952\n",
      "Epoch 109/200\n",
      "7803/7803 - 4s - loss: 0.5334 - accuracy: 0.8947\n",
      "Epoch 110/200\n",
      "7803/7803 - 4s - loss: 0.5238 - accuracy: 0.8968\n",
      "Epoch 111/200\n",
      "7803/7803 - 4s - loss: 0.5139 - accuracy: 0.8985\n",
      "Epoch 112/200\n",
      "7803/7803 - 4s - loss: 0.5012 - accuracy: 0.8984\n",
      "Epoch 113/200\n",
      "7803/7803 - 4s - loss: 0.4943 - accuracy: 0.9002\n",
      "Epoch 114/200\n",
      "7803/7803 - 4s - loss: 0.4869 - accuracy: 0.8981\n",
      "Epoch 115/200\n",
      "7803/7803 - 4s - loss: 0.4791 - accuracy: 0.9021\n",
      "Epoch 116/200\n",
      "7803/7803 - 4s - loss: 0.4659 - accuracy: 0.9044\n",
      "Epoch 117/200\n",
      "7803/7803 - 4s - loss: 0.4576 - accuracy: 0.9048\n",
      "Epoch 118/200\n",
      "7803/7803 - 4s - loss: 0.4468 - accuracy: 0.9077\n",
      "Epoch 119/200\n",
      "7803/7803 - 4s - loss: 0.4400 - accuracy: 0.9081\n",
      "Epoch 120/200\n",
      "7803/7803 - 4s - loss: 0.4342 - accuracy: 0.9082\n",
      "Epoch 121/200\n",
      "7803/7803 - 4s - loss: 0.4277 - accuracy: 0.9091\n",
      "Epoch 122/200\n",
      "7803/7803 - 4s - loss: 0.4204 - accuracy: 0.9088\n",
      "Epoch 123/200\n",
      "7803/7803 - 5s - loss: 0.4194 - accuracy: 0.9085\n",
      "Epoch 124/200\n",
      "7803/7803 - 5s - loss: 0.4086 - accuracy: 0.9097\n",
      "Epoch 125/200\n",
      "7803/7803 - 4s - loss: 0.3982 - accuracy: 0.9134\n",
      "Epoch 126/200\n",
      "7803/7803 - 4s - loss: 0.3908 - accuracy: 0.9123\n",
      "Epoch 127/200\n",
      "7803/7803 - 5s - loss: 0.3880 - accuracy: 0.9130\n",
      "Epoch 128/200\n",
      "7803/7803 - 4s - loss: 0.3939 - accuracy: 0.9120\n",
      "Epoch 129/200\n",
      "7803/7803 - 5s - loss: 0.3781 - accuracy: 0.9120\n",
      "Epoch 130/200\n",
      "7803/7803 - 5s - loss: 0.3697 - accuracy: 0.9136\n",
      "Epoch 131/200\n",
      "7803/7803 - 4s - loss: 0.3637 - accuracy: 0.9149\n",
      "Epoch 132/200\n",
      "7803/7803 - 4s - loss: 0.3599 - accuracy: 0.9157\n"
     ]
    },
    {
     "name": "stdout",
     "output_type": "stream",
     "text": [
      "Epoch 133/200\n",
      "7803/7803 - 4s - loss: 0.3555 - accuracy: 0.9150\n",
      "Epoch 134/200\n",
      "7803/7803 - 4s - loss: 0.3527 - accuracy: 0.9138\n",
      "Epoch 135/200\n",
      "7803/7803 - 4s - loss: 0.3477 - accuracy: 0.9159\n",
      "Epoch 136/200\n",
      "7803/7803 - 4s - loss: 0.3480 - accuracy: 0.9145\n",
      "Epoch 137/200\n",
      "7803/7803 - 4s - loss: 0.3452 - accuracy: 0.9154\n",
      "Epoch 138/200\n",
      "7803/7803 - 4s - loss: 0.3495 - accuracy: 0.9143\n",
      "Epoch 139/200\n",
      "7803/7803 - 4s - loss: 0.3571 - accuracy: 0.9116\n",
      "Epoch 140/200\n",
      "7803/7803 - 4s - loss: 0.3550 - accuracy: 0.9117\n",
      "Epoch 141/200\n",
      "7803/7803 - 4s - loss: 0.3763 - accuracy: 0.9104\n",
      "Epoch 142/200\n",
      "7803/7803 - 4s - loss: 0.3438 - accuracy: 0.9138\n",
      "Epoch 143/200\n",
      "7803/7803 - 4s - loss: 0.3240 - accuracy: 0.9186\n",
      "Epoch 144/200\n",
      "7803/7803 - 4s - loss: 0.3179 - accuracy: 0.9182\n",
      "Epoch 145/200\n",
      "7803/7803 - 4s - loss: 0.3150 - accuracy: 0.9173\n",
      "Epoch 146/200\n",
      "7803/7803 - 4s - loss: 0.3128 - accuracy: 0.9180\n",
      "Epoch 147/200\n",
      "7803/7803 - 4s - loss: 0.3109 - accuracy: 0.9167\n",
      "Epoch 148/200\n",
      "7803/7803 - 4s - loss: 0.3114 - accuracy: 0.9166\n",
      "Epoch 149/200\n",
      "7803/7803 - 4s - loss: 0.3071 - accuracy: 0.9157\n",
      "Epoch 150/200\n",
      "7803/7803 - 4s - loss: 0.3060 - accuracy: 0.9172\n",
      "Epoch 151/200\n",
      "7803/7803 - 4s - loss: 0.3025 - accuracy: 0.9175\n",
      "Epoch 152/200\n",
      "7803/7803 - 4s - loss: 0.3015 - accuracy: 0.9181\n",
      "Epoch 153/200\n",
      "7803/7803 - 4s - loss: 0.2993 - accuracy: 0.9185\n",
      "Epoch 154/200\n",
      "7803/7803 - 4s - loss: 0.2989 - accuracy: 0.9168\n",
      "Epoch 155/200\n",
      "7803/7803 - 4s - loss: 0.3005 - accuracy: 0.9173\n",
      "Epoch 156/200\n",
      "7803/7803 - 4s - loss: 0.2947 - accuracy: 0.9177\n",
      "Epoch 157/200\n",
      "7803/7803 - 4s - loss: 0.2930 - accuracy: 0.9170\n",
      "Epoch 158/200\n",
      "7803/7803 - 4s - loss: 0.2924 - accuracy: 0.9181\n",
      "Epoch 159/200\n",
      "7803/7803 - 4s - loss: 0.2916 - accuracy: 0.9163\n",
      "Epoch 160/200\n",
      "7803/7803 - 4s - loss: 0.2902 - accuracy: 0.9166\n",
      "Epoch 161/200\n",
      "7803/7803 - 4s - loss: 0.2889 - accuracy: 0.9181\n",
      "Epoch 162/200\n",
      "7803/7803 - 4s - loss: 0.2870 - accuracy: 0.9144\n",
      "Epoch 163/200\n",
      "7803/7803 - 4s - loss: 0.2855 - accuracy: 0.9182\n",
      "Epoch 164/200\n",
      "7803/7803 - 4s - loss: 0.2917 - accuracy: 0.9168\n",
      "Epoch 165/200\n",
      "7803/7803 - 4s - loss: 0.3337 - accuracy: 0.9085\n",
      "Epoch 166/200\n",
      "7803/7803 - 4s - loss: 0.2982 - accuracy: 0.9150\n",
      "Epoch 167/200\n",
      "7803/7803 - 4s - loss: 0.2843 - accuracy: 0.9150\n",
      "Epoch 168/200\n",
      "7803/7803 - 4s - loss: 0.2856 - accuracy: 0.9162\n",
      "Epoch 169/200\n",
      "7803/7803 - 4s - loss: 0.2821 - accuracy: 0.9172\n",
      "Epoch 170/200\n",
      "7803/7803 - 4s - loss: 0.2774 - accuracy: 0.9173\n",
      "Epoch 171/200\n",
      "7803/7803 - 4s - loss: 0.2772 - accuracy: 0.9158\n",
      "Epoch 172/200\n",
      "7803/7803 - 4s - loss: 0.2763 - accuracy: 0.9164\n",
      "Epoch 173/200\n",
      "7803/7803 - 4s - loss: 0.2750 - accuracy: 0.9166\n",
      "Epoch 174/200\n",
      "7803/7803 - 4s - loss: 0.2749 - accuracy: 0.9172\n",
      "Epoch 175/200\n",
      "7803/7803 - 4s - loss: 0.2755 - accuracy: 0.9154\n",
      "Epoch 176/200\n",
      "7803/7803 - 4s - loss: 0.2748 - accuracy: 0.9168\n",
      "Epoch 177/200\n",
      "7803/7803 - 4s - loss: 0.2727 - accuracy: 0.9172\n",
      "Epoch 178/200\n",
      "7803/7803 - 4s - loss: 0.2728 - accuracy: 0.9167\n",
      "Epoch 179/200\n",
      "7803/7803 - 4s - loss: 0.2720 - accuracy: 0.9177\n",
      "Epoch 180/200\n",
      "7803/7803 - 4s - loss: 0.2724 - accuracy: 0.9162\n",
      "Epoch 181/200\n",
      "7803/7803 - 4s - loss: 0.2709 - accuracy: 0.9170\n",
      "Epoch 182/200\n",
      "7803/7803 - 4s - loss: 0.2714 - accuracy: 0.9158\n",
      "Epoch 183/200\n",
      "7803/7803 - 4s - loss: 0.2705 - accuracy: 0.9171\n",
      "Epoch 184/200\n",
      "7803/7803 - 4s - loss: 0.2703 - accuracy: 0.9171\n",
      "Epoch 185/200\n",
      "7803/7803 - 4s - loss: 0.2756 - accuracy: 0.9158\n",
      "Epoch 186/200\n",
      "7803/7803 - 4s - loss: 0.3070 - accuracy: 0.9102\n",
      "Epoch 187/200\n",
      "7803/7803 - 4s - loss: 0.2954 - accuracy: 0.9130\n",
      "Epoch 188/200\n",
      "7803/7803 - 4s - loss: 0.2813 - accuracy: 0.9146\n",
      "Epoch 189/200\n",
      "7803/7803 - 4s - loss: 0.2697 - accuracy: 0.9162\n",
      "Epoch 190/200\n",
      "7803/7803 - 4s - loss: 0.2663 - accuracy: 0.9173\n",
      "Epoch 191/200\n",
      "7803/7803 - 4s - loss: 0.2655 - accuracy: 0.9167\n",
      "Epoch 192/200\n",
      "7803/7803 - 4s - loss: 0.2648 - accuracy: 0.9161\n",
      "Epoch 193/200\n",
      "7803/7803 - 4s - loss: 0.2649 - accuracy: 0.9163\n",
      "Epoch 194/200\n",
      "7803/7803 - 4s - loss: 0.2655 - accuracy: 0.9161\n",
      "Epoch 195/200\n",
      "7803/7803 - 4s - loss: 0.2649 - accuracy: 0.9159\n",
      "Epoch 196/200\n",
      "7803/7803 - 4s - loss: 0.2645 - accuracy: 0.9173\n",
      "Epoch 197/200\n",
      "7803/7803 - 4s - loss: 0.2636 - accuracy: 0.9152\n",
      "Epoch 198/200\n",
      "7803/7803 - 4s - loss: 0.2645 - accuracy: 0.9155\n",
      "Epoch 199/200\n",
      "7803/7803 - 4s - loss: 0.2636 - accuracy: 0.9172\n",
      "Epoch 200/200\n",
      "7803/7803 - 4s - loss: 0.2654 - accuracy: 0.9159\n"
     ]
    },
    {
     "data": {
      "text/plain": [
       "<tensorflow.python.keras.callbacks.History at 0x1fd51c14748>"
      ]
     },
     "execution_count": 24,
     "metadata": {},
     "output_type": "execute_result"
    }
   ],
   "source": [
    "model.fit(X, y, epochs=200, verbose=2)"
   ]
  },
  {
   "cell_type": "markdown",
   "metadata": {},
   "source": [
    "## 3. 모델 검증"
   ]
  },
  {
   "cell_type": "code",
   "execution_count": 25,
   "metadata": {},
   "outputs": [],
   "source": [
    "def sentence_generation(model, t, current_word, n): # 모델, 토크나이저, 현재 단어, 반복할 횟수\n",
    "    init_word = current_word # 처음 들어온 단어도 마지막에 같이 출력하기위해 저장\n",
    "    sentence = ''\n",
    "    for _ in range(n): # n번 반복\n",
    "        encoded = t.texts_to_sequences([current_word])[0] # 현재 단어에 대한 정수 인코딩\n",
    "        encoded = pad_sequences([encoded], maxlen=23, padding='pre') # 데이터에 대한 패딩\n",
    "        result = model.predict_classes(encoded, verbose=0)\n",
    "          # 입력한 X(현재 단어)에 대해서 y를 예측하고 y(예측한 단어)를 result에 저장.\n",
    "        for word, index in t.word_index.items(): \n",
    "            if index == result: # 만약 예측한 단어와 인덱스와 동일한 단어가 있다면\n",
    "                break # 해당 단어가 예측 단어이므로 break\n",
    "        current_word = current_word + ' '  + word # 현재 단어 + ' ' + 예측 단어를 현재 단어로 변경\n",
    "        sentence = sentence + ' ' + word # 예측 단어를 문장에 저장\n",
    "\n",
    "    sentence = init_word + sentence\n",
    "    return sentence"
   ]
  },
  {
   "cell_type": "code",
   "execution_count": 26,
   "metadata": {},
   "outputs": [
    {
     "name": "stdout",
     "output_type": "stream",
     "text": [
      "i cant jump ship from facebook yet shouts of rekindle us\n"
     ]
    }
   ],
   "source": [
    "print(sentence_generation(model, t, 'i', 10))\n",
    "# 임의의 단어 'i'에 대해서 10개의 단어를 추가 생성"
   ]
  },
  {
   "cell_type": "code",
   "execution_count": 27,
   "metadata": {},
   "outputs": [
    {
     "name": "stdout",
     "output_type": "stream",
     "text": [
      "how do you get your nature fix be be ok to\n"
     ]
    }
   ],
   "source": [
    "print(sentence_generation(model, t, 'how', 10))\n",
    "# 임의의 단어 'how'에 대해서 10개의 단어를 추가 생성"
   ]
  },
  {
   "cell_type": "code",
   "execution_count": 28,
   "metadata": {},
   "outputs": [
    {
     "name": "stdout",
     "output_type": "stream",
     "text": [
      "former fbi deputy director is faulted in scathing inspector general report\n"
     ]
    }
   ],
   "source": [
    "print(sentence_generation(model, t, 'former', 10))"
   ]
  },
  {
   "cell_type": "markdown",
   "metadata": {},
   "source": [
    "### Weights and bias 확인"
   ]
  },
  {
   "cell_type": "code",
   "execution_count": 29,
   "metadata": {},
   "outputs": [
    {
     "data": {
      "text/plain": [
       "{'name': 'Embedding_Layer',\n",
       " 'trainable': True,\n",
       " 'batch_input_shape': (None, 23),\n",
       " 'dtype': 'float32',\n",
       " 'input_dim': 3494,\n",
       " 'output_dim': 10,\n",
       " 'embeddings_initializer': {'class_name': 'RandomUniform',\n",
       "  'config': {'minval': -0.05, 'maxval': 0.05, 'seed': None}},\n",
       " 'embeddings_regularizer': None,\n",
       " 'activity_regularizer': None,\n",
       " 'embeddings_constraint': None,\n",
       " 'mask_zero': False,\n",
       " 'input_length': 23}"
      ]
     },
     "execution_count": 29,
     "metadata": {},
     "output_type": "execute_result"
    }
   ],
   "source": [
    "embedding.get_config()"
   ]
  },
  {
   "cell_type": "code",
   "execution_count": 30,
   "metadata": {},
   "outputs": [
    {
     "data": {
      "text/plain": [
       "{'name': 'LSTM_Layer',\n",
       " 'trainable': True,\n",
       " 'dtype': 'float32',\n",
       " 'return_sequences': False,\n",
       " 'return_state': False,\n",
       " 'go_backwards': False,\n",
       " 'stateful': False,\n",
       " 'unroll': False,\n",
       " 'time_major': False,\n",
       " 'units': 128,\n",
       " 'activation': 'tanh',\n",
       " 'recurrent_activation': 'sigmoid',\n",
       " 'use_bias': True,\n",
       " 'kernel_initializer': {'class_name': 'GlorotUniform',\n",
       "  'config': {'seed': None}},\n",
       " 'recurrent_initializer': {'class_name': 'Orthogonal',\n",
       "  'config': {'gain': 1.0, 'seed': None}},\n",
       " 'bias_initializer': {'class_name': 'Zeros', 'config': {}},\n",
       " 'unit_forget_bias': True,\n",
       " 'kernel_regularizer': None,\n",
       " 'recurrent_regularizer': None,\n",
       " 'bias_regularizer': None,\n",
       " 'activity_regularizer': None,\n",
       " 'kernel_constraint': None,\n",
       " 'recurrent_constraint': None,\n",
       " 'bias_constraint': None,\n",
       " 'dropout': 0.0,\n",
       " 'recurrent_dropout': 0.0,\n",
       " 'implementation': 2}"
      ]
     },
     "execution_count": 30,
     "metadata": {},
     "output_type": "execute_result"
    }
   ],
   "source": [
    "lstm.get_config()"
   ]
  },
  {
   "cell_type": "code",
   "execution_count": 32,
   "metadata": {},
   "outputs": [
    {
     "data": {
      "text/plain": [
       "3"
      ]
     },
     "execution_count": 32,
     "metadata": {},
     "output_type": "execute_result"
    }
   ],
   "source": [
    "lstmw = lstm.get_weights()\n",
    "len(lstmw)"
   ]
  },
  {
   "cell_type": "code",
   "execution_count": 34,
   "metadata": {},
   "outputs": [
    {
     "data": {
      "text/plain": [
       "((10, 512), (128, 512), (512,))"
      ]
     },
     "execution_count": 34,
     "metadata": {},
     "output_type": "execute_result"
    }
   ],
   "source": [
    "lstmw[0].shape, lstmw[1].shape, lstmw[2].shape"
   ]
  },
  {
   "cell_type": "code",
   "execution_count": null,
   "metadata": {},
   "outputs": [],
   "source": []
  }
 ],
 "metadata": {
  "kernelspec": {
   "display_name": "Python 3",
   "language": "python",
   "name": "python3"
  },
  "language_info": {
   "codemirror_mode": {
    "name": "ipython",
    "version": 3
   },
   "file_extension": ".py",
   "mimetype": "text/x-python",
   "name": "python",
   "nbconvert_exporter": "python",
   "pygments_lexer": "ipython3",
   "version": "3.7.3"
  }
 },
 "nbformat": 4,
 "nbformat_minor": 2
}
