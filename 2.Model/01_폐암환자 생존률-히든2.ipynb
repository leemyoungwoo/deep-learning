{
 "cells": [
  {
   "cell_type": "markdown",
   "metadata": {},
   "source": [
    "## 폐암 수술 환자의 생존율 데이터 분석"
   ]
  },
  {
   "cell_type": "code",
   "execution_count": 1,
   "metadata": {},
   "outputs": [
    {
     "data": {
      "text/plain": [
       "'2.1.0'"
      ]
     },
     "execution_count": 1,
     "metadata": {},
     "output_type": "execute_result"
    }
   ],
   "source": [
    "import numpy as np\n",
    "import tensorflow as tf\n",
    "tf.__version__"
   ]
  },
  {
   "cell_type": "code",
   "execution_count": 2,
   "metadata": {},
   "outputs": [],
   "source": [
    "# 실행할 때마다 같은 결과를 출력하기 위한 seed 값 설정\n",
    "seed = 0\n",
    "np.random.seed(seed)\n",
    "tf.random.set_seed(seed)"
   ]
  },
  {
   "cell_type": "code",
   "execution_count": 3,
   "metadata": {},
   "outputs": [
    {
     "data": {
      "text/plain": [
       "array([[293.  ,   1.  ,   3.8 ,   2.8 ,   0.  ,   0.  ,   0.  ,   0.  ,\n",
       "          0.  ,   0.  ,  12.  ,   0.  ,   0.  ,   0.  ,   1.  ,   0.  ,\n",
       "         62.  ,   0.  ],\n",
       "       [  1.  ,   2.  ,   2.88,   2.16,   1.  ,   0.  ,   0.  ,   0.  ,\n",
       "          1.  ,   1.  ,  14.  ,   0.  ,   0.  ,   0.  ,   1.  ,   0.  ,\n",
       "         60.  ,   0.  ],\n",
       "       [  8.  ,   2.  ,   3.19,   2.5 ,   1.  ,   0.  ,   0.  ,   0.  ,\n",
       "          1.  ,   0.  ,  11.  ,   0.  ,   0.  ,   1.  ,   1.  ,   0.  ,\n",
       "         66.  ,   1.  ]])"
      ]
     },
     "execution_count": 3,
     "metadata": {},
     "output_type": "execute_result"
    }
   ],
   "source": [
    "Data_set = np.loadtxt(\"../dataset/ThoraricSurgery.csv\", delimiter=\",\")\n",
    "Data_set[:3,:]"
   ]
  },
  {
   "cell_type": "code",
   "execution_count": 4,
   "metadata": {},
   "outputs": [
    {
     "ename": "NameError",
     "evalue": "name 'X' is not defined",
     "output_type": "error",
     "traceback": [
      "\u001b[1;31m---------------------------------------------------------------------------\u001b[0m",
      "\u001b[1;31mNameError\u001b[0m                                 Traceback (most recent call last)",
      "\u001b[1;32m<ipython-input-4-2dca27f7d77b>\u001b[0m in \u001b[0;36m<module>\u001b[1;34m\u001b[0m\n\u001b[0;32m      2\u001b[0m \u001b[0mx_data\u001b[0m \u001b[1;33m=\u001b[0m \u001b[0mData_set\u001b[0m\u001b[1;33m[\u001b[0m\u001b[1;33m:\u001b[0m\u001b[1;33m,\u001b[0m \u001b[1;36m0\u001b[0m\u001b[1;33m:\u001b[0m\u001b[1;36m17\u001b[0m\u001b[1;33m]\u001b[0m\u001b[1;33m\u001b[0m\u001b[1;33m\u001b[0m\u001b[0m\n\u001b[0;32m      3\u001b[0m \u001b[0my_data\u001b[0m \u001b[1;33m=\u001b[0m \u001b[0mData_set\u001b[0m\u001b[1;33m[\u001b[0m\u001b[1;33m:\u001b[0m\u001b[1;33m,\u001b[0m \u001b[1;36m17\u001b[0m\u001b[1;33m]\u001b[0m\u001b[1;33m\u001b[0m\u001b[1;33m\u001b[0m\u001b[0m\n\u001b[1;32m----> 4\u001b[1;33m \u001b[0mX\u001b[0m\u001b[1;33m.\u001b[0m\u001b[0mshape\u001b[0m\u001b[1;33m,\u001b[0m \u001b[0mY\u001b[0m\u001b[1;33m.\u001b[0m\u001b[0mshape\u001b[0m\u001b[1;33m\u001b[0m\u001b[1;33m\u001b[0m\u001b[0m\n\u001b[0m",
      "\u001b[1;31mNameError\u001b[0m: name 'X' is not defined"
     ]
    }
   ],
   "source": [
    "# 환자의 기록과 수술 결과를 X와 Y로 구분하여 저장\n",
    "x_data = Data_set[:, 0:17]\n",
    "y_data = Data_set[:, 17]\n",
    "X.shape, Y.shape"
   ]
  },
  {
   "cell_type": "code",
   "execution_count": 5,
   "metadata": {},
   "outputs": [],
   "source": [
    "# 80% Train set, 20% Test set으로 분리"
   ]
  },
  {
   "cell_type": "code",
   "execution_count": 6,
   "metadata": {},
   "outputs": [],
   "source": [
    "from sklearn.model_selection import train_test_split"
   ]
  },
  {
   "cell_type": "code",
   "execution_count": 7,
   "metadata": {},
   "outputs": [],
   "source": [
    "x_train, x_test, y_train, y_test = train_test_split(x_data, y_data, \n",
    "                                                    test_size=0.2, random_state=2019)"
   ]
  },
  {
   "cell_type": "code",
   "execution_count": 8,
   "metadata": {},
   "outputs": [],
   "source": [
    "from tensorflow.keras.models import Sequential\n",
    "from tensorflow.keras.layers import Dense"
   ]
  },
  {
   "cell_type": "code",
   "execution_count": 10,
   "metadata": {},
   "outputs": [
    {
     "name": "stdout",
     "output_type": "stream",
     "text": [
      "Model: \"sequential\"\n",
      "_________________________________________________________________\n",
      "Layer (type)                 Output Shape              Param #   \n",
      "=================================================================\n",
      "dense (Dense)                (None, 24)                432       \n",
      "_________________________________________________________________\n",
      "dense_1 (Dense)              (None, 8)                 200       \n",
      "_________________________________________________________________\n",
      "dense_2 (Dense)              (None, 1)                 9         \n",
      "=================================================================\n",
      "Total params: 641\n",
      "Trainable params: 641\n",
      "Non-trainable params: 0\n",
      "_________________________________________________________________\n"
     ]
    }
   ],
   "source": [
    "# 딥러닝 모델 설정\n",
    "model = Sequential([\n",
    "    Dense(24, input_shape=(17,), activation='relu'),\n",
    "    Dense(8, activation='relu'),\n",
    "    Dense(1, activation='sigmoid')\n",
    "])\n",
    "model.summary()"
   ]
  },
  {
   "cell_type": "code",
   "execution_count": 11,
   "metadata": {},
   "outputs": [],
   "source": [
    "# 딥러닝 환경 설정 (오차함수, 최적화함수)\n",
    "model.compile(loss='binary_crossentropy', optimizer='adam', metrics=['accuracy'])"
   ]
  },
  {
   "cell_type": "code",
   "execution_count": 12,
   "metadata": {},
   "outputs": [
    {
     "name": "stdout",
     "output_type": "stream",
     "text": [
      "Train on 300 samples, validate on 76 samples\n",
      "Epoch 1/20\n",
      "300/300 [==============================] - 0s 1ms/sample - loss: 2.5894 - accuracy: 0.8100 - val_loss: 1.4948 - val_accuracy: 0.4605\n",
      "Epoch 2/20\n",
      "300/300 [==============================] - 0s 100us/sample - loss: 0.6618 - accuracy: 0.7400 - val_loss: 0.7483 - val_accuracy: 0.8289\n",
      "Epoch 3/20\n",
      "300/300 [==============================] - 0s 103us/sample - loss: 0.4469 - accuracy: 0.8400 - val_loss: 0.5608 - val_accuracy: 0.8289\n",
      "Epoch 4/20\n",
      "300/300 [==============================] - 0s 105us/sample - loss: 0.4538 - accuracy: 0.8467 - val_loss: 0.5354 - val_accuracy: 0.8289\n",
      "Epoch 5/20\n",
      "300/300 [==============================] - 0s 107us/sample - loss: 0.4477 - accuracy: 0.8500 - val_loss: 0.5308 - val_accuracy: 0.8289\n",
      "Epoch 6/20\n",
      "300/300 [==============================] - 0s 111us/sample - loss: 0.4638 - accuracy: 0.8467 - val_loss: 0.5124 - val_accuracy: 0.8289\n",
      "Epoch 7/20\n",
      "300/300 [==============================] - 0s 107us/sample - loss: 0.4649 - accuracy: 0.8500 - val_loss: 0.5648 - val_accuracy: 0.8289\n",
      "Epoch 8/20\n",
      "300/300 [==============================] - 0s 107us/sample - loss: 0.4476 - accuracy: 0.8467 - val_loss: 0.5311 - val_accuracy: 0.8289\n",
      "Epoch 9/20\n",
      "300/300 [==============================] - 0s 103us/sample - loss: 0.4405 - accuracy: 0.8500 - val_loss: 0.5458 - val_accuracy: 0.8289\n",
      "Epoch 10/20\n",
      "300/300 [==============================] - 0s 104us/sample - loss: 0.5018 - accuracy: 0.8200 - val_loss: 0.5962 - val_accuracy: 0.8289\n",
      "Epoch 11/20\n",
      "300/300 [==============================] - 0s 104us/sample - loss: 0.4437 - accuracy: 0.8500 - val_loss: 0.5326 - val_accuracy: 0.8289\n",
      "Epoch 12/20\n",
      "300/300 [==============================] - 0s 102us/sample - loss: 0.4401 - accuracy: 0.8500 - val_loss: 0.5273 - val_accuracy: 0.8289\n",
      "Epoch 13/20\n",
      "300/300 [==============================] - 0s 107us/sample - loss: 0.4378 - accuracy: 0.8500 - val_loss: 0.5354 - val_accuracy: 0.8289\n",
      "Epoch 14/20\n",
      "300/300 [==============================] - 0s 110us/sample - loss: 0.4426 - accuracy: 0.8500 - val_loss: 0.4898 - val_accuracy: 0.8289\n",
      "Epoch 15/20\n",
      "300/300 [==============================] - 0s 103us/sample - loss: 0.4611 - accuracy: 0.8500 - val_loss: 0.5402 - val_accuracy: 0.8289\n",
      "Epoch 16/20\n",
      "300/300 [==============================] - 0s 107us/sample - loss: 0.4444 - accuracy: 0.8500 - val_loss: 0.4985 - val_accuracy: 0.8289\n",
      "Epoch 17/20\n",
      "300/300 [==============================] - 0s 113us/sample - loss: 0.4455 - accuracy: 0.8467 - val_loss: 0.4963 - val_accuracy: 0.8289\n",
      "Epoch 18/20\n",
      "300/300 [==============================] - 0s 110us/sample - loss: 0.4392 - accuracy: 0.8500 - val_loss: 0.5343 - val_accuracy: 0.8289\n",
      "Epoch 19/20\n",
      "300/300 [==============================] - 0s 107us/sample - loss: 0.4297 - accuracy: 0.8500 - val_loss: 0.5305 - val_accuracy: 0.8289\n",
      "Epoch 20/20\n",
      "300/300 [==============================] - 0s 113us/sample - loss: 0.4261 - accuracy: 0.8500 - val_loss: 0.4967 - val_accuracy: 0.8289\n"
     ]
    }
   ],
   "source": [
    "# 딥러닝 실행\n",
    "# Validation set의 비율을 20%\n",
    "history = model.fit(x_train, y_train, validation_split=0.2, epochs=20, batch_size=10)"
   ]
  },
  {
   "cell_type": "code",
   "execution_count": 13,
   "metadata": {},
   "outputs": [
    {
     "name": "stdout",
     "output_type": "stream",
     "text": [
      "94/94 - 0s - loss: 0.4400 - accuracy: 0.8723\n",
      "\n",
      " Accuracy: 0.8723\n"
     ]
    }
   ],
   "source": [
    "# 결과 출력\n",
    "# evaluate() returns the loss value & metrics values for the model \n",
    "print(\"\\n Accuracy: %.4f\" % (model.evaluate(x_test, y_test, verbose=2))[1])"
   ]
  },
  {
   "cell_type": "markdown",
   "metadata": {},
   "source": [
    "### 향후 아래 항목으로 이용 가능\n",
    "- history.history['accuracy']\n",
    "- history.history['val_accuracy']\n",
    "- history.history['loss']\n",
    "- history.history['val_loss']"
   ]
  },
  {
   "cell_type": "code",
   "execution_count": 14,
   "metadata": {},
   "outputs": [
    {
     "data": {
      "text/plain": [
       "<tensorflow.python.keras.callbacks.History at 0x1ffa576ea08>"
      ]
     },
     "execution_count": 14,
     "metadata": {},
     "output_type": "execute_result"
    }
   ],
   "source": [
    "history"
   ]
  },
  {
   "cell_type": "code",
   "execution_count": 15,
   "metadata": {
    "scrolled": true
   },
   "outputs": [
    {
     "data": {
      "text/html": [
       "<div>\n",
       "<style scoped>\n",
       "    .dataframe tbody tr th:only-of-type {\n",
       "        vertical-align: middle;\n",
       "    }\n",
       "\n",
       "    .dataframe tbody tr th {\n",
       "        vertical-align: top;\n",
       "    }\n",
       "\n",
       "    .dataframe thead th {\n",
       "        text-align: right;\n",
       "    }\n",
       "</style>\n",
       "<table border=\"1\" class=\"dataframe\">\n",
       "  <thead>\n",
       "    <tr style=\"text-align: right;\">\n",
       "      <th></th>\n",
       "      <th>loss</th>\n",
       "      <th>accuracy</th>\n",
       "      <th>val_loss</th>\n",
       "      <th>val_accuracy</th>\n",
       "    </tr>\n",
       "  </thead>\n",
       "  <tbody>\n",
       "    <tr>\n",
       "      <th>0</th>\n",
       "      <td>2.589436</td>\n",
       "      <td>0.810000</td>\n",
       "      <td>1.494822</td>\n",
       "      <td>0.460526</td>\n",
       "    </tr>\n",
       "    <tr>\n",
       "      <th>1</th>\n",
       "      <td>0.661765</td>\n",
       "      <td>0.740000</td>\n",
       "      <td>0.748267</td>\n",
       "      <td>0.828947</td>\n",
       "    </tr>\n",
       "    <tr>\n",
       "      <th>2</th>\n",
       "      <td>0.446921</td>\n",
       "      <td>0.840000</td>\n",
       "      <td>0.560766</td>\n",
       "      <td>0.828947</td>\n",
       "    </tr>\n",
       "    <tr>\n",
       "      <th>3</th>\n",
       "      <td>0.453835</td>\n",
       "      <td>0.846667</td>\n",
       "      <td>0.535412</td>\n",
       "      <td>0.828947</td>\n",
       "    </tr>\n",
       "    <tr>\n",
       "      <th>4</th>\n",
       "      <td>0.447689</td>\n",
       "      <td>0.850000</td>\n",
       "      <td>0.530846</td>\n",
       "      <td>0.828947</td>\n",
       "    </tr>\n",
       "  </tbody>\n",
       "</table>\n",
       "</div>"
      ],
      "text/plain": [
       "       loss  accuracy  val_loss  val_accuracy\n",
       "0  2.589436  0.810000  1.494822      0.460526\n",
       "1  0.661765  0.740000  0.748267      0.828947\n",
       "2  0.446921  0.840000  0.560766      0.828947\n",
       "3  0.453835  0.846667  0.535412      0.828947\n",
       "4  0.447689  0.850000  0.530846      0.828947"
      ]
     },
     "execution_count": 15,
     "metadata": {},
     "output_type": "execute_result"
    }
   ],
   "source": [
    "import pandas as pd\n",
    "\n",
    "df = pd.DataFrame(data=history.history)\n",
    "df.head()"
   ]
  },
  {
   "cell_type": "code",
   "execution_count": null,
   "metadata": {},
   "outputs": [],
   "source": []
  }
 ],
 "metadata": {
  "kernelspec": {
   "display_name": "Python 3",
   "language": "python",
   "name": "python3"
  },
  "language_info": {
   "codemirror_mode": {
    "name": "ipython",
    "version": 3
   },
   "file_extension": ".py",
   "mimetype": "text/x-python",
   "name": "python",
   "nbconvert_exporter": "python",
   "pygments_lexer": "ipython3",
   "version": "3.7.7"
  }
 },
 "nbformat": 4,
 "nbformat_minor": 4
}
