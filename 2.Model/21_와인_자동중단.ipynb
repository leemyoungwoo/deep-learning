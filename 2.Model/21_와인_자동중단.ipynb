{
 "cells": [
  {
   "cell_type": "markdown",
   "metadata": {},
   "source": [
    "# 베스트 모델 만들기 - 와인 사례"
   ]
  },
  {
   "cell_type": "markdown",
   "metadata": {},
   "source": [
    "## 이진 분류"
   ]
  },
  {
   "cell_type": "markdown",
   "metadata": {},
   "source": [
    "### 자동 중단"
   ]
  },
  {
   "cell_type": "code",
   "execution_count": 1,
   "metadata": {},
   "outputs": [],
   "source": [
    "import numpy as np\n",
    "import pandas as pd\n",
    "import tensorflow as tf\n",
    "\n",
    "from tensorflow.keras.models import Sequential\n",
    "from tensorflow.keras.layers import Dense\n",
    "from tensorflow.keras.callbacks import ModelCheckpoint, EarlyStopping"
   ]
  },
  {
   "cell_type": "code",
   "execution_count": 2,
   "metadata": {},
   "outputs": [],
   "source": [
    "# seed 값 설정\n",
    "seed = 0\n",
    "np.random.seed(seed)\n",
    "tf.random.set_seed(seed)"
   ]
  },
  {
   "cell_type": "code",
   "execution_count": 3,
   "metadata": {},
   "outputs": [],
   "source": [
    "# 데이터 입력\n",
    "df_pre = pd.read_csv('../dataset/wine.csv', header=None)\n",
    "df = df_pre.sample(frac=1)\n",
    "dataset = df.values\n",
    "X = dataset[:,0:12]\n",
    "Y = dataset[:,12]"
   ]
  },
  {
   "cell_type": "code",
   "execution_count": 4,
   "metadata": {},
   "outputs": [
    {
     "name": "stdout",
     "output_type": "stream",
     "text": [
      "Model: \"sequential\"\n",
      "_________________________________________________________________\n",
      "Layer (type)                 Output Shape              Param #   \n",
      "=================================================================\n",
      "dense (Dense)                (None, 30)                390       \n",
      "_________________________________________________________________\n",
      "dense_1 (Dense)              (None, 12)                372       \n",
      "_________________________________________________________________\n",
      "dense_2 (Dense)              (None, 8)                 104       \n",
      "_________________________________________________________________\n",
      "dense_3 (Dense)              (None, 1)                 9         \n",
      "=================================================================\n",
      "Total params: 875\n",
      "Trainable params: 875\n",
      "Non-trainable params: 0\n",
      "_________________________________________________________________\n"
     ]
    }
   ],
   "source": [
    "# 모델 설정\n",
    "model = Sequential([\n",
    "    Dense(30, input_dim=12, activation='relu'),\n",
    "    Dense(12, activation='relu'),\n",
    "    Dense(8, activation='relu'),\n",
    "    Dense(1, activation='sigmoid')\n",
    "]) \n",
    "model.summary()"
   ]
  },
  {
   "cell_type": "code",
   "execution_count": 5,
   "metadata": {},
   "outputs": [],
   "source": [
    "# 모델 컴파일 \n",
    "model.compile(loss='binary_crossentropy',\n",
    "              optimizer='adam',\n",
    "              metrics=['accuracy'])"
   ]
  },
  {
   "cell_type": "code",
   "execution_count": 6,
   "metadata": {},
   "outputs": [],
   "source": [
    "# 자동 중단 설정\n",
    "early_stopping_callback = EarlyStopping(monitor='val_loss', patience=100)"
   ]
  },
  {
   "cell_type": "code",
   "execution_count": 15,
   "metadata": {},
   "outputs": [
    {
     "name": "stdout",
     "output_type": "stream",
     "text": [
      "Train on 4352 samples, validate on 2145 samples\n",
      "Epoch 1/3500\n",
      "4352/4352 [==============================] - 0s 4us/sample - loss: 0.0363 - accuracy: 0.9894 - val_loss: 0.0499 - val_accuracy: 0.9893\n",
      "Epoch 2/3500\n",
      "4352/4352 [==============================] - 0s 4us/sample - loss: 0.0334 - accuracy: 0.9899 - val_loss: 0.0499 - val_accuracy: 0.9874\n",
      "Epoch 3/3500\n",
      "4352/4352 [==============================] - 0s 4us/sample - loss: 0.0351 - accuracy: 0.9894 - val_loss: 0.0494 - val_accuracy: 0.9883\n",
      "Epoch 4/3500\n",
      "4352/4352 [==============================] - 0s 4us/sample - loss: 0.0348 - accuracy: 0.9897 - val_loss: 0.0478 - val_accuracy: 0.9888\n",
      "Epoch 5/3500\n",
      "4352/4352 [==============================] - 0s 4us/sample - loss: 0.0356 - accuracy: 0.9906 - val_loss: 0.0461 - val_accuracy: 0.9865\n",
      "Epoch 6/3500\n",
      "4352/4352 [==============================] - 0s 4us/sample - loss: 0.0359 - accuracy: 0.9890 - val_loss: 0.0454 - val_accuracy: 0.9893\n",
      "Epoch 7/3500\n",
      "4352/4352 [==============================] - 0s 4us/sample - loss: 0.0342 - accuracy: 0.9899 - val_loss: 0.0488 - val_accuracy: 0.9879\n",
      "Epoch 8/3500\n",
      "4352/4352 [==============================] - 0s 4us/sample - loss: 0.0352 - accuracy: 0.9897 - val_loss: 0.0492 - val_accuracy: 0.9869\n",
      "Epoch 9/3500\n",
      "4352/4352 [==============================] - 0s 4us/sample - loss: 0.0363 - accuracy: 0.9887 - val_loss: 0.0480 - val_accuracy: 0.9888\n",
      "Epoch 10/3500\n",
      "4352/4352 [==============================] - ETA: 0s - loss: 0.0192 - accuracy: 0.99 - 0s 4us/sample - loss: 0.0356 - accuracy: 0.9892 - val_loss: 0.0515 - val_accuracy: 0.9883\n",
      "Epoch 11/3500\n",
      "4352/4352 [==============================] - 0s 4us/sample - loss: 0.0395 - accuracy: 0.9899 - val_loss: 0.0507 - val_accuracy: 0.9869\n",
      "Epoch 12/3500\n",
      "4352/4352 [==============================] - 0s 4us/sample - loss: 0.0348 - accuracy: 0.9894 - val_loss: 0.0527 - val_accuracy: 0.9860\n",
      "Epoch 13/3500\n",
      "4352/4352 [==============================] - 0s 4us/sample - loss: 0.0345 - accuracy: 0.9906 - val_loss: 0.0496 - val_accuracy: 0.9888\n",
      "Epoch 14/3500\n",
      "4352/4352 [==============================] - 0s 4us/sample - loss: 0.0342 - accuracy: 0.9894 - val_loss: 0.0491 - val_accuracy: 0.9888\n",
      "Epoch 15/3500\n",
      "4352/4352 [==============================] - 0s 4us/sample - loss: 0.0350 - accuracy: 0.9892 - val_loss: 0.0483 - val_accuracy: 0.9888\n",
      "Epoch 16/3500\n",
      "4352/4352 [==============================] - 0s 4us/sample - loss: 0.0367 - accuracy: 0.9903 - val_loss: 0.0509 - val_accuracy: 0.9888\n",
      "Epoch 17/3500\n",
      "4352/4352 [==============================] - 0s 4us/sample - loss: 0.0384 - accuracy: 0.9894 - val_loss: 0.0481 - val_accuracy: 0.9893\n",
      "Epoch 18/3500\n",
      "4352/4352 [==============================] - 0s 4us/sample - loss: 0.0372 - accuracy: 0.9890 - val_loss: 0.0482 - val_accuracy: 0.9888\n",
      "Epoch 19/3500\n",
      "4352/4352 [==============================] - 0s 4us/sample - loss: 0.0387 - accuracy: 0.9901 - val_loss: 0.0512 - val_accuracy: 0.9869\n",
      "Epoch 20/3500\n",
      "4352/4352 [==============================] - 0s 4us/sample - loss: 0.0411 - accuracy: 0.9892 - val_loss: 0.0508 - val_accuracy: 0.9879\n",
      "Epoch 21/3500\n",
      "4352/4352 [==============================] - 0s 4us/sample - loss: 0.0342 - accuracy: 0.9899 - val_loss: 0.0548 - val_accuracy: 0.9860\n",
      "Epoch 22/3500\n",
      "4352/4352 [==============================] - 0s 4us/sample - loss: 0.0355 - accuracy: 0.9887 - val_loss: 0.0504 - val_accuracy: 0.9883\n",
      "Epoch 23/3500\n",
      "4352/4352 [==============================] - 0s 4us/sample - loss: 0.0340 - accuracy: 0.9906 - val_loss: 0.0482 - val_accuracy: 0.9888\n",
      "Epoch 24/3500\n",
      "4352/4352 [==============================] - 0s 4us/sample - loss: 0.0358 - accuracy: 0.9894 - val_loss: 0.0547 - val_accuracy: 0.9860\n",
      "Epoch 25/3500\n",
      "4352/4352 [==============================] - 0s 4us/sample - loss: 0.0368 - accuracy: 0.9899 - val_loss: 0.0525 - val_accuracy: 0.9865\n",
      "Epoch 26/3500\n",
      "4352/4352 [==============================] - 0s 4us/sample - loss: 0.0421 - accuracy: 0.9871 - val_loss: 0.0615 - val_accuracy: 0.9837\n",
      "Epoch 27/3500\n",
      "4352/4352 [==============================] - 0s 4us/sample - loss: 0.0385 - accuracy: 0.9892 - val_loss: 0.0503 - val_accuracy: 0.9879\n",
      "Epoch 28/3500\n",
      "4352/4352 [==============================] - 0s 4us/sample - loss: 0.0352 - accuracy: 0.9901 - val_loss: 0.0504 - val_accuracy: 0.9869\n",
      "Epoch 29/3500\n",
      "4352/4352 [==============================] - 0s 4us/sample - loss: 0.0338 - accuracy: 0.9894 - val_loss: 0.0497 - val_accuracy: 0.9893\n",
      "Epoch 30/3500\n",
      "4352/4352 [==============================] - 0s 4us/sample - loss: 0.0358 - accuracy: 0.9890 - val_loss: 0.0509 - val_accuracy: 0.9879\n",
      "Epoch 31/3500\n",
      "4352/4352 [==============================] - 0s 4us/sample - loss: 0.0331 - accuracy: 0.9901 - val_loss: 0.0488 - val_accuracy: 0.9879\n",
      "Epoch 32/3500\n",
      "4352/4352 [==============================] - 0s 4us/sample - loss: 0.0344 - accuracy: 0.9910 - val_loss: 0.0492 - val_accuracy: 0.9888\n",
      "Epoch 33/3500\n",
      "4352/4352 [==============================] - 0s 4us/sample - loss: 0.0345 - accuracy: 0.9901 - val_loss: 0.0532 - val_accuracy: 0.9865\n",
      "Epoch 34/3500\n",
      "4352/4352 [==============================] - 0s 4us/sample - loss: 0.0341 - accuracy: 0.9908 - val_loss: 0.0488 - val_accuracy: 0.9879\n",
      "Epoch 35/3500\n",
      "4352/4352 [==============================] - 0s 4us/sample - loss: 0.0369 - accuracy: 0.9899 - val_loss: 0.0497 - val_accuracy: 0.9883\n",
      "Epoch 36/3500\n",
      "4352/4352 [==============================] - 0s 4us/sample - loss: 0.0349 - accuracy: 0.9899 - val_loss: 0.0497 - val_accuracy: 0.9883\n",
      "Epoch 37/3500\n",
      "4352/4352 [==============================] - 0s 4us/sample - loss: 0.0346 - accuracy: 0.9894 - val_loss: 0.0522 - val_accuracy: 0.9869\n",
      "Epoch 38/3500\n",
      "4352/4352 [==============================] - 0s 4us/sample - loss: 0.0340 - accuracy: 0.9906 - val_loss: 0.0588 - val_accuracy: 0.9855\n",
      "Epoch 39/3500\n",
      "4352/4352 [==============================] - 0s 4us/sample - loss: 0.0372 - accuracy: 0.9899 - val_loss: 0.0566 - val_accuracy: 0.9860\n",
      "Epoch 40/3500\n",
      "4352/4352 [==============================] - 0s 4us/sample - loss: 0.0351 - accuracy: 0.9897 - val_loss: 0.0545 - val_accuracy: 0.9865\n",
      "Epoch 41/3500\n",
      "4352/4352 [==============================] - 0s 4us/sample - loss: 0.0363 - accuracy: 0.9890 - val_loss: 0.0573 - val_accuracy: 0.9860\n",
      "Epoch 42/3500\n",
      "4352/4352 [==============================] - 0s 4us/sample - loss: 0.0355 - accuracy: 0.9901 - val_loss: 0.0520 - val_accuracy: 0.9874\n",
      "Epoch 43/3500\n",
      "4352/4352 [==============================] - 0s 4us/sample - loss: 0.0340 - accuracy: 0.9910 - val_loss: 0.0563 - val_accuracy: 0.9851\n",
      "Epoch 44/3500\n",
      "4352/4352 [==============================] - 0s 3us/sample - loss: 0.0350 - accuracy: 0.9901 - val_loss: 0.0515 - val_accuracy: 0.9883\n",
      "Epoch 45/3500\n",
      "4352/4352 [==============================] - 0s 4us/sample - loss: 0.0341 - accuracy: 0.9906 - val_loss: 0.0529 - val_accuracy: 0.9865\n",
      "Epoch 46/3500\n",
      "4352/4352 [==============================] - 0s 4us/sample - loss: 0.0340 - accuracy: 0.9892 - val_loss: 0.0522 - val_accuracy: 0.9869\n",
      "Epoch 47/3500\n",
      "4352/4352 [==============================] - 0s 4us/sample - loss: 0.0351 - accuracy: 0.9892 - val_loss: 0.0510 - val_accuracy: 0.9888\n",
      "Epoch 48/3500\n",
      "4352/4352 [==============================] - 0s 4us/sample - loss: 0.0349 - accuracy: 0.9901 - val_loss: 0.0475 - val_accuracy: 0.9897\n",
      "Epoch 49/3500\n",
      "4352/4352 [==============================] - 0s 4us/sample - loss: 0.0353 - accuracy: 0.9897 - val_loss: 0.0489 - val_accuracy: 0.9897\n",
      "Epoch 50/3500\n",
      "4352/4352 [==============================] - 0s 4us/sample - loss: 0.0364 - accuracy: 0.9894 - val_loss: 0.0492 - val_accuracy: 0.9897\n",
      "Epoch 51/3500\n",
      "4352/4352 [==============================] - ETA: 0s - loss: 0.0271 - accuracy: 0.99 - 0s 4us/sample - loss: 0.0342 - accuracy: 0.9908 - val_loss: 0.0494 - val_accuracy: 0.9879\n",
      "Epoch 52/3500\n",
      "4352/4352 [==============================] - 0s 4us/sample - loss: 0.0332 - accuracy: 0.9903 - val_loss: 0.0502 - val_accuracy: 0.9888\n",
      "Epoch 53/3500\n",
      "4352/4352 [==============================] - 0s 4us/sample - loss: 0.0332 - accuracy: 0.9906 - val_loss: 0.0512 - val_accuracy: 0.9879\n",
      "Epoch 54/3500\n",
      "4352/4352 [==============================] - 0s 4us/sample - loss: 0.0333 - accuracy: 0.9910 - val_loss: 0.0530 - val_accuracy: 0.9865\n",
      "Epoch 55/3500\n"
     ]
    },
    {
     "name": "stdout",
     "output_type": "stream",
     "text": [
      "4352/4352 [==============================] - 0s 4us/sample - loss: 0.0330 - accuracy: 0.9901 - val_loss: 0.0483 - val_accuracy: 0.9893\n",
      "Epoch 56/3500\n",
      "4352/4352 [==============================] - 0s 4us/sample - loss: 0.0342 - accuracy: 0.9908 - val_loss: 0.0538 - val_accuracy: 0.9869\n",
      "Epoch 57/3500\n",
      "4352/4352 [==============================] - 0s 4us/sample - loss: 0.0331 - accuracy: 0.9913 - val_loss: 0.0492 - val_accuracy: 0.9888\n",
      "Epoch 58/3500\n",
      "4352/4352 [==============================] - 0s 4us/sample - loss: 0.0330 - accuracy: 0.9901 - val_loss: 0.0488 - val_accuracy: 0.9879\n",
      "Epoch 59/3500\n",
      "4352/4352 [==============================] - 0s 4us/sample - loss: 0.0348 - accuracy: 0.9901 - val_loss: 0.0485 - val_accuracy: 0.9888\n",
      "Epoch 60/3500\n",
      "4352/4352 [==============================] - 0s 4us/sample - loss: 0.0341 - accuracy: 0.9903 - val_loss: 0.0495 - val_accuracy: 0.9879\n",
      "Epoch 61/3500\n",
      "4352/4352 [==============================] - 0s 4us/sample - loss: 0.0350 - accuracy: 0.9892 - val_loss: 0.0504 - val_accuracy: 0.9874\n",
      "Epoch 62/3500\n",
      "4352/4352 [==============================] - 0s 4us/sample - loss: 0.0349 - accuracy: 0.9908 - val_loss: 0.0496 - val_accuracy: 0.9879\n",
      "Epoch 63/3500\n",
      "4352/4352 [==============================] - 0s 4us/sample - loss: 0.0343 - accuracy: 0.9906 - val_loss: 0.0505 - val_accuracy: 0.9897\n",
      "Epoch 64/3500\n",
      "4352/4352 [==============================] - 0s 4us/sample - loss: 0.0360 - accuracy: 0.9890 - val_loss: 0.0511 - val_accuracy: 0.9874\n",
      "Epoch 65/3500\n",
      "4352/4352 [==============================] - 0s 4us/sample - loss: 0.0348 - accuracy: 0.9901 - val_loss: 0.0522 - val_accuracy: 0.9888\n",
      "Epoch 66/3500\n",
      "4352/4352 [==============================] - 0s 4us/sample - loss: 0.0346 - accuracy: 0.9892 - val_loss: 0.0491 - val_accuracy: 0.9893\n",
      "Epoch 67/3500\n",
      "4352/4352 [==============================] - 0s 4us/sample - loss: 0.0334 - accuracy: 0.9910 - val_loss: 0.0510 - val_accuracy: 0.9893\n",
      "Epoch 68/3500\n",
      "4352/4352 [==============================] - 0s 4us/sample - loss: 0.0338 - accuracy: 0.9903 - val_loss: 0.0488 - val_accuracy: 0.9893\n",
      "Epoch 69/3500\n",
      "4352/4352 [==============================] - 0s 4us/sample - loss: 0.0327 - accuracy: 0.9903 - val_loss: 0.0536 - val_accuracy: 0.9869\n",
      "Epoch 70/3500\n",
      "4352/4352 [==============================] - 0s 4us/sample - loss: 0.0337 - accuracy: 0.9906 - val_loss: 0.0501 - val_accuracy: 0.9883\n",
      "Epoch 71/3500\n",
      "4352/4352 [==============================] - 0s 4us/sample - loss: 0.0334 - accuracy: 0.9901 - val_loss: 0.0490 - val_accuracy: 0.9897\n",
      "Epoch 72/3500\n",
      "4352/4352 [==============================] - 0s 4us/sample - loss: 0.0330 - accuracy: 0.9908 - val_loss: 0.0482 - val_accuracy: 0.9902\n",
      "Epoch 73/3500\n",
      "4352/4352 [==============================] - 0s 4us/sample - loss: 0.0337 - accuracy: 0.9897 - val_loss: 0.0484 - val_accuracy: 0.9888\n",
      "Epoch 74/3500\n",
      "4352/4352 [==============================] - 0s 5us/sample - loss: 0.0343 - accuracy: 0.9890 - val_loss: 0.0496 - val_accuracy: 0.9893\n",
      "Epoch 75/3500\n",
      "4352/4352 [==============================] - 0s 4us/sample - loss: 0.0335 - accuracy: 0.9901 - val_loss: 0.0523 - val_accuracy: 0.9874\n",
      "Epoch 76/3500\n",
      "4352/4352 [==============================] - 0s 4us/sample - loss: 0.0334 - accuracy: 0.9903 - val_loss: 0.0515 - val_accuracy: 0.9893\n",
      "Epoch 77/3500\n",
      "4352/4352 [==============================] - 0s 4us/sample - loss: 0.0335 - accuracy: 0.9903 - val_loss: 0.0593 - val_accuracy: 0.9846\n",
      "Epoch 78/3500\n",
      "4352/4352 [==============================] - 0s 4us/sample - loss: 0.0336 - accuracy: 0.9885 - val_loss: 0.0511 - val_accuracy: 0.9879\n",
      "Epoch 79/3500\n",
      "4352/4352 [==============================] - 0s 4us/sample - loss: 0.0341 - accuracy: 0.9901 - val_loss: 0.0496 - val_accuracy: 0.9893\n",
      "Epoch 80/3500\n",
      "4352/4352 [==============================] - 0s 4us/sample - loss: 0.0331 - accuracy: 0.9910 - val_loss: 0.0488 - val_accuracy: 0.9893\n",
      "Epoch 81/3500\n",
      "4352/4352 [==============================] - 0s 4us/sample - loss: 0.0351 - accuracy: 0.9901 - val_loss: 0.0504 - val_accuracy: 0.9888\n",
      "Epoch 82/3500\n",
      "4352/4352 [==============================] - 0s 4us/sample - loss: 0.0349 - accuracy: 0.9892 - val_loss: 0.0500 - val_accuracy: 0.9883\n",
      "Epoch 83/3500\n",
      "4352/4352 [==============================] - 0s 4us/sample - loss: 0.0340 - accuracy: 0.9901 - val_loss: 0.0495 - val_accuracy: 0.9888\n",
      "Epoch 84/3500\n",
      "4352/4352 [==============================] - 0s 4us/sample - loss: 0.0372 - accuracy: 0.9887 - val_loss: 0.0487 - val_accuracy: 0.9888\n",
      "Epoch 85/3500\n",
      "4352/4352 [==============================] - 0s 4us/sample - loss: 0.0333 - accuracy: 0.9910 - val_loss: 0.0515 - val_accuracy: 0.9874\n",
      "Epoch 86/3500\n",
      "4352/4352 [==============================] - 0s 4us/sample - loss: 0.0324 - accuracy: 0.9915 - val_loss: 0.0497 - val_accuracy: 0.9888\n",
      "Epoch 87/3500\n",
      "4352/4352 [==============================] - 0s 4us/sample - loss: 0.0328 - accuracy: 0.9901 - val_loss: 0.0492 - val_accuracy: 0.9888\n",
      "Epoch 88/3500\n",
      "4352/4352 [==============================] - 0s 4us/sample - loss: 0.0343 - accuracy: 0.9899 - val_loss: 0.0495 - val_accuracy: 0.9893\n",
      "Epoch 89/3500\n",
      "4352/4352 [==============================] - 0s 4us/sample - loss: 0.0334 - accuracy: 0.9915 - val_loss: 0.0512 - val_accuracy: 0.9874\n",
      "Epoch 90/3500\n",
      "4352/4352 [==============================] - 0s 4us/sample - loss: 0.0361 - accuracy: 0.9899 - val_loss: 0.0561 - val_accuracy: 0.9837\n",
      "Epoch 91/3500\n",
      "4352/4352 [==============================] - 0s 4us/sample - loss: 0.0381 - accuracy: 0.9885 - val_loss: 0.0530 - val_accuracy: 0.9874\n",
      "Epoch 92/3500\n",
      "4352/4352 [==============================] - 0s 4us/sample - loss: 0.0366 - accuracy: 0.9887 - val_loss: 0.0498 - val_accuracy: 0.9879\n",
      "Epoch 93/3500\n",
      "4352/4352 [==============================] - 0s 4us/sample - loss: 0.0341 - accuracy: 0.9897 - val_loss: 0.0491 - val_accuracy: 0.9883\n",
      "Epoch 94/3500\n",
      "4352/4352 [==============================] - 0s 4us/sample - loss: 0.0330 - accuracy: 0.9906 - val_loss: 0.0489 - val_accuracy: 0.9888\n",
      "Epoch 95/3500\n",
      "4352/4352 [==============================] - 0s 4us/sample - loss: 0.0330 - accuracy: 0.9903 - val_loss: 0.0505 - val_accuracy: 0.9893\n",
      "Epoch 96/3500\n",
      "4352/4352 [==============================] - 0s 4us/sample - loss: 0.0328 - accuracy: 0.9892 - val_loss: 0.0493 - val_accuracy: 0.9893\n",
      "Epoch 97/3500\n",
      "4352/4352 [==============================] - 0s 4us/sample - loss: 0.0321 - accuracy: 0.9903 - val_loss: 0.0487 - val_accuracy: 0.9888\n",
      "Epoch 98/3500\n",
      "4352/4352 [==============================] - 0s 5us/sample - loss: 0.0343 - accuracy: 0.9899 - val_loss: 0.0490 - val_accuracy: 0.9897\n",
      "Epoch 99/3500\n",
      "4352/4352 [==============================] - 0s 3us/sample - loss: 0.0361 - accuracy: 0.9899 - val_loss: 0.0487 - val_accuracy: 0.9893\n",
      "Epoch 100/3500\n",
      "4352/4352 [==============================] - ETA: 0s - loss: 0.0172 - accuracy: 0.99 - 0s 4us/sample - loss: 0.0366 - accuracy: 0.9887 - val_loss: 0.0490 - val_accuracy: 0.9893\n",
      "Epoch 101/3500\n",
      "4352/4352 [==============================] - 0s 4us/sample - loss: 0.0365 - accuracy: 0.9903 - val_loss: 0.0481 - val_accuracy: 0.9902\n",
      "Epoch 102/3500\n",
      "4352/4352 [==============================] - 0s 4us/sample - loss: 0.0326 - accuracy: 0.9908 - val_loss: 0.0502 - val_accuracy: 0.9888\n",
      "Epoch 103/3500\n",
      "4352/4352 [==============================] - 0s 4us/sample - loss: 0.0337 - accuracy: 0.9897 - val_loss: 0.0499 - val_accuracy: 0.9888\n",
      "Epoch 104/3500\n",
      "4352/4352 [==============================] - 0s 4us/sample - loss: 0.0345 - accuracy: 0.9906 - val_loss: 0.0484 - val_accuracy: 0.9897\n",
      "Epoch 105/3500\n",
      "4352/4352 [==============================] - 0s 4us/sample - loss: 0.0365 - accuracy: 0.9890 - val_loss: 0.0489 - val_accuracy: 0.9893\n",
      "Epoch 106/3500\n",
      "4352/4352 [==============================] - 0s 4us/sample - loss: 0.0384 - accuracy: 0.9883 - val_loss: 0.0486 - val_accuracy: 0.9902\n"
     ]
    }
   ],
   "source": [
    "# 모델 실행 및 저장\n",
    "history = model.fit(X, Y, validation_split=0.33, epochs=3500, batch_size=500,verbose=1, callbacks=[early_stopping_callback])"
   ]
  },
  {
   "cell_type": "code",
   "execution_count": 16,
   "metadata": {},
   "outputs": [
    {
     "name": "stdout",
     "output_type": "stream",
     "text": [
      "6497/6497 - 0s - loss: 0.0376 - accuracy: 0.9906\n",
      "\n",
      " Accuracy: 0.9906\n"
     ]
    }
   ],
   "source": [
    "# 결과 출력\n",
    "print(\"\\n Accuracy: %.4f\" % (model.evaluate(X, Y, verbose=2)[1]))"
   ]
  },
  {
   "cell_type": "code",
   "execution_count": null,
   "metadata": {},
   "outputs": [],
   "source": []
  },
  {
   "cell_type": "code",
   "execution_count": null,
   "metadata": {},
   "outputs": [],
   "source": []
  },
  {
   "cell_type": "code",
   "execution_count": null,
   "metadata": {},
   "outputs": [],
   "source": []
  }
 ],
 "metadata": {
  "kernelspec": {
   "display_name": "Python 3",
   "language": "python",
   "name": "python3"
  },
  "language_info": {
   "codemirror_mode": {
    "name": "ipython",
    "version": 3
   },
   "file_extension": ".py",
   "mimetype": "text/x-python",
   "name": "python",
   "nbconvert_exporter": "python",
   "pygments_lexer": "ipython3",
   "version": "3.7.7"
  }
 },
 "nbformat": 4,
 "nbformat_minor": 4
}
